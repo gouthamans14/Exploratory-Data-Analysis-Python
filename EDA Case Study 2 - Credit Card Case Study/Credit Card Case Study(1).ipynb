{
 "cells": [
  {
   "cell_type": "markdown",
   "id": "fad4c0e7",
   "metadata": {},
   "source": [
    "# DATA EXPLORATORY ANALYSIS FOR CREDIT CARD DATA"
   ]
  },
  {
   "cell_type": "markdown",
   "id": "e554cb09",
   "metadata": {},
   "source": [
    "Importing Packages\n"
   ]
  },
  {
   "cell_type": "code",
   "execution_count": 940,
   "id": "f8e61f93",
   "metadata": {},
   "outputs": [],
   "source": [
    "import pandas as pd\n",
    "import numpy as np\n",
    "import datetime\n",
    "\n",
    "import matplotlib.pyplot as plt\n",
    "%matplotlib inline\n",
    "import seaborn as sns\n"
   ]
  },
  {
   "cell_type": "markdown",
   "id": "b52c0fbb",
   "metadata": {},
   "source": [
    "### Importing data"
   ]
  },
  {
   "cell_type": "code",
   "execution_count": 941,
   "id": "83bed210",
   "metadata": {},
   "outputs": [],
   "source": [
    "url=\"C:\\\\Users\\gouthaman\\Desktop\\FullStack_AI\\Data Science Using Python\\Project - Datascience\\Python Foundation Case Study 2 - Credit Card Case Study (1)\""
   ]
  },
  {
   "cell_type": "code",
   "execution_count": 1177,
   "id": "cc108a94",
   "metadata": {},
   "outputs": [],
   "source": [
    "customer = pd.read_csv(url+\"\\\\Customer Acqusition.csv\")\n",
    "repayment = pd.read_csv(url+\"\\\\Repayment.csv\")\n",
    "spend=pd.read_csv(url+\"\\\\spend.csv\")\n",
    "CreditCard = pd.read_excel(url+\"\\\\Credit Card Data.xlsx\")\n"
   ]
  },
  {
   "cell_type": "markdown",
   "id": "bef80ede",
   "metadata": {},
   "source": [
    "### 1. In the above dataset,\n",
    "#### a. In case age is less than 18, replace it with mean of age values."
   ]
  },
  {
   "cell_type": "code",
   "execution_count": 1178,
   "id": "99728e41",
   "metadata": {},
   "outputs": [],
   "source": [
    "customer.Age =np.where(customer.Age<18, round(customer.Age.mean()),customer.Age)"
   ]
  },
  {
   "cell_type": "code",
   "execution_count": 1179,
   "id": "741fa871",
   "metadata": {},
   "outputs": [],
   "source": [
    "#Merging Customer and Repayment\n",
    "\n",
    "Cus_repay=pd.merge(left=customer,right=repayment,how='inner',on=['Customer'])"
   ]
  },
  {
   "cell_type": "code",
   "execution_count": 1180,
   "id": "bc3d4356",
   "metadata": {},
   "outputs": [],
   "source": [
    "#Merging Cuetomer and Spend \n",
    "\n",
    "Cus_spend=pd.merge(left=customer,right=spend,how='inner',on='Customer')"
   ]
  },
  {
   "cell_type": "markdown",
   "id": "5d7f9bb0",
   "metadata": {},
   "source": [
    "#### b. In case spend amount is more than the limit, replace it with 50% of that customer’s limit.\n",
    "(customer’s limit provided in acquisition table is the per transaction limit on his card)\n"
   ]
  },
  {
   "cell_type": "code",
   "execution_count": 1181,
   "id": "cae1e4cf",
   "metadata": {},
   "outputs": [],
   "source": [
    "Cus_spend.loc[Cus_spend.Amount > Cus_spend.Limit,\"Amount\"] = Cus_spend.Limit*0.5"
   ]
  },
  {
   "cell_type": "markdown",
   "id": "fb1a57cd",
   "metadata": {},
   "source": [
    "#### c. Incase the repayment amount is more than the limit, replace the repayment with the limit."
   ]
  },
  {
   "cell_type": "code",
   "execution_count": 1182,
   "id": "e3e56e8a",
   "metadata": {},
   "outputs": [],
   "source": [
    "Cus_repay.loc[Cus_repay.Amount > Cus_repay.Limit,\"Amount\"]=Cus_repay.Limit*0.5"
   ]
  },
  {
   "cell_type": "markdown",
   "id": "c4bfa2a9",
   "metadata": {},
   "source": [
    "### 2. From the above dataset create the following summaries:\n"
   ]
  },
  {
   "cell_type": "markdown",
   "id": "df10373f",
   "metadata": {},
   "source": [
    "#### a. How many distinct customers exist?"
   ]
  },
  {
   "cell_type": "code",
   "execution_count": 1183,
   "id": "b923c94d",
   "metadata": {},
   "outputs": [
    {
     "data": {
      "text/plain": [
       "100"
      ]
     },
     "execution_count": 1183,
     "metadata": {},
     "output_type": "execute_result"
    }
   ],
   "source": [
    "customer.Customer.nunique()"
   ]
  },
  {
   "cell_type": "markdown",
   "id": "7cf6eddf",
   "metadata": {},
   "source": [
    "#### b. How many distinct categories exist?"
   ]
  },
  {
   "cell_type": "code",
   "execution_count": 1184,
   "id": "8cdd0afd",
   "metadata": {},
   "outputs": [
    {
     "data": {
      "text/plain": [
       "Govt             29\n",
       "Self Employed    23\n",
       "Normal Salary    22\n",
       "Salaried_Pvt     13\n",
       "Salaried_MNC     13\n",
       "Name: Segment, dtype: int64"
      ]
     },
     "execution_count": 1184,
     "metadata": {},
     "output_type": "execute_result"
    }
   ],
   "source": [
    "customer.Segment.value_counts()"
   ]
  },
  {
   "cell_type": "markdown",
   "id": "ff5d1e77",
   "metadata": {},
   "source": [
    "#### c. What is the average monthly spend by customers?"
   ]
  },
  {
   "cell_type": "code",
   "execution_count": 1185,
   "id": "1b20a189",
   "metadata": {},
   "outputs": [],
   "source": [
    "Cus_spend.Month = pd.to_datetime(Cus_spend.Month)"
   ]
  },
  {
   "cell_type": "code",
   "execution_count": 1186,
   "id": "c47c8986",
   "metadata": {},
   "outputs": [],
   "source": [
    "Cus_spend[\"Monthly\"] = Cus_spend.Month.apply(lambda X: pd.Timestamp.strftime(X,format='%B'))\n",
    "Cus_spend[\"Yearly\"] =Cus_spend.Month.dt.year"
   ]
  },
  {
   "cell_type": "code",
   "execution_count": 1187,
   "id": "b018e6eb",
   "metadata": {},
   "outputs": [
    {
     "data": {
      "text/plain": [
       "Monthly\n",
       "April        135035.93\n",
       "August       165759.60\n",
       "December     117272.68\n",
       "February     151261.57\n",
       "January      147770.18\n",
       "July         166326.82\n",
       "June         182037.73\n",
       "March        131840.76\n",
       "May          151623.98\n",
       "November     150428.43\n",
       "October      131017.85\n",
       "September    141131.70\n",
       "Name: Amount, dtype: float64"
      ]
     },
     "execution_count": 1187,
     "metadata": {},
     "output_type": "execute_result"
    }
   ],
   "source": [
    "round(Cus_spend.groupby([\"Monthly\"])['Amount'].mean(),2)"
   ]
  },
  {
   "cell_type": "markdown",
   "id": "2077ca5e",
   "metadata": {},
   "source": [
    "#### d. What is the average monthly repayment by customers?"
   ]
  },
  {
   "cell_type": "code",
   "execution_count": 1188,
   "id": "b89f1286",
   "metadata": {},
   "outputs": [
    {
     "data": {
      "text/html": [
       "<div>\n",
       "<style scoped>\n",
       "    .dataframe tbody tr th:only-of-type {\n",
       "        vertical-align: middle;\n",
       "    }\n",
       "\n",
       "    .dataframe tbody tr th {\n",
       "        vertical-align: top;\n",
       "    }\n",
       "\n",
       "    .dataframe thead th {\n",
       "        text-align: right;\n",
       "    }\n",
       "</style>\n",
       "<table border=\"1\" class=\"dataframe\">\n",
       "  <thead>\n",
       "    <tr style=\"text-align: right;\">\n",
       "      <th></th>\n",
       "      <th>No</th>\n",
       "      <th>Customer</th>\n",
       "      <th>Age</th>\n",
       "      <th>City</th>\n",
       "      <th>Product</th>\n",
       "      <th>Limit</th>\n",
       "      <th>Company</th>\n",
       "      <th>Segment</th>\n",
       "      <th>SL No:</th>\n",
       "      <th>Month</th>\n",
       "      <th>Amount</th>\n",
       "      <th>Monthly</th>\n",
       "      <th>Yearly</th>\n",
       "    </tr>\n",
       "  </thead>\n",
       "  <tbody>\n",
       "    <tr>\n",
       "      <th>0</th>\n",
       "      <td>1</td>\n",
       "      <td>A1</td>\n",
       "      <td>76</td>\n",
       "      <td>BANGALORE</td>\n",
       "      <td>Gold</td>\n",
       "      <td>500000.0</td>\n",
       "      <td>C1</td>\n",
       "      <td>Self Employed</td>\n",
       "      <td>1</td>\n",
       "      <td>2004-01-12</td>\n",
       "      <td>495414.75</td>\n",
       "      <td>January</td>\n",
       "      <td>2004</td>\n",
       "    </tr>\n",
       "    <tr>\n",
       "      <th>1</th>\n",
       "      <td>1</td>\n",
       "      <td>A1</td>\n",
       "      <td>76</td>\n",
       "      <td>BANGALORE</td>\n",
       "      <td>Gold</td>\n",
       "      <td>500000.0</td>\n",
       "      <td>C1</td>\n",
       "      <td>Self Employed</td>\n",
       "      <td>2</td>\n",
       "      <td>2004-01-03</td>\n",
       "      <td>245899.02</td>\n",
       "      <td>January</td>\n",
       "      <td>2004</td>\n",
       "    </tr>\n",
       "  </tbody>\n",
       "</table>\n",
       "</div>"
      ],
      "text/plain": [
       "   No Customer  Age       City Product     Limit Company        Segment  \\\n",
       "0   1       A1   76  BANGALORE    Gold  500000.0      C1  Self Employed   \n",
       "1   1       A1   76  BANGALORE    Gold  500000.0      C1  Self Employed   \n",
       "\n",
       "   SL No:      Month     Amount  Monthly Yearly  \n",
       "0       1 2004-01-12  495414.75  January   2004  \n",
       "1       2 2004-01-03  245899.02  January   2004  "
      ]
     },
     "execution_count": 1188,
     "metadata": {},
     "output_type": "execute_result"
    }
   ],
   "source": [
    "Cus_repay.Month = pd.to_datetime(Cus_repay.Month)\n",
    "Cus_repay[\"Monthly\"] = Cus_repay.Month.dt.strftime('%B')\n",
    "Cus_repay[\"Yearly\"] = Cus_repay.Month.dt.strftime('%Y')\n",
    "Cus_repay.head(2)"
   ]
  },
  {
   "cell_type": "code",
   "execution_count": 1240,
   "id": "eebbcb9b",
   "metadata": {},
   "outputs": [
    {
     "data": {
      "text/plain": [
       "Monthly\n",
       "April        154443.224933\n",
       "August       138837.578571\n",
       "December     176805.307500\n",
       "February     146350.905175\n",
       "January      150028.364984\n",
       "July         150917.898571\n",
       "June         100292.080625\n",
       "March        142549.308493\n",
       "May          174800.682180\n",
       "November     137751.426905\n",
       "October      158868.720417\n",
       "September    110095.418500\n",
       "Name: Amount, dtype: float64"
      ]
     },
     "execution_count": 1240,
     "metadata": {},
     "output_type": "execute_result"
    }
   ],
   "source": [
    "Cus_repay.groupby(['Monthly'])['Amount'].mean()"
   ]
  },
  {
   "cell_type": "markdown",
   "id": "7eead117",
   "metadata": {},
   "source": [
    "#### e. If the monthly rate of interest is 2.9%, what is the profit for the bank for each month?\n",
    "(Profit is defined as interest earned on Monthly Profit. Monthly Profit = Monthly repayment\n",
    "– Monthly spend. Interest is earned only on positive profits and not on negative amounts)"
   ]
  },
  {
   "cell_type": "code",
   "execution_count": 1191,
   "id": "1a167edd",
   "metadata": {},
   "outputs": [],
   "source": [
    "roi= 2.9/100\n",
    "Monthly_Profit= (Cus_repay.groupby([\"Monthly\"])['Amount'].sum()- Cus_spend.groupby(['Monthly'])['Amount'].sum()).reset_index()"
   ]
  },
  {
   "cell_type": "code",
   "execution_count": 1192,
   "id": "cb86ecfd",
   "metadata": {},
   "outputs": [],
   "source": [
    "Monthly_Profit= Monthly_Profit.loc[Monthly_Profit.Amount>0,[\"Monthly\",\"Amount\"]]"
   ]
  },
  {
   "cell_type": "code",
   "execution_count": 1193,
   "id": "ec411174",
   "metadata": {},
   "outputs": [
    {
     "data": {
      "text/html": [
       "<div>\n",
       "<style scoped>\n",
       "    .dataframe tbody tr th:only-of-type {\n",
       "        vertical-align: middle;\n",
       "    }\n",
       "\n",
       "    .dataframe tbody tr th {\n",
       "        vertical-align: top;\n",
       "    }\n",
       "\n",
       "    .dataframe thead th {\n",
       "        text-align: right;\n",
       "    }\n",
       "</style>\n",
       "<table border=\"1\" class=\"dataframe\">\n",
       "  <thead>\n",
       "    <tr style=\"text-align: right;\">\n",
       "      <th></th>\n",
       "      <th>Monthly</th>\n",
       "      <th>Amount</th>\n",
       "      <th>Interest</th>\n",
       "    </tr>\n",
       "  </thead>\n",
       "  <tbody>\n",
       "    <tr>\n",
       "      <th>0</th>\n",
       "      <td>April</td>\n",
       "      <td>2911094.64</td>\n",
       "      <td>84421.74456</td>\n",
       "    </tr>\n",
       "    <tr>\n",
       "      <th>2</th>\n",
       "      <td>December</td>\n",
       "      <td>959692.33</td>\n",
       "      <td>27831.07757</td>\n",
       "    </tr>\n",
       "    <tr>\n",
       "      <th>5</th>\n",
       "      <td>July</td>\n",
       "      <td>409250.68</td>\n",
       "      <td>11868.26972</td>\n",
       "    </tr>\n",
       "    <tr>\n",
       "      <th>7</th>\n",
       "      <td>March</td>\n",
       "      <td>763082.57</td>\n",
       "      <td>22129.39453</td>\n",
       "    </tr>\n",
       "    <tr>\n",
       "      <th>8</th>\n",
       "      <td>May</td>\n",
       "      <td>14655945.20</td>\n",
       "      <td>425022.41080</td>\n",
       "    </tr>\n",
       "    <tr>\n",
       "      <th>10</th>\n",
       "      <td>October</td>\n",
       "      <td>144349.37</td>\n",
       "      <td>4186.13173</td>\n",
       "    </tr>\n",
       "  </tbody>\n",
       "</table>\n",
       "</div>"
      ],
      "text/plain": [
       "     Monthly       Amount      Interest\n",
       "0      April   2911094.64   84421.74456\n",
       "2   December    959692.33   27831.07757\n",
       "5       July    409250.68   11868.26972\n",
       "7      March    763082.57   22129.39453\n",
       "8        May  14655945.20  425022.41080\n",
       "10   October    144349.37    4186.13173"
      ]
     },
     "execution_count": 1193,
     "metadata": {},
     "output_type": "execute_result"
    }
   ],
   "source": [
    "Monthly_Profit[\"Interest\"] = roi*Monthly_Profit.Amount\n",
    "Monthly_Profit"
   ]
  },
  {
   "cell_type": "markdown",
   "id": "75a88062",
   "metadata": {},
   "source": [
    "####  f. What are the top 5 product types?\n"
   ]
  },
  {
   "cell_type": "code",
   "execution_count": 958,
   "id": "130724a8",
   "metadata": {},
   "outputs": [
    {
     "data": {
      "text/plain": [
       "Type\n",
       "PETRO           28597384.98\n",
       "CAMERA          27690738.44\n",
       "FOOD            20519243.60\n",
       "AIR TICKET      20155847.12\n",
       "TRAIN TICKET    19995825.72\n",
       "SHOPPING        17106660.97\n",
       "Name: Amount, dtype: float64"
      ]
     },
     "execution_count": 958,
     "metadata": {},
     "output_type": "execute_result"
    }
   ],
   "source": [
    "Cus_spend.groupby(\"Type\")[\"Amount\"].sum().sort_values(ascending=False)[0:6]"
   ]
  },
  {
   "cell_type": "markdown",
   "id": "9ef5d50d",
   "metadata": {},
   "source": [
    "#### g. Which city is having maximum spend?"
   ]
  },
  {
   "cell_type": "code",
   "execution_count": 959,
   "id": "45042200",
   "metadata": {},
   "outputs": [
    {
     "data": {
      "text/plain": [
       "City\n",
       "COCHIN        45963513.50\n",
       "CALCUTTA      41108132.30\n",
       "BANGALORE     40461647.02\n",
       "BOMBAY        28603127.38\n",
       "CHENNAI       22128635.65\n",
       "TRIVANDRUM    15337155.87\n",
       "PATNA         15260586.97\n",
       "DELHI         10918286.54\n",
       "Name: Amount, dtype: float64"
      ]
     },
     "execution_count": 959,
     "metadata": {},
     "output_type": "execute_result"
    }
   ],
   "source": [
    "Cus_spend.groupby(\"City\")[\"Amount\"].sum().sort_values(ascending=False)"
   ]
  },
  {
   "cell_type": "markdown",
   "id": "f5acb0f0",
   "metadata": {},
   "source": [
    "##### Cochin is having maximum spend"
   ]
  },
  {
   "cell_type": "markdown",
   "id": "dc13869d",
   "metadata": {},
   "source": [
    "#### h. Which age group is spending more money?"
   ]
  },
  {
   "cell_type": "markdown",
   "id": "0b438b28",
   "metadata": {},
   "source": [
    "### Using Cut Method"
   ]
  },
  {
   "cell_type": "code",
   "execution_count": 1203,
   "id": "1de50b9b",
   "metadata": {},
   "outputs": [
    {
     "data": {
      "text/plain": [
       "21-30       346\n",
       "41-50       314\n",
       "31-40       274\n",
       "51-60       265\n",
       "71-80       152\n",
       "61-70       135\n",
       "below 20     14\n",
       "Name: Age Cat, dtype: int64"
      ]
     },
     "execution_count": 1203,
     "metadata": {},
     "output_type": "execute_result"
    }
   ],
   "source": [
    "cut_bins= [17,20,30,40,50,60,70,80]\n",
    "label= [\"below 20\",\"21-30\",\"31-40\",\"41-50\",\"51-60\",\"61-70\",\"71-80\"]\n",
    "Cus_spend['Age Cat']= pd.cut(Cus_spend.Age,bins=cut_bins,labels=label)\n",
    "Cus_spend[\"Age Cat\"].value_counts()"
   ]
  },
  {
   "cell_type": "code",
   "execution_count": 1204,
   "id": "137778c3",
   "metadata": {},
   "outputs": [
    {
     "data": {
      "text/html": [
       "<div>\n",
       "<style scoped>\n",
       "    .dataframe tbody tr th:only-of-type {\n",
       "        vertical-align: middle;\n",
       "    }\n",
       "\n",
       "    .dataframe tbody tr th {\n",
       "        vertical-align: top;\n",
       "    }\n",
       "\n",
       "    .dataframe thead th {\n",
       "        text-align: right;\n",
       "    }\n",
       "</style>\n",
       "<table border=\"1\" class=\"dataframe\">\n",
       "  <thead>\n",
       "    <tr style=\"text-align: right;\">\n",
       "      <th></th>\n",
       "      <th>Age Cat</th>\n",
       "      <th>Amount</th>\n",
       "    </tr>\n",
       "  </thead>\n",
       "  <tbody>\n",
       "    <tr>\n",
       "      <th>3</th>\n",
       "      <td>41-50</td>\n",
       "      <td>57048361.87</td>\n",
       "    </tr>\n",
       "    <tr>\n",
       "      <th>1</th>\n",
       "      <td>21-30</td>\n",
       "      <td>52619884.21</td>\n",
       "    </tr>\n",
       "    <tr>\n",
       "      <th>2</th>\n",
       "      <td>31-40</td>\n",
       "      <td>37329313.58</td>\n",
       "    </tr>\n",
       "    <tr>\n",
       "      <th>4</th>\n",
       "      <td>51-60</td>\n",
       "      <td>29702886.19</td>\n",
       "    </tr>\n",
       "    <tr>\n",
       "      <th>6</th>\n",
       "      <td>71-80</td>\n",
       "      <td>27832164.63</td>\n",
       "    </tr>\n",
       "    <tr>\n",
       "      <th>5</th>\n",
       "      <td>61-70</td>\n",
       "      <td>15178460.75</td>\n",
       "    </tr>\n",
       "    <tr>\n",
       "      <th>0</th>\n",
       "      <td>below 20</td>\n",
       "      <td>70014.00</td>\n",
       "    </tr>\n",
       "  </tbody>\n",
       "</table>\n",
       "</div>"
      ],
      "text/plain": [
       "    Age Cat       Amount\n",
       "3     41-50  57048361.87\n",
       "1     21-30  52619884.21\n",
       "2     31-40  37329313.58\n",
       "4     51-60  29702886.19\n",
       "6     71-80  27832164.63\n",
       "5     61-70  15178460.75\n",
       "0  below 20     70014.00"
      ]
     },
     "execution_count": 1204,
     "metadata": {},
     "output_type": "execute_result"
    }
   ],
   "source": [
    "df = Cus_spend.groupby(\"Age Cat\")[\"Amount\"].sum().reset_index()\n",
    "df.sort_values(by =\"Amount\",ascending =False)\n"
   ]
  },
  {
   "cell_type": "code",
   "execution_count": 1205,
   "id": "a8247be8",
   "metadata": {},
   "outputs": [],
   "source": [
    "##Cus_spend[(Cus_spend.Age==19)]"
   ]
  },
  {
   "cell_type": "markdown",
   "id": "73e81670",
   "metadata": {},
   "source": [
    "##### ans : 41-50 age people spend more money "
   ]
  },
  {
   "cell_type": "code",
   "execution_count": 1202,
   "id": "7b58dcc3",
   "metadata": {},
   "outputs": [],
   "source": [
    "### Using Qcut Method\n",
    "##Cus_spend.Age.describe()\n",
    "#Cus_spend['Age Cat'] =pd.qcut(Cus_spend.Age,q=4)\n",
    "#Age_df = Cus_spend.groupby(\"Age Cat\")[\"Amount\"].sum().reset_index()\n",
    "#Age_df.sort_values(by=\"Amount\",ascending = False)"
   ]
  },
  {
   "cell_type": "markdown",
   "id": "0470b6bc",
   "metadata": {},
   "source": [
    "#### i. Who are the top 10 customers in terms of repayment?"
   ]
  },
  {
   "cell_type": "code",
   "execution_count": 1206,
   "id": "38199d0b",
   "metadata": {},
   "outputs": [
    {
     "data": {
      "text/html": [
       "<div>\n",
       "<style scoped>\n",
       "    .dataframe tbody tr th:only-of-type {\n",
       "        vertical-align: middle;\n",
       "    }\n",
       "\n",
       "    .dataframe tbody tr th {\n",
       "        vertical-align: top;\n",
       "    }\n",
       "\n",
       "    .dataframe thead th {\n",
       "        text-align: right;\n",
       "    }\n",
       "</style>\n",
       "<table border=\"1\" class=\"dataframe\">\n",
       "  <thead>\n",
       "    <tr style=\"text-align: right;\">\n",
       "      <th></th>\n",
       "      <th>Customer</th>\n",
       "      <th>Amount</th>\n",
       "    </tr>\n",
       "  </thead>\n",
       "  <tbody>\n",
       "    <tr>\n",
       "      <th>0</th>\n",
       "      <td>A61</td>\n",
       "      <td>10539142.91</td>\n",
       "    </tr>\n",
       "    <tr>\n",
       "      <th>1</th>\n",
       "      <td>A60</td>\n",
       "      <td>9876290.74</td>\n",
       "    </tr>\n",
       "    <tr>\n",
       "      <th>2</th>\n",
       "      <td>A13</td>\n",
       "      <td>9572000.66</td>\n",
       "    </tr>\n",
       "    <tr>\n",
       "      <th>3</th>\n",
       "      <td>A43</td>\n",
       "      <td>8489871.46</td>\n",
       "    </tr>\n",
       "    <tr>\n",
       "      <th>4</th>\n",
       "      <td>A45</td>\n",
       "      <td>8448334.87</td>\n",
       "    </tr>\n",
       "    <tr>\n",
       "      <th>5</th>\n",
       "      <td>A12</td>\n",
       "      <td>8334760.16</td>\n",
       "    </tr>\n",
       "    <tr>\n",
       "      <th>6</th>\n",
       "      <td>A14</td>\n",
       "      <td>7943268.63</td>\n",
       "    </tr>\n",
       "    <tr>\n",
       "      <th>7</th>\n",
       "      <td>A44</td>\n",
       "      <td>7744730.12</td>\n",
       "    </tr>\n",
       "    <tr>\n",
       "      <th>8</th>\n",
       "      <td>A39</td>\n",
       "      <td>7622483.30</td>\n",
       "    </tr>\n",
       "    <tr>\n",
       "      <th>9</th>\n",
       "      <td>A42</td>\n",
       "      <td>7615460.86</td>\n",
       "    </tr>\n",
       "  </tbody>\n",
       "</table>\n",
       "</div>"
      ],
      "text/plain": [
       "  Customer       Amount\n",
       "0      A61  10539142.91\n",
       "1      A60   9876290.74\n",
       "2      A13   9572000.66\n",
       "3      A43   8489871.46\n",
       "4      A45   8448334.87\n",
       "5      A12   8334760.16\n",
       "6      A14   7943268.63\n",
       "7      A44   7744730.12\n",
       "8      A39   7622483.30\n",
       "9      A42   7615460.86"
      ]
     },
     "execution_count": 1206,
     "metadata": {},
     "output_type": "execute_result"
    }
   ],
   "source": [
    "df = Cus_repay.groupby(\"Customer\")['Amount'].sum().reset_index()\n",
    "df.sort_values(by=\"Amount\",ascending=False).iloc[0:10].reset_index(drop=True)"
   ]
  },
  {
   "cell_type": "markdown",
   "id": "a59b379e",
   "metadata": {},
   "source": [
    "### 3.Calculate the city wise spend on each product on yearly basis. Also include a graphical representation for the same."
   ]
  },
  {
   "cell_type": "code",
   "execution_count": 1215,
   "id": "4b4145b5",
   "metadata": {},
   "outputs": [
    {
     "data": {
      "text/html": [
       "<div>\n",
       "<style scoped>\n",
       "    .dataframe tbody tr th:only-of-type {\n",
       "        vertical-align: middle;\n",
       "    }\n",
       "\n",
       "    .dataframe tbody tr th {\n",
       "        vertical-align: top;\n",
       "    }\n",
       "\n",
       "    .dataframe thead th {\n",
       "        text-align: right;\n",
       "    }\n",
       "</style>\n",
       "<table border=\"1\" class=\"dataframe\">\n",
       "  <thead>\n",
       "    <tr style=\"text-align: right;\">\n",
       "      <th></th>\n",
       "      <th>Yearly</th>\n",
       "      <th>2004</th>\n",
       "      <th>2005</th>\n",
       "      <th>2006</th>\n",
       "    </tr>\n",
       "    <tr>\n",
       "      <th>Product</th>\n",
       "      <th>City</th>\n",
       "      <th></th>\n",
       "      <th></th>\n",
       "      <th></th>\n",
       "    </tr>\n",
       "  </thead>\n",
       "  <tbody>\n",
       "    <tr>\n",
       "      <th rowspan=\"8\" valign=\"top\">Gold</th>\n",
       "      <th>BANGALORE</th>\n",
       "      <td>9289878.54</td>\n",
       "      <td>12892362.99</td>\n",
       "      <td>12030611.09</td>\n",
       "    </tr>\n",
       "    <tr>\n",
       "      <th>BOMBAY</th>\n",
       "      <td>6987853.53</td>\n",
       "      <td>8983018.28</td>\n",
       "      <td>7917144.31</td>\n",
       "    </tr>\n",
       "    <tr>\n",
       "      <th>CALCUTTA</th>\n",
       "      <td>7477140.98</td>\n",
       "      <td>10303355.80</td>\n",
       "      <td>11167532.77</td>\n",
       "    </tr>\n",
       "    <tr>\n",
       "      <th>CHENNAI</th>\n",
       "      <td>1059618.50</td>\n",
       "      <td>3740945.58</td>\n",
       "      <td>2704288.62</td>\n",
       "    </tr>\n",
       "    <tr>\n",
       "      <th>COCHIN</th>\n",
       "      <td>7315850.15</td>\n",
       "      <td>12110613.03</td>\n",
       "      <td>10499142.38</td>\n",
       "    </tr>\n",
       "    <tr>\n",
       "      <th>DELHI</th>\n",
       "      <td>2806495.00</td>\n",
       "      <td>1964845.27</td>\n",
       "      <td>2957103.32</td>\n",
       "    </tr>\n",
       "    <tr>\n",
       "      <th>PATNA</th>\n",
       "      <td>2072567.90</td>\n",
       "      <td>3252615.77</td>\n",
       "      <td>2276181.69</td>\n",
       "    </tr>\n",
       "    <tr>\n",
       "      <th>TRIVANDRUM</th>\n",
       "      <td>2415102.84</td>\n",
       "      <td>1240375.85</td>\n",
       "      <td>2735710.87</td>\n",
       "    </tr>\n",
       "    <tr>\n",
       "      <th rowspan=\"8\" valign=\"top\">Platimum</th>\n",
       "      <th>BANGALORE</th>\n",
       "      <td>1112732.30</td>\n",
       "      <td>912284.97</td>\n",
       "      <td>685831.27</td>\n",
       "    </tr>\n",
       "    <tr>\n",
       "      <th>BOMBAY</th>\n",
       "      <td>897264.94</td>\n",
       "      <td>711804.94</td>\n",
       "      <td>972130.01</td>\n",
       "    </tr>\n",
       "    <tr>\n",
       "      <th>CALCUTTA</th>\n",
       "      <td>2037690.30</td>\n",
       "      <td>4434696.31</td>\n",
       "      <td>3589606.66</td>\n",
       "    </tr>\n",
       "    <tr>\n",
       "      <th>CHENNAI</th>\n",
       "      <td>3535652.38</td>\n",
       "      <td>5053956.32</td>\n",
       "      <td>5024923.40</td>\n",
       "    </tr>\n",
       "    <tr>\n",
       "      <th>COCHIN</th>\n",
       "      <td>3419904.07</td>\n",
       "      <td>4960921.71</td>\n",
       "      <td>4920592.29</td>\n",
       "    </tr>\n",
       "    <tr>\n",
       "      <th>DELHI</th>\n",
       "      <td>283512.89</td>\n",
       "      <td>494157.86</td>\n",
       "      <td>176788.72</td>\n",
       "    </tr>\n",
       "    <tr>\n",
       "      <th>PATNA</th>\n",
       "      <td>1113069.60</td>\n",
       "      <td>2883231.07</td>\n",
       "      <td>1256137.65</td>\n",
       "    </tr>\n",
       "    <tr>\n",
       "      <th>TRIVANDRUM</th>\n",
       "      <td>2161676.67</td>\n",
       "      <td>3601443.30</td>\n",
       "      <td>2147403.75</td>\n",
       "    </tr>\n",
       "    <tr>\n",
       "      <th rowspan=\"8\" valign=\"top\">Silver</th>\n",
       "      <th>BANGALORE</th>\n",
       "      <td>1291852.58</td>\n",
       "      <td>830612.34</td>\n",
       "      <td>1415480.94</td>\n",
       "    </tr>\n",
       "    <tr>\n",
       "      <th>BOMBAY</th>\n",
       "      <td>532089.03</td>\n",
       "      <td>508988.54</td>\n",
       "      <td>1092833.80</td>\n",
       "    </tr>\n",
       "    <tr>\n",
       "      <th>CALCUTTA</th>\n",
       "      <td>500006.00</td>\n",
       "      <td>440147.06</td>\n",
       "      <td>1157956.42</td>\n",
       "    </tr>\n",
       "    <tr>\n",
       "      <th>CHENNAI</th>\n",
       "      <td>282056.86</td>\n",
       "      <td>377184.49</td>\n",
       "      <td>350009.50</td>\n",
       "    </tr>\n",
       "    <tr>\n",
       "      <th>COCHIN</th>\n",
       "      <td>814229.62</td>\n",
       "      <td>652269.38</td>\n",
       "      <td>1269990.87</td>\n",
       "    </tr>\n",
       "    <tr>\n",
       "      <th>DELHI</th>\n",
       "      <td>768172.30</td>\n",
       "      <td>612311.21</td>\n",
       "      <td>854899.97</td>\n",
       "    </tr>\n",
       "    <tr>\n",
       "      <th>PATNA</th>\n",
       "      <td>756684.10</td>\n",
       "      <td>950094.19</td>\n",
       "      <td>700005.00</td>\n",
       "    </tr>\n",
       "    <tr>\n",
       "      <th>TRIVANDRUM</th>\n",
       "      <td>209667.48</td>\n",
       "      <td>269912.99</td>\n",
       "      <td>555862.12</td>\n",
       "    </tr>\n",
       "  </tbody>\n",
       "</table>\n",
       "</div>"
      ],
      "text/plain": [
       "Yearly                     2004         2005         2006\n",
       "Product  City                                            \n",
       "Gold     BANGALORE   9289878.54  12892362.99  12030611.09\n",
       "         BOMBAY      6987853.53   8983018.28   7917144.31\n",
       "         CALCUTTA    7477140.98  10303355.80  11167532.77\n",
       "         CHENNAI     1059618.50   3740945.58   2704288.62\n",
       "         COCHIN      7315850.15  12110613.03  10499142.38\n",
       "         DELHI       2806495.00   1964845.27   2957103.32\n",
       "         PATNA       2072567.90   3252615.77   2276181.69\n",
       "         TRIVANDRUM  2415102.84   1240375.85   2735710.87\n",
       "Platimum BANGALORE   1112732.30    912284.97    685831.27\n",
       "         BOMBAY       897264.94    711804.94    972130.01\n",
       "         CALCUTTA    2037690.30   4434696.31   3589606.66\n",
       "         CHENNAI     3535652.38   5053956.32   5024923.40\n",
       "         COCHIN      3419904.07   4960921.71   4920592.29\n",
       "         DELHI        283512.89    494157.86    176788.72\n",
       "         PATNA       1113069.60   2883231.07   1256137.65\n",
       "         TRIVANDRUM  2161676.67   3601443.30   2147403.75\n",
       "Silver   BANGALORE   1291852.58    830612.34   1415480.94\n",
       "         BOMBAY       532089.03    508988.54   1092833.80\n",
       "         CALCUTTA     500006.00    440147.06   1157956.42\n",
       "         CHENNAI      282056.86    377184.49    350009.50\n",
       "         COCHIN       814229.62    652269.38   1269990.87\n",
       "         DELHI        768172.30    612311.21    854899.97\n",
       "         PATNA        756684.10    950094.19    700005.00\n",
       "         TRIVANDRUM   209667.48    269912.99    555862.12"
      ]
     },
     "execution_count": 1215,
     "metadata": {},
     "output_type": "execute_result"
    }
   ],
   "source": [
    "City_spend = Cus_spend.pivot_table(index=[\"Product\",\"City\",],columns=\"Yearly\",values=\"Amount\",aggfunc=\"sum\")\n",
    "\n",
    "City_spend"
   ]
  },
  {
   "cell_type": "code",
   "execution_count": 1216,
   "id": "9ba4decb",
   "metadata": {},
   "outputs": [
    {
     "data": {
      "image/png": "[encoded data removed]",
      "text/plain": [
       "<Figure size 1440x720 with 1 Axes>"
      ]
     },
     "metadata": {
      "needs_background": "light"
     },
     "output_type": "display_data"
    }
   ],
   "source": [
    "City_spend.plot(kind=\"bar\",figsize=(20,10))\n",
    "plt.xlabel(\"City\")\n",
    "plt.ylabel(\"Spend\")\n",
    "plt.show()"
   ]
  },
  {
   "cell_type": "markdown",
   "id": "0a5e4db7",
   "metadata": {},
   "source": [
    "### 4. Create graphs for\n",
    " "
   ]
  },
  {
   "cell_type": "markdown",
   "id": "475adeab",
   "metadata": {},
   "source": [
    "#### a. Monthly comparison of total spends, city wise\n"
   ]
  },
  {
   "cell_type": "code",
   "execution_count": 1217,
   "id": "3481d6c2",
   "metadata": {},
   "outputs": [
    {
     "data": {
      "text/plain": [
       "<Figure size 2160x2160 with 0 Axes>"
      ]
     },
     "metadata": {},
     "output_type": "display_data"
    },
    {
     "data": {
      "image/png": "[encoded data removed]",
      "text/plain": [
       "<Figure size 1440x720 with 1 Axes>"
      ]
     },
     "metadata": {
      "needs_background": "light"
     },
     "output_type": "display_data"
    }
   ],
   "source": [
    "plt.figure(figsize=(30,30))\n",
    "Cus_spend.pivot_table(index=\"City\",columns=\"Monthly\",values=\"Amount\",aggfunc=\"sum\").plot(kind='bar',figsize=(20,10))\n",
    "\n",
    "plt.show()"
   ]
  },
  {
   "cell_type": "markdown",
   "id": "132877aa",
   "metadata": {},
   "source": [
    " #### b. Comparison of yearly spend on air tickets"
   ]
  },
  {
   "cell_type": "code",
   "execution_count": 1218,
   "id": "e1aa7bbe",
   "metadata": {},
   "outputs": [
    {
     "data": {
      "image/png": "[encoded data removed]",
      "text/plain": [
       "<Figure size 432x288 with 1 Axes>"
      ]
     },
     "metadata": {
      "needs_background": "light"
     },
     "output_type": "display_data"
    }
   ],
   "source": [
    "Cus_spend.loc[Cus_spend.Type=='AIR TICKET'].groupby(\"Yearly\")['Amount'].sum().plot(kind='bar')\n",
    "plt.ylabel(\"Amount\")\n",
    "plt.xlabel(\"Year\")\n",
    "plt.title(\"Comparison of yearly spend on air tickets\")\n",
    "plt.show()"
   ]
  },
  {
   "cell_type": "code",
   "execution_count": 1219,
   "id": "36309389",
   "metadata": {},
   "outputs": [
    {
     "data": {
      "image/png": "[encoded data removed]",
      "text/plain": [
       "<Figure size 360x360 with 1 Axes>"
      ]
     },
     "metadata": {
      "needs_background": "light"
     },
     "output_type": "display_data"
    }
   ],
   "source": [
    "#using seaborn\n",
    "df=Cus_spend.loc[Cus_spend.Type=='AIR TICKET'].groupby(\"Yearly\")['Amount'].sum()\n",
    "data = df.reset_index()\n",
    "sns.catplot(data=data,x=\"Yearly\",y=\"Amount\",kind='bar')\n",
    "plt.show()"
   ]
  },
  {
   "cell_type": "markdown",
   "id": "51c1a478",
   "metadata": {},
   "source": [
    "#### c. Comparison of monthly spend for each product (look for any seasonality that exists in terms of spend)\n"
   ]
  },
  {
   "cell_type": "code",
   "execution_count": 1229,
   "id": "9353e05d",
   "metadata": {},
   "outputs": [
    {
     "data": {
      "text/html": [
       "<div>\n",
       "<style scoped>\n",
       "    .dataframe tbody tr th:only-of-type {\n",
       "        vertical-align: middle;\n",
       "    }\n",
       "\n",
       "    .dataframe tbody tr th {\n",
       "        vertical-align: top;\n",
       "    }\n",
       "\n",
       "    .dataframe thead th {\n",
       "        text-align: right;\n",
       "    }\n",
       "</style>\n",
       "<table border=\"1\" class=\"dataframe\">\n",
       "  <thead>\n",
       "    <tr style=\"text-align: right;\">\n",
       "      <th>Monthly</th>\n",
       "      <th>January</th>\n",
       "      <th>February</th>\n",
       "      <th>March</th>\n",
       "      <th>April</th>\n",
       "      <th>May</th>\n",
       "      <th>June</th>\n",
       "      <th>July</th>\n",
       "      <th>August</th>\n",
       "      <th>September</th>\n",
       "      <th>October</th>\n",
       "      <th>November</th>\n",
       "      <th>December</th>\n",
       "    </tr>\n",
       "    <tr>\n",
       "      <th>Product</th>\n",
       "      <th></th>\n",
       "      <th></th>\n",
       "      <th></th>\n",
       "      <th></th>\n",
       "      <th></th>\n",
       "      <th></th>\n",
       "      <th></th>\n",
       "      <th></th>\n",
       "      <th></th>\n",
       "      <th></th>\n",
       "      <th></th>\n",
       "      <th></th>\n",
       "    </tr>\n",
       "  </thead>\n",
       "  <tbody>\n",
       "    <tr>\n",
       "      <th>Gold</th>\n",
       "      <td>32413831.83</td>\n",
       "      <td>24779179.55</td>\n",
       "      <td>19256972.48</td>\n",
       "      <td>13170572.59</td>\n",
       "      <td>21548169.76</td>\n",
       "      <td>6538862.64</td>\n",
       "      <td>5167416.37</td>\n",
       "      <td>4954030.42</td>\n",
       "      <td>3816887.62</td>\n",
       "      <td>3018223.38</td>\n",
       "      <td>9203267.46</td>\n",
       "      <td>2332940.96</td>\n",
       "    </tr>\n",
       "    <tr>\n",
       "      <th>Platimum</th>\n",
       "      <td>14951578.51</td>\n",
       "      <td>9134054.58</td>\n",
       "      <td>7288837.68</td>\n",
       "      <td>5182493.86</td>\n",
       "      <td>8151926.49</td>\n",
       "      <td>2965712.71</td>\n",
       "      <td>1288156.26</td>\n",
       "      <td>1714762.80</td>\n",
       "      <td>1667840.84</td>\n",
       "      <td>550275.04</td>\n",
       "      <td>2741618.42</td>\n",
       "      <td>750156.19</td>\n",
       "    </tr>\n",
       "    <tr>\n",
       "      <th>Silver</th>\n",
       "      <td>4206383.62</td>\n",
       "      <td>2087018.37</td>\n",
       "      <td>3909405.83</td>\n",
       "      <td>1902322.65</td>\n",
       "      <td>2140940.01</td>\n",
       "      <td>689537.61</td>\n",
       "      <td>530153.72</td>\n",
       "      <td>293109.82</td>\n",
       "      <td>442803.13</td>\n",
       "      <td>100001.50</td>\n",
       "      <td>691102.63</td>\n",
       "      <td>200537.90</td>\n",
       "    </tr>\n",
       "  </tbody>\n",
       "</table>\n",
       "</div>"
      ],
      "text/plain": [
       "Monthly       January     February        March        April          May  \\\n",
       "Product                                                                     \n",
       "Gold      32413831.83  24779179.55  19256972.48  13170572.59  21548169.76   \n",
       "Platimum  14951578.51   9134054.58   7288837.68   5182493.86   8151926.49   \n",
       "Silver     4206383.62   2087018.37   3909405.83   1902322.65   2140940.01   \n",
       "\n",
       "Monthly         June        July      August   September     October  \\\n",
       "Product                                                                \n",
       "Gold      6538862.64  5167416.37  4954030.42  3816887.62  3018223.38   \n",
       "Platimum  2965712.71  1288156.26  1714762.80  1667840.84   550275.04   \n",
       "Silver     689537.61   530153.72   293109.82   442803.13   100001.50   \n",
       "\n",
       "Monthly     November    December  \n",
       "Product                           \n",
       "Gold      9203267.46  2332940.96  \n",
       "Platimum  2741618.42   750156.19  \n",
       "Silver     691102.63   200537.90  "
      ]
     },
     "execution_count": 1229,
     "metadata": {},
     "output_type": "execute_result"
    }
   ],
   "source": [
    "Monthly_spend=Cus_spend.pivot_table(index=\"Product\",columns='Monthly',values=\"Amount\",aggfunc=\"sum\")\n",
    "a=Monthly_spend.loc[:,[\"January\",\"February\",\"March\",\"April\",\"May\",\"June\",\"July\",\"August\",\"September\",\"October\",\"November\",\"December\"]]\n",
    "a"
   ]
  },
  {
   "cell_type": "code",
   "execution_count": 1232,
   "id": "c81d92b1",
   "metadata": {},
   "outputs": [
    {
     "data": {
      "image/png": "[encoded data removed]",
      "text/plain": [
       "<Figure size 720x576 with 1 Axes>"
      ]
     },
     "metadata": {
      "needs_background": "light"
     },
     "output_type": "display_data"
    }
   ],
   "source": [
    "a.plot(kind=\"bar\",figsize=(10,8))\n",
    "plt.ylabel(\"Amount\")\n",
    "plt.show()"
   ]
  },
  {
   "cell_type": "markdown",
   "id": "a887364b",
   "metadata": {},
   "source": [
    "##### The spend is more in January for all 3 products\n",
    "1) In Gold and Platimum the spend dicreases from January till April and suddenly spikes in May\n",
    "\n",
    "2) The spend again decreases From june till October and spikes in November(Gold and Platimum)\n",
    "\n",
    "3) Gold and Platimum Customer spend is almost similar\n",
    "\n"
   ]
  },
  {
   "cell_type": "markdown",
   "id": "9206b850",
   "metadata": {},
   "source": [
    "### 5. Write user defined PYTHON function to perform the following analysis:"
   ]
  },
  {
   "cell_type": "markdown",
   "id": "7ae80339",
   "metadata": {},
   "source": [
    "You need to find top 10 customers for each city in terms of their repayment amount by\n",
    "different products and by different time periods i.e. year or month. The user should be able\n",
    "to specify the product (Gold/Silver/Platinum) and time period (yearly or monthly) and the\n",
    "function should automatically take these inputs while identifying the top 10 customers."
   ]
  },
  {
   "cell_type": "code",
   "execution_count": 1235,
   "id": "837f4569",
   "metadata": {},
   "outputs": [
    {
     "data": {
      "text/html": [
       "<div>\n",
       "<style scoped>\n",
       "    .dataframe tbody tr th:only-of-type {\n",
       "        vertical-align: middle;\n",
       "    }\n",
       "\n",
       "    .dataframe tbody tr th {\n",
       "        vertical-align: top;\n",
       "    }\n",
       "\n",
       "    .dataframe thead th {\n",
       "        text-align: right;\n",
       "    }\n",
       "</style>\n",
       "<table border=\"1\" class=\"dataframe\">\n",
       "  <thead>\n",
       "    <tr style=\"text-align: right;\">\n",
       "      <th></th>\n",
       "      <th>No</th>\n",
       "      <th>Customer</th>\n",
       "      <th>Age</th>\n",
       "      <th>City</th>\n",
       "      <th>Product</th>\n",
       "      <th>Limit</th>\n",
       "      <th>Company</th>\n",
       "      <th>Segment</th>\n",
       "      <th>SL No:</th>\n",
       "      <th>Month</th>\n",
       "      <th>Amount</th>\n",
       "      <th>Monthly</th>\n",
       "      <th>Yearly</th>\n",
       "    </tr>\n",
       "  </thead>\n",
       "  <tbody>\n",
       "    <tr>\n",
       "      <th>0</th>\n",
       "      <td>1</td>\n",
       "      <td>A1</td>\n",
       "      <td>76</td>\n",
       "      <td>BANGALORE</td>\n",
       "      <td>Gold</td>\n",
       "      <td>500000.0</td>\n",
       "      <td>C1</td>\n",
       "      <td>Self Employed</td>\n",
       "      <td>1</td>\n",
       "      <td>2004-01-12</td>\n",
       "      <td>495414.75</td>\n",
       "      <td>January</td>\n",
       "      <td>2004</td>\n",
       "    </tr>\n",
       "    <tr>\n",
       "      <th>1</th>\n",
       "      <td>1</td>\n",
       "      <td>A1</td>\n",
       "      <td>76</td>\n",
       "      <td>BANGALORE</td>\n",
       "      <td>Gold</td>\n",
       "      <td>500000.0</td>\n",
       "      <td>C1</td>\n",
       "      <td>Self Employed</td>\n",
       "      <td>2</td>\n",
       "      <td>2004-01-03</td>\n",
       "      <td>245899.02</td>\n",
       "      <td>January</td>\n",
       "      <td>2004</td>\n",
       "    </tr>\n",
       "    <tr>\n",
       "      <th>2</th>\n",
       "      <td>1</td>\n",
       "      <td>A1</td>\n",
       "      <td>76</td>\n",
       "      <td>BANGALORE</td>\n",
       "      <td>Gold</td>\n",
       "      <td>500000.0</td>\n",
       "      <td>C1</td>\n",
       "      <td>Self Employed</td>\n",
       "      <td>3</td>\n",
       "      <td>2004-01-15</td>\n",
       "      <td>259490.06</td>\n",
       "      <td>January</td>\n",
       "      <td>2004</td>\n",
       "    </tr>\n",
       "    <tr>\n",
       "      <th>3</th>\n",
       "      <td>1</td>\n",
       "      <td>A1</td>\n",
       "      <td>76</td>\n",
       "      <td>BANGALORE</td>\n",
       "      <td>Gold</td>\n",
       "      <td>500000.0</td>\n",
       "      <td>C1</td>\n",
       "      <td>Self Employed</td>\n",
       "      <td>4</td>\n",
       "      <td>2004-01-25</td>\n",
       "      <td>437555.12</td>\n",
       "      <td>January</td>\n",
       "      <td>2004</td>\n",
       "    </tr>\n",
       "    <tr>\n",
       "      <th>4</th>\n",
       "      <td>1</td>\n",
       "      <td>A1</td>\n",
       "      <td>76</td>\n",
       "      <td>BANGALORE</td>\n",
       "      <td>Gold</td>\n",
       "      <td>500000.0</td>\n",
       "      <td>C1</td>\n",
       "      <td>Self Employed</td>\n",
       "      <td>5</td>\n",
       "      <td>2005-01-17</td>\n",
       "      <td>165972.88</td>\n",
       "      <td>January</td>\n",
       "      <td>2005</td>\n",
       "    </tr>\n",
       "  </tbody>\n",
       "</table>\n",
       "</div>"
      ],
      "text/plain": [
       "   No Customer  Age       City Product     Limit Company        Segment  \\\n",
       "0   1       A1   76  BANGALORE    Gold  500000.0      C1  Self Employed   \n",
       "1   1       A1   76  BANGALORE    Gold  500000.0      C1  Self Employed   \n",
       "2   1       A1   76  BANGALORE    Gold  500000.0      C1  Self Employed   \n",
       "3   1       A1   76  BANGALORE    Gold  500000.0      C1  Self Employed   \n",
       "4   1       A1   76  BANGALORE    Gold  500000.0      C1  Self Employed   \n",
       "\n",
       "   SL No:      Month     Amount  Monthly Yearly  \n",
       "0       1 2004-01-12  495414.75  January   2004  \n",
       "1       2 2004-01-03  245899.02  January   2004  \n",
       "2       3 2004-01-15  259490.06  January   2004  \n",
       "3       4 2004-01-25  437555.12  January   2004  \n",
       "4       5 2005-01-17  165972.88  January   2005  "
      ]
     },
     "execution_count": 1235,
     "metadata": {},
     "output_type": "execute_result"
    }
   ],
   "source": [
    "Cus_repay.head()"
   ]
  },
  {
   "cell_type": "code",
   "execution_count": 1236,
   "id": "679da561",
   "metadata": {},
   "outputs": [],
   "source": [
    "def sum_function(TimePeriod,Product,X=Cus_repay):\n",
    "    Final_df= pd.DataFrame()\n",
    "    \n",
    "    if TimePeriod ==\"Yearly\":\n",
    "        print(\"Yearwise top 10 customer in each city for the Product\", Product)\n",
    "        \n",
    "        \n",
    "    if TimePeriod==\"Monthly\":\n",
    "        print(\"Monthwise top 10 customer in each city for the Product\", Product)\n",
    "    \n",
    "    df1= Cus_spend.pivot_table(index=[\"Product\",\"City\",\"Customer\"],columns=TimePeriod, values=\"Amount\",aggfunc=\"sum\")\n",
    "    \n",
    "    return df1.loc[Product]\n",
    "    \n",
    "    \n",
    "    \n",
    "    "
   ]
  },
  {
   "cell_type": "code",
   "execution_count": 1239,
   "id": "d52233d0",
   "metadata": {},
   "outputs": [
    {
     "name": "stdout",
     "output_type": "stream",
     "text": [
      "Yearwise top 10 customer in each city for the Product Platimum\n"
     ]
    },
    {
     "data": {
      "text/html": [
       "<div>\n",
       "<style scoped>\n",
       "    .dataframe tbody tr th:only-of-type {\n",
       "        vertical-align: middle;\n",
       "    }\n",
       "\n",
       "    .dataframe tbody tr th {\n",
       "        vertical-align: top;\n",
       "    }\n",
       "\n",
       "    .dataframe thead th {\n",
       "        text-align: right;\n",
       "    }\n",
       "</style>\n",
       "<table border=\"1\" class=\"dataframe\">\n",
       "  <thead>\n",
       "    <tr style=\"text-align: right;\">\n",
       "      <th></th>\n",
       "      <th>Yearly</th>\n",
       "      <th>2004</th>\n",
       "      <th>2005</th>\n",
       "      <th>2006</th>\n",
       "    </tr>\n",
       "    <tr>\n",
       "      <th>City</th>\n",
       "      <th>Customer</th>\n",
       "      <th></th>\n",
       "      <th></th>\n",
       "      <th></th>\n",
       "    </tr>\n",
       "  </thead>\n",
       "  <tbody>\n",
       "    <tr>\n",
       "      <th rowspan=\"4\" valign=\"top\">BANGALORE</th>\n",
       "      <th>A19</th>\n",
       "      <td>25000.00</td>\n",
       "      <td>40000.00</td>\n",
       "      <td>35000.00</td>\n",
       "    </tr>\n",
       "    <tr>\n",
       "      <th>A37</th>\n",
       "      <td>720953.28</td>\n",
       "      <td>458010.71</td>\n",
       "      <td>380289.90</td>\n",
       "    </tr>\n",
       "    <tr>\n",
       "      <th>A5</th>\n",
       "      <td>25005.00</td>\n",
       "      <td>30006.00</td>\n",
       "      <td>30006.00</td>\n",
       "    </tr>\n",
       "    <tr>\n",
       "      <th>A52</th>\n",
       "      <td>341774.02</td>\n",
       "      <td>384268.26</td>\n",
       "      <td>240535.37</td>\n",
       "    </tr>\n",
       "    <tr>\n",
       "      <th rowspan=\"6\" valign=\"top\">BOMBAY</th>\n",
       "      <th>A33</th>\n",
       "      <td>15003.00</td>\n",
       "      <td>15003.00</td>\n",
       "      <td>40008.00</td>\n",
       "    </tr>\n",
       "    <tr>\n",
       "      <th>A36</th>\n",
       "      <td>578845.86</td>\n",
       "      <td>450009.00</td>\n",
       "      <td>555214.54</td>\n",
       "    </tr>\n",
       "    <tr>\n",
       "      <th>A4</th>\n",
       "      <td>25002.50</td>\n",
       "      <td>15001.50</td>\n",
       "      <td>15001.50</td>\n",
       "    </tr>\n",
       "    <tr>\n",
       "      <th>A51</th>\n",
       "      <td>278413.58</td>\n",
       "      <td>221789.94</td>\n",
       "      <td>351904.47</td>\n",
       "    </tr>\n",
       "    <tr>\n",
       "      <th>A70</th>\n",
       "      <td>NaN</td>\n",
       "      <td>5000.50</td>\n",
       "      <td>5000.50</td>\n",
       "    </tr>\n",
       "    <tr>\n",
       "      <th>A71</th>\n",
       "      <td>NaN</td>\n",
       "      <td>5001.00</td>\n",
       "      <td>5001.00</td>\n",
       "    </tr>\n",
       "    <tr>\n",
       "      <th rowspan=\"7\" valign=\"top\">CALCUTTA</th>\n",
       "      <th>A20</th>\n",
       "      <td>30003.00</td>\n",
       "      <td>25002.50</td>\n",
       "      <td>45004.50</td>\n",
       "    </tr>\n",
       "    <tr>\n",
       "      <th>A34</th>\n",
       "      <td>100000.00</td>\n",
       "      <td>292113.33</td>\n",
       "      <td>332968.84</td>\n",
       "    </tr>\n",
       "    <tr>\n",
       "      <th>A40</th>\n",
       "      <td>1867679.80</td>\n",
       "      <td>4057569.48</td>\n",
       "      <td>3136619.32</td>\n",
       "    </tr>\n",
       "    <tr>\n",
       "      <th>A49</th>\n",
       "      <td>30006.00</td>\n",
       "      <td>55011.00</td>\n",
       "      <td>70014.00</td>\n",
       "    </tr>\n",
       "    <tr>\n",
       "      <th>A69</th>\n",
       "      <td>NaN</td>\n",
       "      <td>5000.00</td>\n",
       "      <td>5000.00</td>\n",
       "    </tr>\n",
       "    <tr>\n",
       "      <th>A98</th>\n",
       "      <td>5000.50</td>\n",
       "      <td>NaN</td>\n",
       "      <td>NaN</td>\n",
       "    </tr>\n",
       "    <tr>\n",
       "      <th>A99</th>\n",
       "      <td>5001.00</td>\n",
       "      <td>NaN</td>\n",
       "      <td>NaN</td>\n",
       "    </tr>\n",
       "    <tr>\n",
       "      <th rowspan=\"3\" valign=\"top\">CHENNAI</th>\n",
       "      <th>A38</th>\n",
       "      <td>2989801.45</td>\n",
       "      <td>3285401.37</td>\n",
       "      <td>2827600.80</td>\n",
       "    </tr>\n",
       "    <tr>\n",
       "      <th>A47</th>\n",
       "      <td>35000.00</td>\n",
       "      <td>65000.00</td>\n",
       "      <td>55000.00</td>\n",
       "    </tr>\n",
       "    <tr>\n",
       "      <th>A56</th>\n",
       "      <td>510850.93</td>\n",
       "      <td>1703554.95</td>\n",
       "      <td>2142322.60</td>\n",
       "    </tr>\n",
       "    <tr>\n",
       "      <th rowspan=\"7\" valign=\"top\">COCHIN</th>\n",
       "      <th>A21</th>\n",
       "      <td>57755.43</td>\n",
       "      <td>45009.00</td>\n",
       "      <td>67227.93</td>\n",
       "    </tr>\n",
       "    <tr>\n",
       "      <th>A3</th>\n",
       "      <td>10000.00</td>\n",
       "      <td>25000.00</td>\n",
       "      <td>20000.00</td>\n",
       "    </tr>\n",
       "    <tr>\n",
       "      <th>A35</th>\n",
       "      <td>291777.55</td>\n",
       "      <td>100001.00</td>\n",
       "      <td>365401.35</td>\n",
       "    </tr>\n",
       "    <tr>\n",
       "      <th>A41</th>\n",
       "      <td>1219909.25</td>\n",
       "      <td>3682647.01</td>\n",
       "      <td>2171856.91</td>\n",
       "    </tr>\n",
       "    <tr>\n",
       "      <th>A50</th>\n",
       "      <td>150000.00</td>\n",
       "      <td>390468.91</td>\n",
       "      <td>331167.94</td>\n",
       "    </tr>\n",
       "    <tr>\n",
       "      <th>A54</th>\n",
       "      <td>1690461.84</td>\n",
       "      <td>717795.79</td>\n",
       "      <td>1959937.16</td>\n",
       "    </tr>\n",
       "    <tr>\n",
       "      <th>A83</th>\n",
       "      <td>NaN</td>\n",
       "      <td>NaN</td>\n",
       "      <td>5001.00</td>\n",
       "    </tr>\n",
       "    <tr>\n",
       "      <th>DELHI</th>\n",
       "      <th>A53</th>\n",
       "      <td>283512.89</td>\n",
       "      <td>494157.86</td>\n",
       "      <td>176788.72</td>\n",
       "    </tr>\n",
       "    <tr>\n",
       "      <th>PATNA</th>\n",
       "      <th>A55</th>\n",
       "      <td>1113069.60</td>\n",
       "      <td>2883231.07</td>\n",
       "      <td>1256137.65</td>\n",
       "    </tr>\n",
       "    <tr>\n",
       "      <th rowspan=\"3\" valign=\"top\">TRIVANDRUM</th>\n",
       "      <th>A39</th>\n",
       "      <td>2126673.67</td>\n",
       "      <td>3531436.30</td>\n",
       "      <td>2092398.25</td>\n",
       "    </tr>\n",
       "    <tr>\n",
       "      <th>A48</th>\n",
       "      <td>30003.00</td>\n",
       "      <td>70007.00</td>\n",
       "      <td>55005.50</td>\n",
       "    </tr>\n",
       "    <tr>\n",
       "      <th>A97</th>\n",
       "      <td>5000.00</td>\n",
       "      <td>NaN</td>\n",
       "      <td>NaN</td>\n",
       "    </tr>\n",
       "  </tbody>\n",
       "</table>\n",
       "</div>"
      ],
      "text/plain": [
       "Yearly                     2004        2005        2006\n",
       "City       Customer                                    \n",
       "BANGALORE  A19         25000.00    40000.00    35000.00\n",
       "           A37        720953.28   458010.71   380289.90\n",
       "           A5          25005.00    30006.00    30006.00\n",
       "           A52        341774.02   384268.26   240535.37\n",
       "BOMBAY     A33         15003.00    15003.00    40008.00\n",
       "           A36        578845.86   450009.00   555214.54\n",
       "           A4          25002.50    15001.50    15001.50\n",
       "           A51        278413.58   221789.94   351904.47\n",
       "           A70              NaN     5000.50     5000.50\n",
       "           A71              NaN     5001.00     5001.00\n",
       "CALCUTTA   A20         30003.00    25002.50    45004.50\n",
       "           A34        100000.00   292113.33   332968.84\n",
       "           A40       1867679.80  4057569.48  3136619.32\n",
       "           A49         30006.00    55011.00    70014.00\n",
       "           A69              NaN     5000.00     5000.00\n",
       "           A98          5000.50         NaN         NaN\n",
       "           A99          5001.00         NaN         NaN\n",
       "CHENNAI    A38       2989801.45  3285401.37  2827600.80\n",
       "           A47         35000.00    65000.00    55000.00\n",
       "           A56        510850.93  1703554.95  2142322.60\n",
       "COCHIN     A21         57755.43    45009.00    67227.93\n",
       "           A3          10000.00    25000.00    20000.00\n",
       "           A35        291777.55   100001.00   365401.35\n",
       "           A41       1219909.25  3682647.01  2171856.91\n",
       "           A50        150000.00   390468.91   331167.94\n",
       "           A54       1690461.84   717795.79  1959937.16\n",
       "           A83              NaN         NaN     5001.00\n",
       "DELHI      A53        283512.89   494157.86   176788.72\n",
       "PATNA      A55       1113069.60  2883231.07  1256137.65\n",
       "TRIVANDRUM A39       2126673.67  3531436.30  2092398.25\n",
       "           A48         30003.00    70007.00    55005.50\n",
       "           A97          5000.00         NaN         NaN"
      ]
     },
     "execution_count": 1239,
     "metadata": {},
     "output_type": "execute_result"
    }
   ],
   "source": [
    "sum_function(\"Yearly\",\"Platimum\")"
   ]
  },
  {
   "cell_type": "code",
   "execution_count": null,
   "id": "21372685",
   "metadata": {},
   "outputs": [],
   "source": []
  }
 ],
 "metadata": {
  "kernelspec": {
   "display_name": "Python 3",
   "language": "python",
   "name": "python3"
  },
  "language_info": {
   "codemirror_mode": {
    "name": "ipython",
    "version": 3
   },
   "file_extension": ".py",
   "mimetype": "text/x-python",
   "name": "python",
   "nbconvert_exporter": "python",
   "pygments_lexer": "ipython3",
   "version": "3.8.8"
  }
 },
 "nbformat": 4,
 "nbformat_minor": 5
}
