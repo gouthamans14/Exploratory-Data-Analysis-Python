{
 "cells": [
  {
   "cell_type": "markdown",
   "id": "10fe33dc",
   "metadata": {},
   "source": [
    "#            CASE STUDY: CUSTOMER ANALYSIS FOR RETAIL"
   ]
  },
  {
   "cell_type": "markdown",
   "id": "87e19c8b",
   "metadata": {},
   "source": [
    "### Importing required Packages"
   ]
  },
  {
   "cell_type": "code",
   "execution_count": 1011,
   "id": "3cd9e6b0",
   "metadata": {},
   "outputs": [],
   "source": [
    "import pandas as pd\n",
    "import numpy as np\n",
    "\n",
    "import matplotlib.pyplot as plt\n",
    "import seaborn as sns\n",
    "%matplotlib inline\n"
   ]
  },
  {
   "cell_type": "markdown",
   "id": "07d45999",
   "metadata": {},
   "source": [
    "### Importing all data"
   ]
  },
  {
   "cell_type": "code",
   "execution_count": 1012,
   "id": "9d35bf36",
   "metadata": {},
   "outputs": [],
   "source": [
    "url = \"C:\\\\Users\\gouthaman\\Desktop\\FullStack_AI\\Data Science Using Python\\Case Study 1 - Retail Case Study\\\\\"\n",
    "\n",
    "customer = pd.read_csv(url+ \"Customer.csv\")\n",
    "prod_cat_info = pd.read_csv(url+\"prod_cat_info.csv\")\n",
    "transactions = pd.read_csv(url+\"Transactions.csv\")\n"
   ]
  },
  {
   "cell_type": "markdown",
   "id": "25c9c227",
   "metadata": {},
   "source": [
    "### Analysing structure of the Data"
   ]
  },
  {
   "cell_type": "code",
   "execution_count": 1013,
   "id": "1a3975f7",
   "metadata": {},
   "outputs": [
    {
     "data": {
      "text/plain": [
       "(5647, 4)"
      ]
     },
     "execution_count": 1013,
     "metadata": {},
     "output_type": "execute_result"
    }
   ],
   "source": [
    "customer.shape"
   ]
  },
  {
   "cell_type": "code",
   "execution_count": 1014,
   "id": "e2426e2f",
   "metadata": {},
   "outputs": [
    {
     "data": {
      "text/plain": [
       "(5643, 4)"
      ]
     },
     "execution_count": 1014,
     "metadata": {},
     "output_type": "execute_result"
    }
   ],
   "source": [
    "customer.dropna(inplace=True)\n",
    "customer.shape"
   ]
  },
  {
   "cell_type": "code",
   "execution_count": 1015,
   "id": "64c47da5",
   "metadata": {},
   "outputs": [
    {
     "data": {
      "text/plain": [
       "(23, 4)"
      ]
     },
     "execution_count": 1015,
     "metadata": {},
     "output_type": "execute_result"
    }
   ],
   "source": [
    "prod_cat_info.shape"
   ]
  },
  {
   "cell_type": "code",
   "execution_count": 1016,
   "id": "0ad083f2",
   "metadata": {},
   "outputs": [
    {
     "data": {
      "text/plain": [
       "prod_cat_code        0\n",
       "prod_cat             0\n",
       "prod_sub_cat_code    0\n",
       "prod_subcat          0\n",
       "dtype: int64"
      ]
     },
     "execution_count": 1016,
     "metadata": {},
     "output_type": "execute_result"
    }
   ],
   "source": [
    "prod_cat_info.isna().sum()"
   ]
  },
  {
   "cell_type": "code",
   "execution_count": 1017,
   "id": "c9c2b9ab",
   "metadata": {},
   "outputs": [
    {
     "data": {
      "text/plain": [
       "(23053, 10)"
      ]
     },
     "execution_count": 1017,
     "metadata": {},
     "output_type": "execute_result"
    }
   ],
   "source": [
    "transactions.shape"
   ]
  },
  {
   "cell_type": "code",
   "execution_count": 1018,
   "id": "2aa2f75e",
   "metadata": {},
   "outputs": [
    {
     "data": {
      "text/plain": [
       "transaction_id      0\n",
       "cust_id             0\n",
       "tran_date           0\n",
       "prod_subcat_code    0\n",
       "prod_cat_code       0\n",
       "Qty                 0\n",
       "Rate                0\n",
       "Tax                 0\n",
       "total_amt           0\n",
       "Store_type          0\n",
       "dtype: int64"
      ]
     },
     "execution_count": 1018,
     "metadata": {},
     "output_type": "execute_result"
    }
   ],
   "source": [
    "transactions.isna().sum()"
   ]
  },
  {
   "cell_type": "code",
   "execution_count": 1019,
   "id": "0253a77b",
   "metadata": {},
   "outputs": [
    {
     "data": {
      "text/html": [
       "<div>\n",
       "<style scoped>\n",
       "    .dataframe tbody tr th:only-of-type {\n",
       "        vertical-align: middle;\n",
       "    }\n",
       "\n",
       "    .dataframe tbody tr th {\n",
       "        vertical-align: top;\n",
       "    }\n",
       "\n",
       "    .dataframe thead th {\n",
       "        text-align: right;\n",
       "    }\n",
       "</style>\n",
       "<table border=\"1\" class=\"dataframe\">\n",
       "  <thead>\n",
       "    <tr style=\"text-align: right;\">\n",
       "      <th></th>\n",
       "      <th>customer_Id</th>\n",
       "      <th>DOB</th>\n",
       "      <th>Gender</th>\n",
       "      <th>city_code</th>\n",
       "    </tr>\n",
       "  </thead>\n",
       "  <tbody>\n",
       "    <tr>\n",
       "      <th>0</th>\n",
       "      <td>268408</td>\n",
       "      <td>02-01-1970</td>\n",
       "      <td>M</td>\n",
       "      <td>4.0</td>\n",
       "    </tr>\n",
       "    <tr>\n",
       "      <th>1</th>\n",
       "      <td>269696</td>\n",
       "      <td>07-01-1970</td>\n",
       "      <td>F</td>\n",
       "      <td>8.0</td>\n",
       "    </tr>\n",
       "    <tr>\n",
       "      <th>2</th>\n",
       "      <td>268159</td>\n",
       "      <td>08-01-1970</td>\n",
       "      <td>F</td>\n",
       "      <td>8.0</td>\n",
       "    </tr>\n",
       "    <tr>\n",
       "      <th>3</th>\n",
       "      <td>270181</td>\n",
       "      <td>10-01-1970</td>\n",
       "      <td>F</td>\n",
       "      <td>2.0</td>\n",
       "    </tr>\n",
       "    <tr>\n",
       "      <th>4</th>\n",
       "      <td>268073</td>\n",
       "      <td>11-01-1970</td>\n",
       "      <td>M</td>\n",
       "      <td>1.0</td>\n",
       "    </tr>\n",
       "  </tbody>\n",
       "</table>\n",
       "</div>"
      ],
      "text/plain": [
       "   customer_Id         DOB Gender  city_code\n",
       "0       268408  02-01-1970      M        4.0\n",
       "1       269696  07-01-1970      F        8.0\n",
       "2       268159  08-01-1970      F        8.0\n",
       "3       270181  10-01-1970      F        2.0\n",
       "4       268073  11-01-1970      M        1.0"
      ]
     },
     "execution_count": 1019,
     "metadata": {},
     "output_type": "execute_result"
    }
   ],
   "source": [
    "customer.head()"
   ]
  },
  {
   "cell_type": "code",
   "execution_count": 1020,
   "id": "47ee5474",
   "metadata": {},
   "outputs": [
    {
     "data": {
      "text/html": [
       "<div>\n",
       "<style scoped>\n",
       "    .dataframe tbody tr th:only-of-type {\n",
       "        vertical-align: middle;\n",
       "    }\n",
       "\n",
       "    .dataframe tbody tr th {\n",
       "        vertical-align: top;\n",
       "    }\n",
       "\n",
       "    .dataframe thead th {\n",
       "        text-align: right;\n",
       "    }\n",
       "</style>\n",
       "<table border=\"1\" class=\"dataframe\">\n",
       "  <thead>\n",
       "    <tr style=\"text-align: right;\">\n",
       "      <th></th>\n",
       "      <th>prod_cat_code</th>\n",
       "      <th>prod_cat</th>\n",
       "      <th>prod_sub_cat_code</th>\n",
       "      <th>prod_subcat</th>\n",
       "    </tr>\n",
       "  </thead>\n",
       "  <tbody>\n",
       "    <tr>\n",
       "      <th>0</th>\n",
       "      <td>1</td>\n",
       "      <td>Clothing</td>\n",
       "      <td>4</td>\n",
       "      <td>Mens</td>\n",
       "    </tr>\n",
       "    <tr>\n",
       "      <th>1</th>\n",
       "      <td>1</td>\n",
       "      <td>Clothing</td>\n",
       "      <td>1</td>\n",
       "      <td>Women</td>\n",
       "    </tr>\n",
       "    <tr>\n",
       "      <th>2</th>\n",
       "      <td>1</td>\n",
       "      <td>Clothing</td>\n",
       "      <td>3</td>\n",
       "      <td>Kids</td>\n",
       "    </tr>\n",
       "    <tr>\n",
       "      <th>3</th>\n",
       "      <td>2</td>\n",
       "      <td>Footwear</td>\n",
       "      <td>1</td>\n",
       "      <td>Mens</td>\n",
       "    </tr>\n",
       "    <tr>\n",
       "      <th>4</th>\n",
       "      <td>2</td>\n",
       "      <td>Footwear</td>\n",
       "      <td>3</td>\n",
       "      <td>Women</td>\n",
       "    </tr>\n",
       "  </tbody>\n",
       "</table>\n",
       "</div>"
      ],
      "text/plain": [
       "   prod_cat_code  prod_cat  prod_sub_cat_code prod_subcat\n",
       "0              1  Clothing                  4        Mens\n",
       "1              1  Clothing                  1       Women\n",
       "2              1  Clothing                  3        Kids\n",
       "3              2  Footwear                  1        Mens\n",
       "4              2  Footwear                  3       Women"
      ]
     },
     "execution_count": 1020,
     "metadata": {},
     "output_type": "execute_result"
    }
   ],
   "source": [
    "prod_cat_info.head()"
   ]
  },
  {
   "cell_type": "code",
   "execution_count": 1021,
   "id": "9a87a51f",
   "metadata": {},
   "outputs": [
    {
     "data": {
      "text/html": [
       "<div>\n",
       "<style scoped>\n",
       "    .dataframe tbody tr th:only-of-type {\n",
       "        vertical-align: middle;\n",
       "    }\n",
       "\n",
       "    .dataframe tbody tr th {\n",
       "        vertical-align: top;\n",
       "    }\n",
       "\n",
       "    .dataframe thead th {\n",
       "        text-align: right;\n",
       "    }\n",
       "</style>\n",
       "<table border=\"1\" class=\"dataframe\">\n",
       "  <thead>\n",
       "    <tr style=\"text-align: right;\">\n",
       "      <th></th>\n",
       "      <th>transaction_id</th>\n",
       "      <th>cust_id</th>\n",
       "      <th>tran_date</th>\n",
       "      <th>prod_subcat_code</th>\n",
       "      <th>prod_cat_code</th>\n",
       "      <th>Qty</th>\n",
       "      <th>Rate</th>\n",
       "      <th>Tax</th>\n",
       "      <th>total_amt</th>\n",
       "      <th>Store_type</th>\n",
       "    </tr>\n",
       "  </thead>\n",
       "  <tbody>\n",
       "    <tr>\n",
       "      <th>0</th>\n",
       "      <td>80712190438</td>\n",
       "      <td>270351</td>\n",
       "      <td>28-02-2014</td>\n",
       "      <td>1</td>\n",
       "      <td>1</td>\n",
       "      <td>-5</td>\n",
       "      <td>-772</td>\n",
       "      <td>405.300</td>\n",
       "      <td>-4265.300</td>\n",
       "      <td>e-Shop</td>\n",
       "    </tr>\n",
       "    <tr>\n",
       "      <th>1</th>\n",
       "      <td>29258453508</td>\n",
       "      <td>270384</td>\n",
       "      <td>27-02-2014</td>\n",
       "      <td>5</td>\n",
       "      <td>3</td>\n",
       "      <td>-5</td>\n",
       "      <td>-1497</td>\n",
       "      <td>785.925</td>\n",
       "      <td>-8270.925</td>\n",
       "      <td>e-Shop</td>\n",
       "    </tr>\n",
       "    <tr>\n",
       "      <th>2</th>\n",
       "      <td>51750724947</td>\n",
       "      <td>273420</td>\n",
       "      <td>24-02-2014</td>\n",
       "      <td>6</td>\n",
       "      <td>5</td>\n",
       "      <td>-2</td>\n",
       "      <td>-791</td>\n",
       "      <td>166.110</td>\n",
       "      <td>-1748.110</td>\n",
       "      <td>TeleShop</td>\n",
       "    </tr>\n",
       "    <tr>\n",
       "      <th>3</th>\n",
       "      <td>93274880719</td>\n",
       "      <td>271509</td>\n",
       "      <td>24-02-2014</td>\n",
       "      <td>11</td>\n",
       "      <td>6</td>\n",
       "      <td>-3</td>\n",
       "      <td>-1363</td>\n",
       "      <td>429.345</td>\n",
       "      <td>-4518.345</td>\n",
       "      <td>e-Shop</td>\n",
       "    </tr>\n",
       "    <tr>\n",
       "      <th>4</th>\n",
       "      <td>51750724947</td>\n",
       "      <td>273420</td>\n",
       "      <td>23-02-2014</td>\n",
       "      <td>6</td>\n",
       "      <td>5</td>\n",
       "      <td>-2</td>\n",
       "      <td>-791</td>\n",
       "      <td>166.110</td>\n",
       "      <td>-1748.110</td>\n",
       "      <td>TeleShop</td>\n",
       "    </tr>\n",
       "  </tbody>\n",
       "</table>\n",
       "</div>"
      ],
      "text/plain": [
       "   transaction_id  cust_id   tran_date  prod_subcat_code  prod_cat_code  Qty  \\\n",
       "0     80712190438   270351  28-02-2014                 1              1   -5   \n",
       "1     29258453508   270384  27-02-2014                 5              3   -5   \n",
       "2     51750724947   273420  24-02-2014                 6              5   -2   \n",
       "3     93274880719   271509  24-02-2014                11              6   -3   \n",
       "4     51750724947   273420  23-02-2014                 6              5   -2   \n",
       "\n",
       "   Rate      Tax  total_amt Store_type  \n",
       "0  -772  405.300  -4265.300     e-Shop  \n",
       "1 -1497  785.925  -8270.925     e-Shop  \n",
       "2  -791  166.110  -1748.110   TeleShop  \n",
       "3 -1363  429.345  -4518.345     e-Shop  \n",
       "4  -791  166.110  -1748.110   TeleShop  "
      ]
     },
     "execution_count": 1021,
     "metadata": {},
     "output_type": "execute_result"
    }
   ],
   "source": [
    "transactions.head()"
   ]
  },
  {
   "cell_type": "markdown",
   "id": "3a0361e5",
   "metadata": {},
   "source": [
    "### 1. Merge the datasets Customers, Product Hierarchy and Transactions as Customer_Final. Ensure to keep all customers who have done transactions with us and select the join type accordingly."
   ]
  },
  {
   "cell_type": "code",
   "execution_count": 1022,
   "id": "13e8c4d4",
   "metadata": {},
   "outputs": [
    {
     "data": {
      "text/html": [
       "<div>\n",
       "<style scoped>\n",
       "    .dataframe tbody tr th:only-of-type {\n",
       "        vertical-align: middle;\n",
       "    }\n",
       "\n",
       "    .dataframe tbody tr th {\n",
       "        vertical-align: top;\n",
       "    }\n",
       "\n",
       "    .dataframe thead th {\n",
       "        text-align: right;\n",
       "    }\n",
       "</style>\n",
       "<table border=\"1\" class=\"dataframe\">\n",
       "  <thead>\n",
       "    <tr style=\"text-align: right;\">\n",
       "      <th></th>\n",
       "      <th>transaction_id</th>\n",
       "      <th>cust_id</th>\n",
       "      <th>tran_date</th>\n",
       "      <th>prod_sub_cat_code</th>\n",
       "      <th>prod_cat_code</th>\n",
       "      <th>Qty</th>\n",
       "      <th>Rate</th>\n",
       "      <th>Tax</th>\n",
       "      <th>total_amt</th>\n",
       "      <th>Store_type</th>\n",
       "    </tr>\n",
       "  </thead>\n",
       "  <tbody>\n",
       "    <tr>\n",
       "      <th>0</th>\n",
       "      <td>80712190438</td>\n",
       "      <td>270351</td>\n",
       "      <td>28-02-2014</td>\n",
       "      <td>1</td>\n",
       "      <td>1</td>\n",
       "      <td>-5</td>\n",
       "      <td>-772</td>\n",
       "      <td>405.300</td>\n",
       "      <td>-4265.300</td>\n",
       "      <td>e-Shop</td>\n",
       "    </tr>\n",
       "    <tr>\n",
       "      <th>1</th>\n",
       "      <td>29258453508</td>\n",
       "      <td>270384</td>\n",
       "      <td>27-02-2014</td>\n",
       "      <td>5</td>\n",
       "      <td>3</td>\n",
       "      <td>-5</td>\n",
       "      <td>-1497</td>\n",
       "      <td>785.925</td>\n",
       "      <td>-8270.925</td>\n",
       "      <td>e-Shop</td>\n",
       "    </tr>\n",
       "  </tbody>\n",
       "</table>\n",
       "</div>"
      ],
      "text/plain": [
       "   transaction_id  cust_id   tran_date  prod_sub_cat_code  prod_cat_code  Qty  \\\n",
       "0     80712190438   270351  28-02-2014                  1              1   -5   \n",
       "1     29258453508   270384  27-02-2014                  5              3   -5   \n",
       "\n",
       "   Rate      Tax  total_amt Store_type  \n",
       "0  -772  405.300  -4265.300     e-Shop  \n",
       "1 -1497  785.925  -8270.925     e-Shop  "
      ]
     },
     "execution_count": 1022,
     "metadata": {},
     "output_type": "execute_result"
    }
   ],
   "source": [
    "transactions.rename(columns ={'prod_subcat_code' : 'prod_sub_cat_code'},inplace=True )\n",
    "transactions.head(2)"
   ]
  },
  {
   "cell_type": "code",
   "execution_count": 1023,
   "id": "a6ab3b30",
   "metadata": {},
   "outputs": [],
   "source": [
    "trans_prod =pd.merge(left = transactions,right = prod_cat_info, on =['prod_cat_code','prod_sub_cat_code'], how='left', )"
   ]
  },
  {
   "cell_type": "code",
   "execution_count": 1024,
   "id": "e6cafcd2",
   "metadata": {},
   "outputs": [
    {
     "data": {
      "text/plain": [
       "(23053, 12)"
      ]
     },
     "execution_count": 1024,
     "metadata": {},
     "output_type": "execute_result"
    }
   ],
   "source": [
    "trans_prod.shape"
   ]
  },
  {
   "cell_type": "code",
   "execution_count": 1025,
   "id": "cf2e4607",
   "metadata": {},
   "outputs": [],
   "source": [
    "Customer_Final = pd.merge(left = customer, right = trans_prod, left_on = 'customer_Id',right_on='cust_id', how= 'inner')"
   ]
  },
  {
   "cell_type": "code",
   "execution_count": 1026,
   "id": "1be20e79",
   "metadata": {},
   "outputs": [
    {
     "data": {
      "text/plain": [
       "(23036, 16)"
      ]
     },
     "execution_count": 1026,
     "metadata": {},
     "output_type": "execute_result"
    }
   ],
   "source": [
    "Customer_Final.shape"
   ]
  },
  {
   "cell_type": "code",
   "execution_count": 1027,
   "id": "7f3234d9",
   "metadata": {},
   "outputs": [
    {
     "data": {
      "text/plain": [
       "(5643, 4)"
      ]
     },
     "execution_count": 1027,
     "metadata": {},
     "output_type": "execute_result"
    }
   ],
   "source": [
    "customer.shape"
   ]
  },
  {
   "cell_type": "code",
   "execution_count": 470,
   "id": "799751a5",
   "metadata": {},
   "outputs": [],
   "source": [
    "Customer_Final.to_csv(\"C:\\\\Users\\gouthaman\\Desktop\\FullStack_AI\\Data Science Using Python\\Case Study 1 - Retail Case Study\\\\fulldata1.csv\")"
   ]
  },
  {
   "cell_type": "code",
   "execution_count": 1028,
   "id": "f58927a7",
   "metadata": {},
   "outputs": [],
   "source": [
    "Customer_Final.drop(labels=\"cust_id\",axis=1,inplace=True) #droping Cust_id as the column is repeating\n"
   ]
  },
  {
   "cell_type": "code",
   "execution_count": 1029,
   "id": "2545d256",
   "metadata": {},
   "outputs": [
    {
     "data": {
      "text/plain": [
       "(23036, 15)"
      ]
     },
     "execution_count": 1029,
     "metadata": {},
     "output_type": "execute_result"
    }
   ],
   "source": [
    "Customer_Final.shape"
   ]
  },
  {
   "cell_type": "markdown",
   "id": "decb6294",
   "metadata": {},
   "source": [
    " ### Converting date type variable to DateTime Variable"
   ]
  },
  {
   "cell_type": "code",
   "execution_count": 1030,
   "id": "0df956d9",
   "metadata": {},
   "outputs": [],
   "source": [
    "Customer_Final.DOB= pd.to_datetime(Customer_Final.DOB)\n",
    "Customer_Final.tran_date =pd.to_datetime(Customer_Final.tran_date)\n"
   ]
  },
  {
   "cell_type": "code",
   "execution_count": 1031,
   "id": "64e9ae65",
   "metadata": {},
   "outputs": [],
   "source": [
    "Customer_Final.drop_duplicates(inplace=True) #no duplicates"
   ]
  },
  {
   "cell_type": "code",
   "execution_count": 1032,
   "id": "e76443ad",
   "metadata": {},
   "outputs": [
    {
     "data": {
      "text/plain": [
       "(23023, 15)"
      ]
     },
     "execution_count": 1032,
     "metadata": {},
     "output_type": "execute_result"
    }
   ],
   "source": [
    "Customer_Final.shape"
   ]
  },
  {
   "cell_type": "markdown",
   "id": "e46b1fbb",
   "metadata": {},
   "source": [
    "### 2. Prepare a summary report for the merged data set.\n",
    "a. Get the column names and their corresponding data types"
   ]
  },
  {
   "cell_type": "code",
   "execution_count": 1033,
   "id": "b877e380",
   "metadata": {},
   "outputs": [
    {
     "data": {
      "text/plain": [
       "customer_Id                   int64\n",
       "DOB                  datetime64[ns]\n",
       "Gender                       object\n",
       "city_code                   float64\n",
       "transaction_id                int64\n",
       "tran_date            datetime64[ns]\n",
       "prod_sub_cat_code             int64\n",
       "prod_cat_code                 int64\n",
       "Qty                           int64\n",
       "Rate                          int64\n",
       "Tax                         float64\n",
       "total_amt                   float64\n",
       "Store_type                   object\n",
       "prod_cat                     object\n",
       "prod_subcat                  object\n",
       "dtype: object"
      ]
     },
     "execution_count": 1033,
     "metadata": {},
     "output_type": "execute_result"
    }
   ],
   "source": [
    "Customer_Final.dtypes"
   ]
  },
  {
   "cell_type": "markdown",
   "id": "85ffb725",
   "metadata": {},
   "source": [
    "b. Top/Bottom 10 observations"
   ]
  },
  {
   "cell_type": "code",
   "execution_count": 1035,
   "id": "5a5d7d7a",
   "metadata": {},
   "outputs": [
    {
     "data": {
      "text/html": [
       "<div>\n",
       "<style scoped>\n",
       "    .dataframe tbody tr th:only-of-type {\n",
       "        vertical-align: middle;\n",
       "    }\n",
       "\n",
       "    .dataframe tbody tr th {\n",
       "        vertical-align: top;\n",
       "    }\n",
       "\n",
       "    .dataframe thead th {\n",
       "        text-align: right;\n",
       "    }\n",
       "</style>\n",
       "<table border=\"1\" class=\"dataframe\">\n",
       "  <thead>\n",
       "    <tr style=\"text-align: right;\">\n",
       "      <th></th>\n",
       "      <th>customer_Id</th>\n",
       "      <th>DOB</th>\n",
       "      <th>Gender</th>\n",
       "      <th>city_code</th>\n",
       "      <th>transaction_id</th>\n",
       "      <th>tran_date</th>\n",
       "      <th>prod_sub_cat_code</th>\n",
       "      <th>prod_cat_code</th>\n",
       "      <th>Qty</th>\n",
       "      <th>Rate</th>\n",
       "      <th>Tax</th>\n",
       "      <th>total_amt</th>\n",
       "      <th>Store_type</th>\n",
       "      <th>prod_cat</th>\n",
       "      <th>prod_subcat</th>\n",
       "    </tr>\n",
       "  </thead>\n",
       "  <tbody>\n",
       "    <tr>\n",
       "      <th>23026</th>\n",
       "      <td>270476</td>\n",
       "      <td>1992-12-25</td>\n",
       "      <td>F</td>\n",
       "      <td>3.0</td>\n",
       "      <td>78034405353</td>\n",
       "      <td>2013-08-13</td>\n",
       "      <td>11</td>\n",
       "      <td>6</td>\n",
       "      <td>1</td>\n",
       "      <td>971</td>\n",
       "      <td>101.955</td>\n",
       "      <td>1072.955</td>\n",
       "      <td>TeleShop</td>\n",
       "      <td>Home and kitchen</td>\n",
       "      <td>Bath</td>\n",
       "    </tr>\n",
       "    <tr>\n",
       "      <th>23027</th>\n",
       "      <td>270476</td>\n",
       "      <td>1992-12-25</td>\n",
       "      <td>F</td>\n",
       "      <td>3.0</td>\n",
       "      <td>3359888057</td>\n",
       "      <td>2013-03-16</td>\n",
       "      <td>10</td>\n",
       "      <td>3</td>\n",
       "      <td>4</td>\n",
       "      <td>361</td>\n",
       "      <td>151.620</td>\n",
       "      <td>1595.620</td>\n",
       "      <td>MBR</td>\n",
       "      <td>Electronics</td>\n",
       "      <td>Audio and video</td>\n",
       "    </tr>\n",
       "    <tr>\n",
       "      <th>23028</th>\n",
       "      <td>270476</td>\n",
       "      <td>1992-12-25</td>\n",
       "      <td>F</td>\n",
       "      <td>3.0</td>\n",
       "      <td>22883386455</td>\n",
       "      <td>2012-05-22</td>\n",
       "      <td>4</td>\n",
       "      <td>2</td>\n",
       "      <td>4</td>\n",
       "      <td>898</td>\n",
       "      <td>377.160</td>\n",
       "      <td>3969.160</td>\n",
       "      <td>Flagship store</td>\n",
       "      <td>Footwear</td>\n",
       "      <td>Kids</td>\n",
       "    </tr>\n",
       "    <tr>\n",
       "      <th>23029</th>\n",
       "      <td>270476</td>\n",
       "      <td>1992-12-25</td>\n",
       "      <td>F</td>\n",
       "      <td>3.0</td>\n",
       "      <td>19725194268</td>\n",
       "      <td>2012-02-21</td>\n",
       "      <td>4</td>\n",
       "      <td>4</td>\n",
       "      <td>4</td>\n",
       "      <td>618</td>\n",
       "      <td>259.560</td>\n",
       "      <td>2731.560</td>\n",
       "      <td>e-Shop</td>\n",
       "      <td>Bags</td>\n",
       "      <td>Women</td>\n",
       "    </tr>\n",
       "    <tr>\n",
       "      <th>23030</th>\n",
       "      <td>270476</td>\n",
       "      <td>1992-12-25</td>\n",
       "      <td>F</td>\n",
       "      <td>3.0</td>\n",
       "      <td>85475160771</td>\n",
       "      <td>2011-09-08</td>\n",
       "      <td>5</td>\n",
       "      <td>3</td>\n",
       "      <td>5</td>\n",
       "      <td>1354</td>\n",
       "      <td>710.850</td>\n",
       "      <td>7480.850</td>\n",
       "      <td>Flagship store</td>\n",
       "      <td>Electronics</td>\n",
       "      <td>Computers</td>\n",
       "    </tr>\n",
       "    <tr>\n",
       "      <th>23031</th>\n",
       "      <td>269626</td>\n",
       "      <td>1992-12-27</td>\n",
       "      <td>F</td>\n",
       "      <td>5.0</td>\n",
       "      <td>71369029396</td>\n",
       "      <td>2011-10-18</td>\n",
       "      <td>12</td>\n",
       "      <td>6</td>\n",
       "      <td>1</td>\n",
       "      <td>638</td>\n",
       "      <td>66.990</td>\n",
       "      <td>704.990</td>\n",
       "      <td>e-Shop</td>\n",
       "      <td>Home and kitchen</td>\n",
       "      <td>Tools</td>\n",
       "    </tr>\n",
       "    <tr>\n",
       "      <th>23032</th>\n",
       "      <td>269626</td>\n",
       "      <td>1992-12-27</td>\n",
       "      <td>F</td>\n",
       "      <td>5.0</td>\n",
       "      <td>94134051896</td>\n",
       "      <td>2011-07-07</td>\n",
       "      <td>3</td>\n",
       "      <td>1</td>\n",
       "      <td>3</td>\n",
       "      <td>1078</td>\n",
       "      <td>339.570</td>\n",
       "      <td>3573.570</td>\n",
       "      <td>MBR</td>\n",
       "      <td>Clothing</td>\n",
       "      <td>Kids</td>\n",
       "    </tr>\n",
       "    <tr>\n",
       "      <th>23033</th>\n",
       "      <td>274308</td>\n",
       "      <td>1992-12-29</td>\n",
       "      <td>F</td>\n",
       "      <td>5.0</td>\n",
       "      <td>26208690928</td>\n",
       "      <td>2012-10-22</td>\n",
       "      <td>1</td>\n",
       "      <td>2</td>\n",
       "      <td>2</td>\n",
       "      <td>898</td>\n",
       "      <td>188.580</td>\n",
       "      <td>1984.580</td>\n",
       "      <td>MBR</td>\n",
       "      <td>Footwear</td>\n",
       "      <td>Mens</td>\n",
       "    </tr>\n",
       "    <tr>\n",
       "      <th>23034</th>\n",
       "      <td>274308</td>\n",
       "      <td>1992-12-29</td>\n",
       "      <td>F</td>\n",
       "      <td>5.0</td>\n",
       "      <td>57358822237</td>\n",
       "      <td>2012-05-09</td>\n",
       "      <td>1</td>\n",
       "      <td>2</td>\n",
       "      <td>4</td>\n",
       "      <td>876</td>\n",
       "      <td>367.920</td>\n",
       "      <td>3871.920</td>\n",
       "      <td>e-Shop</td>\n",
       "      <td>Footwear</td>\n",
       "      <td>Mens</td>\n",
       "    </tr>\n",
       "    <tr>\n",
       "      <th>23035</th>\n",
       "      <td>274308</td>\n",
       "      <td>1992-12-29</td>\n",
       "      <td>F</td>\n",
       "      <td>5.0</td>\n",
       "      <td>58160544337</td>\n",
       "      <td>2012-04-07</td>\n",
       "      <td>12</td>\n",
       "      <td>5</td>\n",
       "      <td>5</td>\n",
       "      <td>588</td>\n",
       "      <td>308.700</td>\n",
       "      <td>3248.700</td>\n",
       "      <td>e-Shop</td>\n",
       "      <td>Books</td>\n",
       "      <td>Academic</td>\n",
       "    </tr>\n",
       "  </tbody>\n",
       "</table>\n",
       "</div>"
      ],
      "text/plain": [
       "       customer_Id        DOB Gender  city_code  transaction_id  tran_date  \\\n",
       "23026       270476 1992-12-25      F        3.0     78034405353 2013-08-13   \n",
       "23027       270476 1992-12-25      F        3.0      3359888057 2013-03-16   \n",
       "23028       270476 1992-12-25      F        3.0     22883386455 2012-05-22   \n",
       "23029       270476 1992-12-25      F        3.0     19725194268 2012-02-21   \n",
       "23030       270476 1992-12-25      F        3.0     85475160771 2011-09-08   \n",
       "23031       269626 1992-12-27      F        5.0     71369029396 2011-10-18   \n",
       "23032       269626 1992-12-27      F        5.0     94134051896 2011-07-07   \n",
       "23033       274308 1992-12-29      F        5.0     26208690928 2012-10-22   \n",
       "23034       274308 1992-12-29      F        5.0     57358822237 2012-05-09   \n",
       "23035       274308 1992-12-29      F        5.0     58160544337 2012-04-07   \n",
       "\n",
       "       prod_sub_cat_code  prod_cat_code  Qty  Rate      Tax  total_amt  \\\n",
       "23026                 11              6    1   971  101.955   1072.955   \n",
       "23027                 10              3    4   361  151.620   1595.620   \n",
       "23028                  4              2    4   898  377.160   3969.160   \n",
       "23029                  4              4    4   618  259.560   2731.560   \n",
       "23030                  5              3    5  1354  710.850   7480.850   \n",
       "23031                 12              6    1   638   66.990    704.990   \n",
       "23032                  3              1    3  1078  339.570   3573.570   \n",
       "23033                  1              2    2   898  188.580   1984.580   \n",
       "23034                  1              2    4   876  367.920   3871.920   \n",
       "23035                 12              5    5   588  308.700   3248.700   \n",
       "\n",
       "           Store_type          prod_cat      prod_subcat  \n",
       "23026        TeleShop  Home and kitchen             Bath  \n",
       "23027             MBR       Electronics  Audio and video  \n",
       "23028  Flagship store          Footwear             Kids  \n",
       "23029          e-Shop              Bags            Women  \n",
       "23030  Flagship store       Electronics        Computers  \n",
       "23031          e-Shop  Home and kitchen            Tools  \n",
       "23032             MBR          Clothing             Kids  \n",
       "23033             MBR          Footwear             Mens  \n",
       "23034          e-Shop          Footwear             Mens  \n",
       "23035          e-Shop             Books         Academic  "
      ]
     },
     "execution_count": 1035,
     "metadata": {},
     "output_type": "execute_result"
    }
   ],
   "source": [
    "Customer_Final.tail(10)"
   ]
  },
  {
   "cell_type": "markdown",
   "id": "718065c6",
   "metadata": {},
   "source": [
    "### c. “Five-number summary” for continuous variables (min, Q1, median, Q3 and max)"
   ]
  },
  {
   "cell_type": "code",
   "execution_count": 1005,
   "id": "28cf0436",
   "metadata": {},
   "outputs": [],
   "source": [
    "# seperating continous variable and categorical variables\n",
    "cat_var = ['Gender',\"city_code\",\"prod_cat_code\",'prod_sub_cat_code','Store_type','prod_cat','prod_subcat']\n",
    "continous_var = ['Qty','Rate','Tax','total_amt']"
   ]
  },
  {
   "cell_type": "code",
   "execution_count": 1006,
   "id": "aafeef48",
   "metadata": {},
   "outputs": [
    {
     "data": {
      "text/html": [
       "<div>\n",
       "<style scoped>\n",
       "    .dataframe tbody tr th:only-of-type {\n",
       "        vertical-align: middle;\n",
       "    }\n",
       "\n",
       "    .dataframe tbody tr th {\n",
       "        vertical-align: top;\n",
       "    }\n",
       "\n",
       "    .dataframe thead th {\n",
       "        text-align: right;\n",
       "    }\n",
       "</style>\n",
       "<table border=\"1\" class=\"dataframe\">\n",
       "  <thead>\n",
       "    <tr style=\"text-align: right;\">\n",
       "      <th></th>\n",
       "      <th>Qty</th>\n",
       "      <th>Rate</th>\n",
       "      <th>Tax</th>\n",
       "      <th>total_amt</th>\n",
       "    </tr>\n",
       "  </thead>\n",
       "  <tbody>\n",
       "    <tr>\n",
       "      <th>count</th>\n",
       "      <td>23023.000000</td>\n",
       "      <td>23023.000000</td>\n",
       "      <td>23023.000000</td>\n",
       "      <td>23023.000000</td>\n",
       "    </tr>\n",
       "    <tr>\n",
       "      <th>mean</th>\n",
       "      <td>2.435868</td>\n",
       "      <td>637.116840</td>\n",
       "      <td>248.701263</td>\n",
       "      <td>2109.881471</td>\n",
       "    </tr>\n",
       "    <tr>\n",
       "      <th>std</th>\n",
       "      <td>2.264415</td>\n",
       "      <td>621.870539</td>\n",
       "      <td>187.196950</td>\n",
       "      <td>2505.929444</td>\n",
       "    </tr>\n",
       "    <tr>\n",
       "      <th>min</th>\n",
       "      <td>-5.000000</td>\n",
       "      <td>-1499.000000</td>\n",
       "      <td>7.350000</td>\n",
       "      <td>-8270.925000</td>\n",
       "    </tr>\n",
       "    <tr>\n",
       "      <th>25%</th>\n",
       "      <td>1.000000</td>\n",
       "      <td>312.000000</td>\n",
       "      <td>98.280000</td>\n",
       "      <td>762.450000</td>\n",
       "    </tr>\n",
       "    <tr>\n",
       "      <th>50%</th>\n",
       "      <td>3.000000</td>\n",
       "      <td>710.000000</td>\n",
       "      <td>199.080000</td>\n",
       "      <td>1756.950000</td>\n",
       "    </tr>\n",
       "    <tr>\n",
       "      <th>75%</th>\n",
       "      <td>4.000000</td>\n",
       "      <td>1110.000000</td>\n",
       "      <td>365.820000</td>\n",
       "      <td>3570.255000</td>\n",
       "    </tr>\n",
       "    <tr>\n",
       "      <th>max</th>\n",
       "      <td>5.000000</td>\n",
       "      <td>1500.000000</td>\n",
       "      <td>787.500000</td>\n",
       "      <td>8287.500000</td>\n",
       "    </tr>\n",
       "  </tbody>\n",
       "</table>\n",
       "</div>"
      ],
      "text/plain": [
       "                Qty          Rate           Tax     total_amt\n",
       "count  23023.000000  23023.000000  23023.000000  23023.000000\n",
       "mean       2.435868    637.116840    248.701263   2109.881471\n",
       "std        2.264415    621.870539    187.196950   2505.929444\n",
       "min       -5.000000  -1499.000000      7.350000  -8270.925000\n",
       "25%        1.000000    312.000000     98.280000    762.450000\n",
       "50%        3.000000    710.000000    199.080000   1756.950000\n",
       "75%        4.000000   1110.000000    365.820000   3570.255000\n",
       "max        5.000000   1500.000000    787.500000   8287.500000"
      ]
     },
     "execution_count": 1006,
     "metadata": {},
     "output_type": "execute_result"
    }
   ],
   "source": [
    "Customer_Final[continous_var].describe()"
   ]
  },
  {
   "cell_type": "markdown",
   "id": "245e5795",
   "metadata": {},
   "source": [
    "### d. Frequency tables for all the categorical variables"
   ]
  },
  {
   "cell_type": "code",
   "execution_count": 1007,
   "id": "a7eb89e1",
   "metadata": {},
   "outputs": [],
   "source": [
    "def cat_var_summary( x ):\n",
    "    mode = x.value_counts().sort_values(ascending=False).reset_index()\n",
    "\n",
    "    return pd.Series([x.count(),x.nunique(),x.max(),mode.iloc[0,1],x.isnull().sum() ] ,index=['Count','nunique','Top','frequency',\"Missing\"])"
   ]
  },
  {
   "cell_type": "code",
   "execution_count": 1008,
   "id": "9f167c00",
   "metadata": {},
   "outputs": [
    {
     "data": {
      "text/html": [
       "<div>\n",
       "<style scoped>\n",
       "    .dataframe tbody tr th:only-of-type {\n",
       "        vertical-align: middle;\n",
       "    }\n",
       "\n",
       "    .dataframe tbody tr th {\n",
       "        vertical-align: top;\n",
       "    }\n",
       "\n",
       "    .dataframe thead th {\n",
       "        text-align: right;\n",
       "    }\n",
       "</style>\n",
       "<table border=\"1\" class=\"dataframe\">\n",
       "  <thead>\n",
       "    <tr style=\"text-align: right;\">\n",
       "      <th></th>\n",
       "      <th>Gender</th>\n",
       "      <th>city_code</th>\n",
       "      <th>prod_cat_code</th>\n",
       "      <th>prod_sub_cat_code</th>\n",
       "      <th>Store_type</th>\n",
       "      <th>prod_cat</th>\n",
       "      <th>prod_subcat</th>\n",
       "    </tr>\n",
       "  </thead>\n",
       "  <tbody>\n",
       "    <tr>\n",
       "      <th>Count</th>\n",
       "      <td>23023</td>\n",
       "      <td>23023.0</td>\n",
       "      <td>23023</td>\n",
       "      <td>23023</td>\n",
       "      <td>23023</td>\n",
       "      <td>23023</td>\n",
       "      <td>23023</td>\n",
       "    </tr>\n",
       "    <tr>\n",
       "      <th>nunique</th>\n",
       "      <td>2</td>\n",
       "      <td>10.0</td>\n",
       "      <td>6</td>\n",
       "      <td>12</td>\n",
       "      <td>4</td>\n",
       "      <td>6</td>\n",
       "      <td>18</td>\n",
       "    </tr>\n",
       "    <tr>\n",
       "      <th>Top</th>\n",
       "      <td>M</td>\n",
       "      <td>10.0</td>\n",
       "      <td>6</td>\n",
       "      <td>12</td>\n",
       "      <td>e-Shop</td>\n",
       "      <td>Home and kitchen</td>\n",
       "      <td>Women</td>\n",
       "    </tr>\n",
       "    <tr>\n",
       "      <th>frequency</th>\n",
       "      <td>11798</td>\n",
       "      <td>2422.0</td>\n",
       "      <td>6061</td>\n",
       "      <td>3999</td>\n",
       "      <td>9299</td>\n",
       "      <td>6061</td>\n",
       "      <td>3044</td>\n",
       "    </tr>\n",
       "    <tr>\n",
       "      <th>Missing</th>\n",
       "      <td>0</td>\n",
       "      <td>0.0</td>\n",
       "      <td>0</td>\n",
       "      <td>0</td>\n",
       "      <td>0</td>\n",
       "      <td>0</td>\n",
       "      <td>0</td>\n",
       "    </tr>\n",
       "  </tbody>\n",
       "</table>\n",
       "</div>"
      ],
      "text/plain": [
       "          Gender  city_code  prod_cat_code  prod_sub_cat_code Store_type  \\\n",
       "Count      23023    23023.0          23023              23023      23023   \n",
       "nunique        2       10.0              6                 12          4   \n",
       "Top            M       10.0              6                 12     e-Shop   \n",
       "frequency  11798     2422.0           6061               3999       9299   \n",
       "Missing        0        0.0              0                  0          0   \n",
       "\n",
       "                   prod_cat prod_subcat  \n",
       "Count                 23023       23023  \n",
       "nunique                   6          18  \n",
       "Top        Home and kitchen       Women  \n",
       "frequency              6061        3044  \n",
       "Missing                   0           0  "
      ]
     },
     "execution_count": 1008,
     "metadata": {},
     "output_type": "execute_result"
    }
   ],
   "source": [
    "Customer_Final[cat].apply(cat_var_summary)"
   ]
  },
  {
   "cell_type": "markdown",
   "id": "6918ee9d",
   "metadata": {},
   "source": [
    "## 3) Generate histograms for all continuous variables and frequency bars for categorical variables"
   ]
  },
  {
   "cell_type": "code",
   "execution_count": 1009,
   "id": "ede8bb2f",
   "metadata": {},
   "outputs": [],
   "source": [
    "def histplot(colname):\n",
    "    count,bin_edges = np.histogram(Customer_Final[colname],10)\n",
    "    Customer_Final[colname].plot(kind=\"hist\",xticks=bin_edges)\n",
    "    plt.xlabel(colname)\n",
    "    plt.ylabel(\"Count\")\n",
    "    name = \"Histogram of \"+colname\n",
    "    plt.title(name)\n",
    "    plt.show()"
   ]
  },
  {
   "cell_type": "code",
   "execution_count": 1010,
   "id": "837ca8b7",
   "metadata": {},
   "outputs": [
    {
     "name": "stdout",
     "output_type": "stream",
     "text": [
      "Histogram for Continuous Variables\n"
     ]
    },
    {
     "data": {
      "image/png": "[encoded data removed]",
      "text/plain": [
       "<Figure size 432x288 with 1 Axes>"
      ]
     },
     "metadata": {
      "needs_background": "light"
     },
     "output_type": "display_data"
    },
    {
     "data": {
      "image/png": "[encoded data removed]",
      "text/plain": [
       "<Figure size 432x288 with 1 Axes>"
      ]
     },
     "metadata": {
      "needs_background": "light"
     },
     "output_type": "display_data"
    },
    {
     "data": {
      "image/png": "[encoded data removed]",
      "text/plain": [
       "<Figure size 432x288 with 1 Axes>"
      ]
     },
     "metadata": {
      "needs_background": "light"
     },
     "output_type": "display_data"
    },
    {
     "data": {
      "image/png": "[encoded data removed]",
      "text/plain": [
       "<Figure size 432x288 with 1 Axes>"
      ]
     },
     "metadata": {
      "needs_background": "light"
     },
     "output_type": "display_data"
    }
   ],
   "source": [
    "print(\"Histogram for Continuous Variables\")\n",
    "for i in continuous_var:\n",
    "    histplot(i)"
   ]
  },
  {
   "cell_type": "code",
   "execution_count": 999,
   "id": "ad5b5a32",
   "metadata": {},
   "outputs": [],
   "source": [
    "def freqbarplot(columnname):\n",
    "    plt.figure(figsize=(8,8))\n",
    "    Customer_Final[columnname].value_counts().sort_index().plot(kind='bar')\n",
    "    plt.xlabel(columnname)\n",
    "    plt.ylabel(\"count\")\n",
    "    title=columnname+\" - Freq Plot\"\n",
    "    plt.title(title)\n",
    "    plt.show()"
   ]
  },
  {
   "cell_type": "code",
   "execution_count": 1000,
   "id": "bd415e65",
   "metadata": {},
   "outputs": [
    {
     "name": "stdout",
     "output_type": "stream",
     "text": [
      "Frequency plot for Categorical Variable\n"
     ]
    },
    {
     "data": {
      "image/png": "[encoded data removed]",
      "text/plain": [
       "<Figure size 576x576 with 1 Axes>"
      ]
     },
     "metadata": {
      "needs_background": "light"
     },
     "output_type": "display_data"
    },
    {
     "data": {
      "image/png": "[encoded data removed]",
      "text/plain": [
       "<Figure size 576x576 with 1 Axes>"
      ]
     },
     "metadata": {
      "needs_background": "light"
     },
     "output_type": "display_data"
    },
    {
     "data": {
      "image/png": "[encoded data removed]",
      "text/plain": [
       "<Figure size 576x576 with 1 Axes>"
      ]
     },
     "metadata": {
      "needs_background": "light"
     },
     "output_type": "display_data"
    },
    {
     "data": {
      "image/png": "[encoded data removed]",
      "text/plain": [
       "<Figure size 576x576 with 1 Axes>"
      ]
     },
     "metadata": {
      "needs_background": "light"
     },
     "output_type": "display_data"
    },
    {
     "data": {
      "image/png": "[encoded data removed]",
      "text/plain": [
       "<Figure size 576x576 with 1 Axes>"
      ]
     },
     "metadata": {
      "needs_background": "light"
     },
     "output_type": "display_data"
    },
    {
     "data": {
      "image/png": "[encoded data removed]",
      "text/plain": [
       "<Figure size 576x576 with 1 Axes>"
      ]
     },
     "metadata": {
      "needs_background": "light"
     },
     "output_type": "display_data"
    },
    {
     "data": {
      "image/png": "[encoded data removed]",
      "text/plain": [
       "<Figure size 576x576 with 1 Axes>"
      ]
     },
     "metadata": {
      "needs_background": "light"
     },
     "output_type": "display_data"
    }
   ],
   "source": [
    "print(\"Frequency plot for Categorical Variable\")\n",
    "for i in categ_var:\n",
    "    freqbarplot(i)"
   ]
  },
  {
   "cell_type": "markdown",
   "id": "285fbed8",
   "metadata": {},
   "source": [
    "### 4. Calculate the following information using the merged dataset :\n",
    "##### a. Time period of the available transaction data"
   ]
  },
  {
   "cell_type": "code",
   "execution_count": 996,
   "id": "269e0ec8",
   "metadata": {},
   "outputs": [
    {
     "name": "stdout",
     "output_type": "stream",
     "text": [
      "Transaction Period start date:  02-Jan-2011 \n",
      "Transaction Period end date:  02-Dec-2014\n"
     ]
    }
   ],
   "source": [
    "print(\"Transaction Period start date: \",pd.Timestamp.strftime(Customer_Final.tran_date.min(),format=\"%d-%b-%Y\"),\n",
    "     \"\\nTransaction Period end date: \", pd.Timestamp.strftime(Customer_Final.tran_date.max(),format=\"%d-%b-%Y\"))\n",
    "      "
   ]
  },
  {
   "cell_type": "markdown",
   "id": "b4d3de82",
   "metadata": {},
   "source": [
    "##### b. Count of transactions where the total amount of transaction was negative"
   ]
  },
  {
   "cell_type": "code",
   "execution_count": 1036,
   "id": "31838101",
   "metadata": {},
   "outputs": [
    {
     "data": {
      "text/plain": [
       "2163"
      ]
     },
     "execution_count": 1036,
     "metadata": {},
     "output_type": "execute_result"
    }
   ],
   "source": [
    "Customer_Final[Customer_Final.total_amt<0].shape[0]"
   ]
  },
  {
   "cell_type": "markdown",
   "id": "cd81c114",
   "metadata": {},
   "source": [
    " ### 5. Analyze which product categories are more popular among females vs male customers."
   ]
  },
  {
   "cell_type": "code",
   "execution_count": 993,
   "id": "5e1af606",
   "metadata": {},
   "outputs": [
    {
     "data": {
      "text/html": [
       "<div>\n",
       "<style scoped>\n",
       "    .dataframe tbody tr th:only-of-type {\n",
       "        vertical-align: middle;\n",
       "    }\n",
       "\n",
       "    .dataframe tbody tr th {\n",
       "        vertical-align: top;\n",
       "    }\n",
       "\n",
       "    .dataframe thead th {\n",
       "        text-align: right;\n",
       "    }\n",
       "</style>\n",
       "<table border=\"1\" class=\"dataframe\">\n",
       "  <thead>\n",
       "    <tr style=\"text-align: right;\">\n",
       "      <th>prod_cat</th>\n",
       "      <th>Bags</th>\n",
       "      <th>Books</th>\n",
       "      <th>Clothing</th>\n",
       "      <th>Electronics</th>\n",
       "      <th>Footwear</th>\n",
       "      <th>Home and kitchen</th>\n",
       "    </tr>\n",
       "    <tr>\n",
       "      <th>Gender</th>\n",
       "      <th></th>\n",
       "      <th></th>\n",
       "      <th></th>\n",
       "      <th></th>\n",
       "      <th></th>\n",
       "      <th></th>\n",
       "    </tr>\n",
       "  </thead>\n",
       "  <tbody>\n",
       "    <tr>\n",
       "      <th>F</th>\n",
       "      <td>993</td>\n",
       "      <td>2946</td>\n",
       "      <td>1439</td>\n",
       "      <td>2326</td>\n",
       "      <td>1528</td>\n",
       "      <td>1993</td>\n",
       "    </tr>\n",
       "    <tr>\n",
       "      <th>M</th>\n",
       "      <td>1003</td>\n",
       "      <td>3115</td>\n",
       "      <td>1518</td>\n",
       "      <td>2565</td>\n",
       "      <td>1467</td>\n",
       "      <td>2130</td>\n",
       "    </tr>\n",
       "  </tbody>\n",
       "</table>\n",
       "</div>"
      ],
      "text/plain": [
       "prod_cat  Bags  Books  Clothing  Electronics  Footwear  Home and kitchen\n",
       "Gender                                                                  \n",
       "F          993   2946      1439         2326      1528              1993\n",
       "M         1003   3115      1518         2565      1467              2130"
      ]
     },
     "execution_count": 993,
     "metadata": {},
     "output_type": "execute_result"
    }
   ],
   "source": [
    "pd.crosstab(index= Customer_Final.Gender,columns=[Customer_Final.prod_cat])"
   ]
  },
  {
   "cell_type": "markdown",
   "id": "aa0ce623",
   "metadata": {},
   "source": [
    "#### Ans: Books are popular for both male and female"
   ]
  },
  {
   "cell_type": "markdown",
   "id": "cfe8b306",
   "metadata": {},
   "source": [
    " ### 6.Which City code has the maximum customers and what was the percentage of customers from that city?"
   ]
  },
  {
   "cell_type": "code",
   "execution_count": 991,
   "id": "d09e71cb",
   "metadata": {},
   "outputs": [
    {
     "data": {
      "text/html": [
       "<div>\n",
       "<style scoped>\n",
       "    .dataframe tbody tr th:only-of-type {\n",
       "        vertical-align: middle;\n",
       "    }\n",
       "\n",
       "    .dataframe tbody tr th {\n",
       "        vertical-align: top;\n",
       "    }\n",
       "\n",
       "    .dataframe thead th {\n",
       "        text-align: right;\n",
       "    }\n",
       "</style>\n",
       "<table border=\"1\" class=\"dataframe\">\n",
       "  <thead>\n",
       "    <tr style=\"text-align: right;\">\n",
       "      <th></th>\n",
       "      <th>Customer_count</th>\n",
       "    </tr>\n",
       "    <tr>\n",
       "      <th>city_code</th>\n",
       "      <th></th>\n",
       "    </tr>\n",
       "  </thead>\n",
       "  <tbody>\n",
       "    <tr>\n",
       "      <th>1.0</th>\n",
       "      <td>2255</td>\n",
       "    </tr>\n",
       "    <tr>\n",
       "      <th>2.0</th>\n",
       "      <td>2263</td>\n",
       "    </tr>\n",
       "    <tr>\n",
       "      <th>3.0</th>\n",
       "      <td>2410</td>\n",
       "    </tr>\n",
       "    <tr>\n",
       "      <th>4.0</th>\n",
       "      <td>2422</td>\n",
       "    </tr>\n",
       "    <tr>\n",
       "      <th>5.0</th>\n",
       "      <td>2357</td>\n",
       "    </tr>\n",
       "    <tr>\n",
       "      <th>6.0</th>\n",
       "      <td>2123</td>\n",
       "    </tr>\n",
       "    <tr>\n",
       "      <th>7.0</th>\n",
       "      <td>2356</td>\n",
       "    </tr>\n",
       "    <tr>\n",
       "      <th>8.0</th>\n",
       "      <td>2328</td>\n",
       "    </tr>\n",
       "    <tr>\n",
       "      <th>9.0</th>\n",
       "      <td>2176</td>\n",
       "    </tr>\n",
       "    <tr>\n",
       "      <th>10.0</th>\n",
       "      <td>2333</td>\n",
       "    </tr>\n",
       "  </tbody>\n",
       "</table>\n",
       "</div>"
      ],
      "text/plain": [
       "           Customer_count\n",
       "city_code                \n",
       "1.0                  2255\n",
       "2.0                  2263\n",
       "3.0                  2410\n",
       "4.0                  2422\n",
       "5.0                  2357\n",
       "6.0                  2123\n",
       "7.0                  2356\n",
       "8.0                  2328\n",
       "9.0                  2176\n",
       "10.0                 2333"
      ]
     },
     "execution_count": 991,
     "metadata": {},
     "output_type": "execute_result"
    }
   ],
   "source": [
    "City =pd.DataFrame( Customer_Final.groupby(\"city_code\")['customer_Id'].count())\n",
    "City.rename(columns = {\"customer_Id\":\"Customer_count\"},inplace=True)\n",
    "City"
   ]
  },
  {
   "cell_type": "code",
   "execution_count": 992,
   "id": "25247156",
   "metadata": {},
   "outputs": [
    {
     "name": "stdout",
     "output_type": "stream",
     "text": [
      "City code 4 has maximum number of customer with Customer_count    2422\n",
      "dtype: int64\n"
     ]
    }
   ],
   "source": [
    "print(\"City code 4 has maximum number of customer with\",City.max() )"
   ]
  },
  {
   "cell_type": "code",
   "execution_count": 906,
   "id": "94c2fab9",
   "metadata": {},
   "outputs": [
    {
     "data": {
      "text/plain": [
       "Customer_count    10.519915\n",
       "dtype: float64"
      ]
     },
     "execution_count": 906,
     "metadata": {},
     "output_type": "execute_result"
    }
   ],
   "source": [
    "Percentage = df.max()*100 / df.sum()\n",
    "Percentage"
   ]
  },
  {
   "cell_type": "markdown",
   "id": "b69f117f",
   "metadata": {},
   "source": [
    "## 7.Which store type sells the maximum products by value and by quantity?"
   ]
  },
  {
   "cell_type": "code",
   "execution_count": 989,
   "id": "98c94f9d",
   "metadata": {},
   "outputs": [
    {
     "name": "stderr",
     "output_type": "stream",
     "text": [
      "<ipython-input-989-962af90e57ef>:1: FutureWarning: Indexing with multiple keys (implicitly converted to a tuple of keys) will be deprecated, use a list instead.\n",
      "  df =Customer_Final.groupby(\"Store_type\")[\"Rate\",\"Qty\"].sum().reset_index()\n"
     ]
    },
    {
     "data": {
      "text/html": [
       "<div>\n",
       "<style scoped>\n",
       "    .dataframe tbody tr th:only-of-type {\n",
       "        vertical-align: middle;\n",
       "    }\n",
       "\n",
       "    .dataframe tbody tr th {\n",
       "        vertical-align: top;\n",
       "    }\n",
       "\n",
       "    .dataframe thead th {\n",
       "        text-align: right;\n",
       "    }\n",
       "</style>\n",
       "<table border=\"1\" class=\"dataframe\">\n",
       "  <thead>\n",
       "    <tr style=\"text-align: right;\">\n",
       "      <th></th>\n",
       "      <th>Store_type</th>\n",
       "      <th>Rate</th>\n",
       "      <th>Qty</th>\n",
       "    </tr>\n",
       "  </thead>\n",
       "  <tbody>\n",
       "    <tr>\n",
       "      <th>3</th>\n",
       "      <td>e-Shop</td>\n",
       "      <td>5943931</td>\n",
       "      <td>22785</td>\n",
       "    </tr>\n",
       "  </tbody>\n",
       "</table>\n",
       "</div>"
      ],
      "text/plain": [
       "  Store_type     Rate    Qty\n",
       "3     e-Shop  5943931  22785"
      ]
     },
     "execution_count": 989,
     "metadata": {},
     "output_type": "execute_result"
    }
   ],
   "source": [
    "df =Customer_Final.groupby(\"Store_type\")[\"Rate\",\"Qty\"].sum().reset_index()\n",
    "df[(df.Rate == df.Rate.max()) & (df.Qty == df.Qty.max())]\n"
   ]
  },
  {
   "cell_type": "markdown",
   "id": "37241ec9",
   "metadata": {},
   "source": [
    "### 8. What was the total amount earned from the \"Electronics\" and \"Clothing\" categories from Flagship Stores?"
   ]
  },
  {
   "cell_type": "code",
   "execution_count": 988,
   "id": "a522a181",
   "metadata": {},
   "outputs": [
    {
     "data": {
      "text/html": [
       "<div>\n",
       "<style scoped>\n",
       "    .dataframe tbody tr th:only-of-type {\n",
       "        vertical-align: middle;\n",
       "    }\n",
       "\n",
       "    .dataframe tbody tr th {\n",
       "        vertical-align: top;\n",
       "    }\n",
       "\n",
       "    .dataframe thead th {\n",
       "        text-align: right;\n",
       "    }\n",
       "</style>\n",
       "<table border=\"1\" class=\"dataframe\">\n",
       "  <thead>\n",
       "    <tr style=\"text-align: right;\">\n",
       "      <th></th>\n",
       "      <th>customer_Id</th>\n",
       "      <th>DOB</th>\n",
       "      <th>Gender</th>\n",
       "      <th>city_code</th>\n",
       "      <th>transaction_id</th>\n",
       "      <th>tran_date</th>\n",
       "      <th>prod_sub_cat_code</th>\n",
       "      <th>prod_cat_code</th>\n",
       "      <th>Qty</th>\n",
       "      <th>Rate</th>\n",
       "      <th>Tax</th>\n",
       "      <th>total_amt</th>\n",
       "      <th>Store_type</th>\n",
       "      <th>prod_cat</th>\n",
       "      <th>prod_subcat</th>\n",
       "      <th>Age</th>\n",
       "    </tr>\n",
       "  </thead>\n",
       "  <tbody>\n",
       "    <tr>\n",
       "      <th>1</th>\n",
       "      <td>268408</td>\n",
       "      <td>1970-02-01</td>\n",
       "      <td>M</td>\n",
       "      <td>4.0</td>\n",
       "      <td>16197868036</td>\n",
       "      <td>2013-12-16</td>\n",
       "      <td>1</td>\n",
       "      <td>4</td>\n",
       "      <td>-5</td>\n",
       "      <td>-210</td>\n",
       "      <td>110.25</td>\n",
       "      <td>-1160.25</td>\n",
       "      <td>Flagship store</td>\n",
       "      <td>Bags</td>\n",
       "      <td>Mens</td>\n",
       "      <td>52</td>\n",
       "    </tr>\n",
       "    <tr>\n",
       "      <th>2</th>\n",
       "      <td>268408</td>\n",
       "      <td>1970-02-01</td>\n",
       "      <td>M</td>\n",
       "      <td>4.0</td>\n",
       "      <td>16197868036</td>\n",
       "      <td>2013-12-12</td>\n",
       "      <td>1</td>\n",
       "      <td>4</td>\n",
       "      <td>5</td>\n",
       "      <td>210</td>\n",
       "      <td>110.25</td>\n",
       "      <td>1160.25</td>\n",
       "      <td>Flagship store</td>\n",
       "      <td>Bags</td>\n",
       "      <td>Mens</td>\n",
       "      <td>52</td>\n",
       "    </tr>\n",
       "  </tbody>\n",
       "</table>\n",
       "</div>"
      ],
      "text/plain": [
       "   customer_Id        DOB Gender  city_code  transaction_id  tran_date  \\\n",
       "1       268408 1970-02-01      M        4.0     16197868036 2013-12-16   \n",
       "2       268408 1970-02-01      M        4.0     16197868036 2013-12-12   \n",
       "\n",
       "   prod_sub_cat_code  prod_cat_code  Qty  Rate     Tax  total_amt  \\\n",
       "1                  1              4   -5  -210  110.25   -1160.25   \n",
       "2                  1              4    5   210  110.25    1160.25   \n",
       "\n",
       "       Store_type prod_cat prod_subcat  Age  \n",
       "1  Flagship store     Bags        Mens   52  \n",
       "2  Flagship store     Bags        Mens   52  "
      ]
     },
     "execution_count": 988,
     "metadata": {},
     "output_type": "execute_result"
    }
   ],
   "source": [
    "df= Customer_Final[Customer_Final[\"Store_type\"] == 'Flagship store']\n",
    "df.head(2)"
   ]
  },
  {
   "cell_type": "code",
   "execution_count": 986,
   "id": "6942fb9b",
   "metadata": {},
   "outputs": [
    {
     "data": {
      "text/plain": [
       "3408936.05"
      ]
     },
     "execution_count": 986,
     "metadata": {},
     "output_type": "execute_result"
    }
   ],
   "source": [
    "round(df[df[\"prod_cat\"].isin([\"Clothing\", \"Electronics\"])]['total_amt'].sum(),2)"
   ]
  },
  {
   "cell_type": "markdown",
   "id": "14f886f8",
   "metadata": {},
   "source": [
    "### 9. What was the total amount earned from \"Male\" customers under the \"Electronics\" category?\n"
   ]
  },
  {
   "cell_type": "code",
   "execution_count": 983,
   "id": "57a0b82c",
   "metadata": {},
   "outputs": [
    {
     "data": {
      "text/plain": [
       "5705871.925"
      ]
     },
     "execution_count": 983,
     "metadata": {},
     "output_type": "execute_result"
    }
   ],
   "source": [
    "Customer_Final.loc[(Customer_Final[\"Gender\"]==\"M\" )& (Customer_Final['prod_cat']=='Electronics'),\"total_amt\"].sum()"
   ]
  },
  {
   "cell_type": "markdown",
   "id": "63eeb2c3",
   "metadata": {},
   "source": [
    "### 10. How many customers have more than 10 unique transactions, after removing all transactions which have any negative amounts?"
   ]
  },
  {
   "cell_type": "code",
   "execution_count": 980,
   "id": "5df82027",
   "metadata": {},
   "outputs": [
    {
     "data": {
      "text/html": [
       "<div>\n",
       "<style scoped>\n",
       "    .dataframe tbody tr th:only-of-type {\n",
       "        vertical-align: middle;\n",
       "    }\n",
       "\n",
       "    .dataframe tbody tr th {\n",
       "        vertical-align: top;\n",
       "    }\n",
       "\n",
       "    .dataframe thead th {\n",
       "        text-align: right;\n",
       "    }\n",
       "</style>\n",
       "<table border=\"1\" class=\"dataframe\">\n",
       "  <thead>\n",
       "    <tr style=\"text-align: right;\">\n",
       "      <th></th>\n",
       "      <th>customer_Id</th>\n",
       "      <th>DOB</th>\n",
       "      <th>Gender</th>\n",
       "      <th>city_code</th>\n",
       "      <th>transaction_id</th>\n",
       "      <th>tran_date</th>\n",
       "      <th>prod_sub_cat_code</th>\n",
       "      <th>prod_cat_code</th>\n",
       "      <th>Qty</th>\n",
       "      <th>Rate</th>\n",
       "      <th>Tax</th>\n",
       "      <th>total_amt</th>\n",
       "      <th>Store_type</th>\n",
       "      <th>prod_cat</th>\n",
       "      <th>prod_subcat</th>\n",
       "      <th>Age</th>\n",
       "    </tr>\n",
       "  </thead>\n",
       "  <tbody>\n",
       "  </tbody>\n",
       "</table>\n",
       "</div>"
      ],
      "text/plain": [
       "Empty DataFrame\n",
       "Columns: [customer_Id, DOB, Gender, city_code, transaction_id, tran_date, prod_sub_cat_code, prod_cat_code, Qty, Rate, Tax, total_amt, Store_type, prod_cat, prod_subcat, Age]\n",
       "Index: []"
      ]
     },
     "execution_count": 980,
     "metadata": {},
     "output_type": "execute_result"
    }
   ],
   "source": [
    "#Removing Negative Transaction\n",
    "\n",
    "dft= Customer_Final[~(Customer_Final['total_amt']<0)]\n",
    "\n",
    "dft[dft.total_amt <0]"
   ]
  },
  {
   "cell_type": "code",
   "execution_count": 981,
   "id": "8cddafab",
   "metadata": {},
   "outputs": [
    {
     "data": {
      "text/plain": [
       "6"
      ]
     },
     "execution_count": 981,
     "metadata": {},
     "output_type": "execute_result"
    }
   ],
   "source": [
    "#Considering unique Transaction ID\n",
    "\n",
    "dft1 = dft.groupby(['customer_Id']).transaction_id.count().reset_index()\n",
    "dft1[dft1.transaction_id>10].customer_Id.count()\n"
   ]
  },
  {
   "cell_type": "markdown",
   "id": "6102539e",
   "metadata": {},
   "source": [
    "6 customers have more than 10 transactions "
   ]
  },
  {
   "cell_type": "code",
   "execution_count": 982,
   "id": "eb22d6d7",
   "metadata": {},
   "outputs": [
    {
     "data": {
      "text/plain": [
       "customer_Id\n",
       "270908    10\n",
       "272286    10\n",
       "273014    10\n",
       "274854    10\n",
       "Name: transaction_id, dtype: int64"
      ]
     },
     "execution_count": 982,
     "metadata": {},
     "output_type": "execute_result"
    }
   ],
   "source": [
    "#Considering the product based transaction\n",
    "trans = Customer_Final.groupby(['customer_Id','prod_cat','prod_subcat'])['transaction_id'].count().reset_index()\n",
    "tf= trans.groupby(\"customer_Id\").transaction_id.count()\n",
    "tf[tf>9]\n"
   ]
  },
  {
   "cell_type": "markdown",
   "id": "fadb9b5b",
   "metadata": {},
   "source": [
    "No customer has unique transaction more than 10"
   ]
  },
  {
   "cell_type": "markdown",
   "id": "8f766a1e",
   "metadata": {},
   "source": [
    "### 11. For all customers aged between 25 - 35, find out:"
   ]
  },
  {
   "cell_type": "markdown",
   "id": "1ed4b8d8",
   "metadata": {},
   "source": [
    "##### a. What was the total amount spent for “Electronics” and “Books” product categories?"
   ]
  },
  {
   "cell_type": "code",
   "execution_count": 946,
   "id": "810cf355",
   "metadata": {},
   "outputs": [],
   "source": [
    "now =pd.Timestamp.now()\n",
    "Customer_Final['Age'] = now.year-Customer_Final.DOB.dt.year\n"
   ]
  },
  {
   "cell_type": "code",
   "execution_count": 976,
   "id": "43445e49",
   "metadata": {},
   "outputs": [],
   "source": [
    "data_25_35 = Customer_Final[(Customer_Final.Age>=25 )& (Customer_Final.Age<=35)]\n"
   ]
  },
  {
   "cell_type": "code",
   "execution_count": 977,
   "id": "c5c86a19",
   "metadata": {},
   "outputs": [
    {
     "data": {
      "text/plain": [
       "6058458.64"
      ]
     },
     "execution_count": 977,
     "metadata": {},
     "output_type": "execute_result"
    }
   ],
   "source": [
    "round(data_25_35.loc[data_25_35['prod_cat'].isin(['Electronics','Books']),'total_amt'].sum(),2)"
   ]
  },
  {
   "cell_type": "markdown",
   "id": "a13f4f17",
   "metadata": {},
   "source": [
    "##### b. What was the total amount spent by these customers between 1st Jan, 2014 to 1st Mar, 2014?"
   ]
  },
  {
   "cell_type": "code",
   "execution_count": 978,
   "id": "4d44ddcf",
   "metadata": {},
   "outputs": [
    {
     "data": {
      "text/plain": [
       "428230.595"
      ]
     },
     "execution_count": 978,
     "metadata": {},
     "output_type": "execute_result"
    }
   ],
   "source": [
    "from_date = pd.to_datetime(\"01Jan2014\",format=\"%d%b%Y\")\n",
    "to_date = pd.to_datetime(\"1Mar2014\",format=\"%d%b%Y\")\n",
    "\n",
    "data_25_35.loc[(data_25_35[\"tran_date\"] >= from_date) & (data_25_35[\"tran_date\"] <= to_date),'total_amt'].sum() "
   ]
  },
  {
   "cell_type": "code",
   "execution_count": null,
   "id": "40bffa04",
   "metadata": {},
   "outputs": [],
   "source": []
  }
 ],
 "metadata": {
  "kernelspec": {
   "display_name": "Python 3",
   "language": "python",
   "name": "python3"
  },
  "language_info": {
   "codemirror_mode": {
    "name": "ipython",
    "version": 3
   },
   "file_extension": ".py",
   "mimetype": "text/x-python",
   "name": "python",
   "nbconvert_exporter": "python",
   "pygments_lexer": "ipython3",
   "version": "3.8.8"
  }
 },
 "nbformat": 4,
 "nbformat_minor": 5
}
