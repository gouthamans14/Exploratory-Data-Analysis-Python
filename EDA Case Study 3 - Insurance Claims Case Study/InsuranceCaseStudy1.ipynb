{
 "cells": [
  {
   "cell_type": "markdown",
   "id": "e131d10f",
   "metadata": {},
   "source": [
    "#                                 Insurance Case Study"
   ]
  },
  {
   "cell_type": "code",
   "execution_count": 590,
   "id": "6d864ded",
   "metadata": {},
   "outputs": [],
   "source": [
    "import numpy as np\n",
    "import pandas as pd\n",
    "\n",
    "import matplotlib.pyplot as plt\n",
    "%matplotlib inline\n",
    "\n",
    "import seaborn as sns\n",
    "\n",
    "import scipy.stats as stats"
   ]
  },
  {
   "cell_type": "code",
   "execution_count": 591,
   "id": "533c04a8",
   "metadata": {},
   "outputs": [],
   "source": [
    "path = \"C:\\\\Users\\gouthaman\\Desktop\\FullStack_AI\\Data Science Using Python\\Project - Datascience\\Python Foundation Case Study 3 - Insurance Claims Case Study\""
   ]
  },
  {
   "cell_type": "code",
   "execution_count": 592,
   "id": "973acc8b",
   "metadata": {},
   "outputs": [],
   "source": [
    "claims =pd.read_csv(path+\"\\claims.csv\")"
   ]
  },
  {
   "cell_type": "code",
   "execution_count": 593,
   "id": "5ed4e687",
   "metadata": {},
   "outputs": [
    {
     "data": {
      "text/plain": [
       "(1100, 10)"
      ]
     },
     "execution_count": 593,
     "metadata": {},
     "output_type": "execute_result"
    }
   ],
   "source": [
    "claims.shape"
   ]
  },
  {
   "cell_type": "code",
   "execution_count": 594,
   "id": "9fc42941",
   "metadata": {},
   "outputs": [
    {
     "name": "stdout",
     "output_type": "stream",
     "text": [
      "<class 'pandas.core.frame.DataFrame'>\n",
      "RangeIndex: 1100 entries, 0 to 1099\n",
      "Data columns (total 10 columns):\n",
      " #   Column               Non-Null Count  Dtype  \n",
      "---  ------               --------------  -----  \n",
      " 0   claim_id             1100 non-null   int64  \n",
      " 1   customer_id          1100 non-null   int64  \n",
      " 2   incident_cause       1100 non-null   object \n",
      " 3   claim_date           1100 non-null   object \n",
      " 4   claim_area           1100 non-null   object \n",
      " 5   police_report        1100 non-null   object \n",
      " 6   claim_type           1100 non-null   object \n",
      " 7   claim_amount         1035 non-null   object \n",
      " 8   total_policy_claims  1090 non-null   float64\n",
      " 9   fraudulent           1100 non-null   object \n",
      "dtypes: float64(1), int64(2), object(7)\n",
      "memory usage: 86.1+ KB\n"
     ]
    }
   ],
   "source": [
    "claims.info()"
   ]
  },
  {
   "cell_type": "code",
   "execution_count": 595,
   "id": "ec08e26d",
   "metadata": {},
   "outputs": [
    {
     "data": {
      "text/html": [
       "<div>\n",
       "<style scoped>\n",
       "    .dataframe tbody tr th:only-of-type {\n",
       "        vertical-align: middle;\n",
       "    }\n",
       "\n",
       "    .dataframe tbody tr th {\n",
       "        vertical-align: top;\n",
       "    }\n",
       "\n",
       "    .dataframe thead th {\n",
       "        text-align: right;\n",
       "    }\n",
       "</style>\n",
       "<table border=\"1\" class=\"dataframe\">\n",
       "  <thead>\n",
       "    <tr style=\"text-align: right;\">\n",
       "      <th></th>\n",
       "      <th>claim_id</th>\n",
       "      <th>customer_id</th>\n",
       "      <th>incident_cause</th>\n",
       "      <th>claim_date</th>\n",
       "      <th>claim_area</th>\n",
       "      <th>police_report</th>\n",
       "      <th>claim_type</th>\n",
       "      <th>claim_amount</th>\n",
       "      <th>total_policy_claims</th>\n",
       "      <th>fraudulent</th>\n",
       "    </tr>\n",
       "  </thead>\n",
       "  <tbody>\n",
       "    <tr>\n",
       "      <th>0</th>\n",
       "      <td>54004764</td>\n",
       "      <td>21868593</td>\n",
       "      <td>Driver error</td>\n",
       "      <td>11/27/2017</td>\n",
       "      <td>Auto</td>\n",
       "      <td>No</td>\n",
       "      <td>Material only</td>\n",
       "      <td>$2980</td>\n",
       "      <td>1.0</td>\n",
       "      <td>No</td>\n",
       "    </tr>\n",
       "    <tr>\n",
       "      <th>1</th>\n",
       "      <td>33985796</td>\n",
       "      <td>75740424</td>\n",
       "      <td>Crime</td>\n",
       "      <td>10/03/2018</td>\n",
       "      <td>Home</td>\n",
       "      <td>Unknown</td>\n",
       "      <td>Material only</td>\n",
       "      <td>$2980</td>\n",
       "      <td>3.0</td>\n",
       "      <td>No</td>\n",
       "    </tr>\n",
       "  </tbody>\n",
       "</table>\n",
       "</div>"
      ],
      "text/plain": [
       "   claim_id  customer_id incident_cause  claim_date claim_area police_report  \\\n",
       "0  54004764     21868593   Driver error  11/27/2017       Auto            No   \n",
       "1  33985796     75740424          Crime  10/03/2018       Home       Unknown   \n",
       "\n",
       "      claim_type claim_amount  total_policy_claims fraudulent  \n",
       "0  Material only        $2980                  1.0         No  \n",
       "1  Material only        $2980                  3.0         No  "
      ]
     },
     "execution_count": 595,
     "metadata": {},
     "output_type": "execute_result"
    }
   ],
   "source": [
    "claims.head(2)"
   ]
  },
  {
   "cell_type": "code",
   "execution_count": 596,
   "id": "ee80d063",
   "metadata": {},
   "outputs": [
    {
     "data": {
      "text/plain": [
       "(1085, 6)"
      ]
     },
     "execution_count": 596,
     "metadata": {},
     "output_type": "execute_result"
    }
   ],
   "source": [
    "cust_data = pd.read_csv(path+\"\\cust_demographics.csv\")\n",
    "cust_data.shape"
   ]
  },
  {
   "cell_type": "code",
   "execution_count": 597,
   "id": "b07067d7",
   "metadata": {},
   "outputs": [
    {
     "name": "stdout",
     "output_type": "stream",
     "text": [
      "<class 'pandas.core.frame.DataFrame'>\n",
      "RangeIndex: 1085 entries, 0 to 1084\n",
      "Data columns (total 6 columns):\n",
      " #   Column       Non-Null Count  Dtype \n",
      "---  ------       --------------  ----- \n",
      " 0   CUST_ID      1085 non-null   int64 \n",
      " 1   gender       1085 non-null   object\n",
      " 2   DateOfBirth  1085 non-null   object\n",
      " 3   State        1085 non-null   object\n",
      " 4   Contact      1085 non-null   object\n",
      " 5   Segment      1085 non-null   object\n",
      "dtypes: int64(1), object(5)\n",
      "memory usage: 51.0+ KB\n"
     ]
    }
   ],
   "source": [
    "cust_data.info()"
   ]
  },
  {
   "cell_type": "markdown",
   "id": "c3ef2920",
   "metadata": {},
   "source": [
    "#### 1) Import claims_data.csv and cust_data.csv which is provided to you and combine the two datasets appropriately to create a 360-degree view of the data. Use the same for the subsequent questions.\n"
   ]
  },
  {
   "cell_type": "code",
   "execution_count": 598,
   "id": "a2366c6b",
   "metadata": {},
   "outputs": [
    {
     "name": "stdout",
     "output_type": "stream",
     "text": [
      "<class 'pandas.core.frame.DataFrame'>\n",
      "Int64Index: 1100 entries, 0 to 1099\n",
      "Data columns (total 15 columns):\n",
      " #   Column               Non-Null Count  Dtype  \n",
      "---  ------               --------------  -----  \n",
      " 0   claim_id             1100 non-null   int64  \n",
      " 1   customer_id          1100 non-null   int64  \n",
      " 2   incident_cause       1100 non-null   object \n",
      " 3   claim_date           1100 non-null   object \n",
      " 4   claim_area           1100 non-null   object \n",
      " 5   police_report        1100 non-null   object \n",
      " 6   claim_type           1100 non-null   object \n",
      " 7   claim_amount         1035 non-null   object \n",
      " 8   total_policy_claims  1090 non-null   float64\n",
      " 9   fraudulent           1100 non-null   object \n",
      " 10  gender               1085 non-null   object \n",
      " 11  DateOfBirth          1085 non-null   object \n",
      " 12  State                1085 non-null   object \n",
      " 13  Contact              1085 non-null   object \n",
      " 14  Segment              1085 non-null   object \n",
      "dtypes: float64(1), int64(2), object(12)\n",
      "memory usage: 137.5+ KB\n"
     ]
    }
   ],
   "source": [
    "#using left join\n",
    "df=pd.merge(left=claims,right=cust_data,how=\"left\",left_on=\"customer_id\",right_on=\"CUST_ID\")\n",
    "df.drop(columns=\"CUST_ID\",inplace=True)\n",
    "\n",
    "df.info()"
   ]
  },
  {
   "cell_type": "code",
   "execution_count": 599,
   "id": "4ba2c3b0",
   "metadata": {},
   "outputs": [
    {
     "data": {
      "text/plain": [
       "(1100, 15)"
      ]
     },
     "execution_count": 599,
     "metadata": {},
     "output_type": "execute_result"
    }
   ],
   "source": [
    "df.shape"
   ]
  },
  {
   "cell_type": "markdown",
   "id": "f2bbb2ae",
   "metadata": {},
   "source": [
    "### 2. Perform a data audit for the datatypes and find out if there are any mismatch within the current datatypes of the columns and their business significance.\n",
    "### 3)Convert the column claim_amount to numeric. Use the appropriate modules/attributes to remove the $ sign"
   ]
  },
  {
   "cell_type": "code",
   "execution_count": 600,
   "id": "fa6c3b77",
   "metadata": {},
   "outputs": [
    {
     "name": "stdout",
     "output_type": "stream",
     "text": [
      "<class 'pandas.core.frame.DataFrame'>\n",
      "Int64Index: 1100 entries, 0 to 1099\n",
      "Data columns (total 15 columns):\n",
      " #   Column               Non-Null Count  Dtype  \n",
      "---  ------               --------------  -----  \n",
      " 0   claim_id             1100 non-null   int64  \n",
      " 1   customer_id          1100 non-null   int64  \n",
      " 2   incident_cause       1100 non-null   object \n",
      " 3   claim_date           1100 non-null   object \n",
      " 4   claim_area           1100 non-null   object \n",
      " 5   police_report        1100 non-null   object \n",
      " 6   claim_type           1100 non-null   object \n",
      " 7   claim_amount         1035 non-null   object \n",
      " 8   total_policy_claims  1090 non-null   float64\n",
      " 9   fraudulent           1100 non-null   object \n",
      " 10  gender               1085 non-null   object \n",
      " 11  DateOfBirth          1085 non-null   object \n",
      " 12  State                1085 non-null   object \n",
      " 13  Contact              1085 non-null   object \n",
      " 14  Segment              1085 non-null   object \n",
      "dtypes: float64(1), int64(2), object(12)\n",
      "memory usage: 137.5+ KB\n"
     ]
    }
   ],
   "source": [
    "df.info()"
   ]
  },
  {
   "cell_type": "code",
   "execution_count": 601,
   "id": "5134c67a",
   "metadata": {},
   "outputs": [],
   "source": [
    "#converting claim_date from object to datetype \n",
    "df.claim_date = df.claim_date.apply(lambda X: pd.to_datetime(X,format=\"%m/%d/%Y\"))"
   ]
  },
  {
   "cell_type": "code",
   "execution_count": 602,
   "id": "d2f8bc7a",
   "metadata": {},
   "outputs": [
    {
     "name": "stderr",
     "output_type": "stream",
     "text": [
      "<ipython-input-602-c360d74a5b06>:1: FutureWarning: The default value of regex will change from True to False in a future version. In addition, single character regular expressions will*not* be treated as literal strings when regex=True.\n",
      "  df.claim_amount= df.claim_amount.str.replace(\"$\",\"\")\n"
     ]
    }
   ],
   "source": [
    "#Ans for Q3 \n",
    "df.claim_amount= df.claim_amount.str.replace(\"$\",\"\")\n",
    "df.claim_amount=df.claim_amount.astype(float)"
   ]
  },
  {
   "cell_type": "code",
   "execution_count": 603,
   "id": "881f77bd",
   "metadata": {},
   "outputs": [],
   "source": [
    "df.DateOfBirth = pd.to_datetime(df.DateOfBirth)"
   ]
  },
  {
   "cell_type": "code",
   "execution_count": 604,
   "id": "cf3c039e",
   "metadata": {},
   "outputs": [
    {
     "name": "stdout",
     "output_type": "stream",
     "text": [
      "<class 'pandas.core.frame.DataFrame'>\n",
      "Int64Index: 1100 entries, 0 to 1099\n",
      "Data columns (total 15 columns):\n",
      " #   Column               Non-Null Count  Dtype         \n",
      "---  ------               --------------  -----         \n",
      " 0   claim_id             1100 non-null   int64         \n",
      " 1   customer_id          1100 non-null   int64         \n",
      " 2   incident_cause       1100 non-null   object        \n",
      " 3   claim_date           1100 non-null   datetime64[ns]\n",
      " 4   claim_area           1100 non-null   object        \n",
      " 5   police_report        1100 non-null   object        \n",
      " 6   claim_type           1100 non-null   object        \n",
      " 7   claim_amount         1035 non-null   float64       \n",
      " 8   total_policy_claims  1090 non-null   float64       \n",
      " 9   fraudulent           1100 non-null   object        \n",
      " 10  gender               1085 non-null   object        \n",
      " 11  DateOfBirth          1085 non-null   datetime64[ns]\n",
      " 12  State                1085 non-null   object        \n",
      " 13  Contact              1085 non-null   object        \n",
      " 14  Segment              1085 non-null   object        \n",
      "dtypes: datetime64[ns](2), float64(2), int64(2), object(9)\n",
      "memory usage: 137.5+ KB\n"
     ]
    }
   ],
   "source": [
    "df.info()"
   ]
  },
  {
   "cell_type": "code",
   "execution_count": 520,
   "id": "86763a43",
   "metadata": {},
   "outputs": [],
   "source": [
    "#already converted the claim amount in the data audit step\n",
    "#df.claim_amount= df.claim_amount.str.replace(\"$\",\"\")\n",
    "#df.claim_amount=df.claim_amount.astype(float)"
   ]
  },
  {
   "cell_type": "markdown",
   "id": "d97cce49",
   "metadata": {},
   "source": [
    "### 4. Of all the injury claims, some of them have gone unreported with the police. Create an alert flag (1,0) for all such claims."
   ]
  },
  {
   "cell_type": "code",
   "execution_count": 605,
   "id": "ae63da41",
   "metadata": {},
   "outputs": [
    {
     "data": {
      "text/plain": [
       "Material only          663\n",
       "Material and injury    241\n",
       "Injury only            196\n",
       "Name: claim_type, dtype: int64"
      ]
     },
     "execution_count": 605,
     "metadata": {},
     "output_type": "execute_result"
    }
   ],
   "source": [
    "df.claim_type.value_counts()"
   ]
  },
  {
   "cell_type": "code",
   "execution_count": 606,
   "id": "df9ffb7b",
   "metadata": {
    "scrolled": true
   },
   "outputs": [],
   "source": [
    "df[\"report_flag\"]= df.police_report.apply(lambda X: 1 if X==\"Yes\" else 0 if X==\"No\" else np.nan)\n",
    "df.drop(columns=\"police_report\",inplace=True)"
   ]
  },
  {
   "cell_type": "code",
   "execution_count": 607,
   "id": "f16b918d",
   "metadata": {},
   "outputs": [
    {
     "data": {
      "text/html": [
       "<div>\n",
       "<style scoped>\n",
       "    .dataframe tbody tr th:only-of-type {\n",
       "        vertical-align: middle;\n",
       "    }\n",
       "\n",
       "    .dataframe tbody tr th {\n",
       "        vertical-align: top;\n",
       "    }\n",
       "\n",
       "    .dataframe thead th {\n",
       "        text-align: right;\n",
       "    }\n",
       "</style>\n",
       "<table border=\"1\" class=\"dataframe\">\n",
       "  <thead>\n",
       "    <tr style=\"text-align: right;\">\n",
       "      <th></th>\n",
       "      <th>claim_id</th>\n",
       "      <th>customer_id</th>\n",
       "      <th>incident_cause</th>\n",
       "      <th>claim_date</th>\n",
       "      <th>claim_area</th>\n",
       "      <th>claim_type</th>\n",
       "      <th>claim_amount</th>\n",
       "      <th>total_policy_claims</th>\n",
       "      <th>fraudulent</th>\n",
       "      <th>gender</th>\n",
       "      <th>DateOfBirth</th>\n",
       "      <th>State</th>\n",
       "      <th>Contact</th>\n",
       "      <th>Segment</th>\n",
       "      <th>report_flag</th>\n",
       "    </tr>\n",
       "  </thead>\n",
       "  <tbody>\n",
       "    <tr>\n",
       "      <th>0</th>\n",
       "      <td>54004764</td>\n",
       "      <td>21868593</td>\n",
       "      <td>Driver error</td>\n",
       "      <td>2017-11-27</td>\n",
       "      <td>Auto</td>\n",
       "      <td>Material only</td>\n",
       "      <td>2980.0</td>\n",
       "      <td>1.0</td>\n",
       "      <td>No</td>\n",
       "      <td>Female</td>\n",
       "      <td>1979-01-12</td>\n",
       "      <td>VT</td>\n",
       "      <td>789-916-8172</td>\n",
       "      <td>Platinum</td>\n",
       "      <td>0.0</td>\n",
       "    </tr>\n",
       "    <tr>\n",
       "      <th>1</th>\n",
       "      <td>33985796</td>\n",
       "      <td>75740424</td>\n",
       "      <td>Crime</td>\n",
       "      <td>2018-10-03</td>\n",
       "      <td>Home</td>\n",
       "      <td>Material only</td>\n",
       "      <td>2980.0</td>\n",
       "      <td>3.0</td>\n",
       "      <td>No</td>\n",
       "      <td>Female</td>\n",
       "      <td>2070-01-13</td>\n",
       "      <td>ME</td>\n",
       "      <td>265-543-1264</td>\n",
       "      <td>Silver</td>\n",
       "      <td>NaN</td>\n",
       "    </tr>\n",
       "    <tr>\n",
       "      <th>2</th>\n",
       "      <td>53522022</td>\n",
       "      <td>30308357</td>\n",
       "      <td>Other driver error</td>\n",
       "      <td>2018-02-02</td>\n",
       "      <td>Auto</td>\n",
       "      <td>Material only</td>\n",
       "      <td>3369.5</td>\n",
       "      <td>1.0</td>\n",
       "      <td>Yes</td>\n",
       "      <td>Female</td>\n",
       "      <td>1984-03-11</td>\n",
       "      <td>TN</td>\n",
       "      <td>798-631-4758</td>\n",
       "      <td>Silver</td>\n",
       "      <td>0.0</td>\n",
       "    </tr>\n",
       "    <tr>\n",
       "      <th>3</th>\n",
       "      <td>13015401</td>\n",
       "      <td>47830476</td>\n",
       "      <td>Natural causes</td>\n",
       "      <td>2018-06-17</td>\n",
       "      <td>Auto</td>\n",
       "      <td>Material only</td>\n",
       "      <td>1680.0</td>\n",
       "      <td>1.0</td>\n",
       "      <td>No</td>\n",
       "      <td>Female</td>\n",
       "      <td>1986-05-01</td>\n",
       "      <td>MA</td>\n",
       "      <td>413-187-7945</td>\n",
       "      <td>Silver</td>\n",
       "      <td>0.0</td>\n",
       "    </tr>\n",
       "    <tr>\n",
       "      <th>4</th>\n",
       "      <td>22890252</td>\n",
       "      <td>19269962</td>\n",
       "      <td>Crime</td>\n",
       "      <td>2018-01-13</td>\n",
       "      <td>Auto</td>\n",
       "      <td>Material only</td>\n",
       "      <td>2680.0</td>\n",
       "      <td>1.0</td>\n",
       "      <td>No</td>\n",
       "      <td>Male</td>\n",
       "      <td>1977-05-13</td>\n",
       "      <td>NV</td>\n",
       "      <td>956-871-8691</td>\n",
       "      <td>Gold</td>\n",
       "      <td>0.0</td>\n",
       "    </tr>\n",
       "  </tbody>\n",
       "</table>\n",
       "</div>"
      ],
      "text/plain": [
       "   claim_id  customer_id      incident_cause claim_date claim_area  \\\n",
       "0  54004764     21868593        Driver error 2017-11-27       Auto   \n",
       "1  33985796     75740424               Crime 2018-10-03       Home   \n",
       "2  53522022     30308357  Other driver error 2018-02-02       Auto   \n",
       "3  13015401     47830476      Natural causes 2018-06-17       Auto   \n",
       "4  22890252     19269962               Crime 2018-01-13       Auto   \n",
       "\n",
       "      claim_type  claim_amount  total_policy_claims fraudulent  gender  \\\n",
       "0  Material only        2980.0                  1.0         No  Female   \n",
       "1  Material only        2980.0                  3.0         No  Female   \n",
       "2  Material only        3369.5                  1.0        Yes  Female   \n",
       "3  Material only        1680.0                  1.0         No  Female   \n",
       "4  Material only        2680.0                  1.0         No    Male   \n",
       "\n",
       "  DateOfBirth State       Contact   Segment  report_flag  \n",
       "0  1979-01-12    VT  789-916-8172  Platinum          0.0  \n",
       "1  2070-01-13    ME  265-543-1264    Silver          NaN  \n",
       "2  1984-03-11    TN  798-631-4758    Silver          0.0  \n",
       "3  1986-05-01    MA  413-187-7945    Silver          0.0  \n",
       "4  1977-05-13    NV  956-871-8691      Gold          0.0  "
      ]
     },
     "execution_count": 607,
     "metadata": {},
     "output_type": "execute_result"
    }
   ],
   "source": [
    "df.head(5)"
   ]
  },
  {
   "cell_type": "markdown",
   "id": "4ef7e63d",
   "metadata": {},
   "source": [
    "### 5. One customer can claim for insurance more than once and in each claim, multiple categories of claims can be involved. However, customer ID should remain unique.  Retain the most recent observation and delete any duplicated records in the data based on the customer ID column."
   ]
  },
  {
   "cell_type": "code",
   "execution_count": 608,
   "id": "925dac57",
   "metadata": {},
   "outputs": [
    {
     "data": {
      "text/plain": [
       "(1100, 15)"
      ]
     },
     "execution_count": 608,
     "metadata": {},
     "output_type": "execute_result"
    }
   ],
   "source": [
    "df.shape"
   ]
  },
  {
   "cell_type": "code",
   "execution_count": 609,
   "id": "87262bce",
   "metadata": {},
   "outputs": [
    {
     "data": {
      "text/plain": [
       "(1093,)"
      ]
     },
     "execution_count": 609,
     "metadata": {},
     "output_type": "execute_result"
    }
   ],
   "source": [
    "df.customer_id.value_counts().index.shape"
   ]
  },
  {
   "cell_type": "code",
   "execution_count": 610,
   "id": "48d48dcc",
   "metadata": {},
   "outputs": [
    {
     "data": {
      "text/plain": [
       "620    84147585\n",
       "621    85357756\n",
       "622    53539195\n",
       "629    30308357\n",
       "630    47830476\n",
       "631    19269962\n",
       "632    21831191\n",
       "Name: customer_id, dtype: int64"
      ]
     },
     "execution_count": 610,
     "metadata": {},
     "output_type": "execute_result"
    }
   ],
   "source": [
    "df.loc[df.customer_id.duplicated(),\"customer_id\"]"
   ]
  },
  {
   "cell_type": "code",
   "execution_count": 611,
   "id": "1e893197",
   "metadata": {},
   "outputs": [],
   "source": [
    "#keeping recent observation and deleting the duplicates\n",
    "df =df.sort_values(by=\"claim_date\",ascending= False).drop_duplicates(subset=[\"customer_id\"],keep=\"first\")"
   ]
  },
  {
   "cell_type": "code",
   "execution_count": 612,
   "id": "21154a4f",
   "metadata": {},
   "outputs": [
    {
     "data": {
      "text/plain": [
       "(1093, 15)"
      ]
     },
     "execution_count": 612,
     "metadata": {},
     "output_type": "execute_result"
    }
   ],
   "source": [
    "df.shape"
   ]
  },
  {
   "cell_type": "markdown",
   "id": "400b472e",
   "metadata": {},
   "source": [
    "### 6. Check for missing values and impute the missing values with an appropriate value. (mean for continuous and mode for categorical)\n"
   ]
  },
  {
   "cell_type": "code",
   "execution_count": 613,
   "id": "6c252e3f",
   "metadata": {},
   "outputs": [
    {
     "name": "stdout",
     "output_type": "stream",
     "text": [
      "<class 'pandas.core.frame.DataFrame'>\n",
      "Int64Index: 1093 entries, 282 to 1064\n",
      "Data columns (total 15 columns):\n",
      " #   Column               Non-Null Count  Dtype         \n",
      "---  ------               --------------  -----         \n",
      " 0   claim_id             1093 non-null   int64         \n",
      " 1   customer_id          1093 non-null   int64         \n",
      " 2   incident_cause       1093 non-null   object        \n",
      " 3   claim_date           1093 non-null   datetime64[ns]\n",
      " 4   claim_area           1093 non-null   object        \n",
      " 5   claim_type           1093 non-null   object        \n",
      " 6   claim_amount         1028 non-null   float64       \n",
      " 7   total_policy_claims  1083 non-null   float64       \n",
      " 8   fraudulent           1093 non-null   object        \n",
      " 9   gender               1078 non-null   object        \n",
      " 10  DateOfBirth          1078 non-null   datetime64[ns]\n",
      " 11  State                1078 non-null   object        \n",
      " 12  Contact              1078 non-null   object        \n",
      " 13  Segment              1078 non-null   object        \n",
      " 14  report_flag          795 non-null    float64       \n",
      "dtypes: datetime64[ns](2), float64(3), int64(2), object(8)\n",
      "memory usage: 136.6+ KB\n"
     ]
    }
   ],
   "source": [
    "df.info()"
   ]
  },
  {
   "cell_type": "code",
   "execution_count": 614,
   "id": "546b2074",
   "metadata": {},
   "outputs": [],
   "source": [
    "df.Contact.head() #not useful so dropping\n",
    "df.drop(columns='Contact',inplace=True)"
   ]
  },
  {
   "cell_type": "code",
   "execution_count": 615,
   "id": "db75dfb1",
   "metadata": {},
   "outputs": [
    {
     "data": {
      "text/plain": [
       "claim_id                 0\n",
       "customer_id              0\n",
       "incident_cause           0\n",
       "claim_date               0\n",
       "claim_area               0\n",
       "claim_type               0\n",
       "claim_amount            65\n",
       "total_policy_claims     10\n",
       "fraudulent               0\n",
       "gender                  15\n",
       "DateOfBirth             15\n",
       "State                   15\n",
       "Segment                 15\n",
       "report_flag            298\n",
       "dtype: int64"
      ]
     },
     "execution_count": 615,
     "metadata": {},
     "output_type": "execute_result"
    }
   ],
   "source": [
    "df.isna().sum()"
   ]
  },
  {
   "cell_type": "code",
   "execution_count": 532,
   "id": "ec98de1a",
   "metadata": {},
   "outputs": [
    {
     "data": {
      "text/plain": [
       "Gold        371\n",
       "Platinum    361\n",
       "Silver      346\n",
       "Name: Segment, dtype: int64"
      ]
     },
     "execution_count": 532,
     "metadata": {},
     "output_type": "execute_result"
    }
   ],
   "source": [
    "df.Segment.value_counts()"
   ]
  },
  {
   "cell_type": "code",
   "execution_count": 533,
   "id": "175e2259",
   "metadata": {},
   "outputs": [],
   "source": [
    "continuous= [\"claim_amount\"]\n",
    "categorical=[\"total_policy_claims\",\"gender\",\"State\",\"Segment\",\"report_flag\"]"
   ]
  },
  {
   "cell_type": "code",
   "execution_count": 616,
   "id": "7def5941",
   "metadata": {},
   "outputs": [],
   "source": [
    "for i in df.columns:\n",
    "    if i in continuous:\n",
    "        df[i].fillna(value=df[i].mean(),inplace=True)\n",
    "    if i in categorical:\n",
    "        df[i].fillna(value=df[i].mode()[0],inplace=True)"
   ]
  },
  {
   "cell_type": "code",
   "execution_count": 535,
   "id": "8cbc806f",
   "metadata": {},
   "outputs": [
    {
     "data": {
      "text/plain": [
       "claim_id                0\n",
       "customer_id             0\n",
       "incident_cause          0\n",
       "claim_date              0\n",
       "claim_area              0\n",
       "claim_type              0\n",
       "claim_amount            0\n",
       "total_policy_claims     0\n",
       "fraudulent              0\n",
       "gender                  0\n",
       "DateOfBirth            15\n",
       "State                   0\n",
       "Segment                 0\n",
       "report_flag             0\n",
       "dtype: int64"
      ]
     },
     "execution_count": 535,
     "metadata": {},
     "output_type": "execute_result"
    }
   ],
   "source": [
    "df.isna().sum()#dateofbirth missing value can be handled as age"
   ]
  },
  {
   "cell_type": "markdown",
   "id": "59b1c1fe",
   "metadata": {},
   "source": [
    "### 7. Calculate the age of customers in years. Based on the age, categorize the customers according to the below criteria\n",
    "    Children < 18\n",
    "    Youth 18-30\n",
    "    Adult 30-60\n",
    "    Senior > 60"
   ]
  },
  {
   "cell_type": "code",
   "execution_count": 619,
   "id": "5aef63ef",
   "metadata": {},
   "outputs": [
    {
     "data": {
      "text/plain": [
       "(335, 14)"
      ]
     },
     "execution_count": 619,
     "metadata": {},
     "output_type": "execute_result"
    }
   ],
   "source": [
    "df[df.DateOfBirth.dt.year>2020].shape"
   ]
  },
  {
   "cell_type": "code",
   "execution_count": 620,
   "id": "d8742b01",
   "metadata": {},
   "outputs": [
    {
     "data": {
      "text/plain": [
       "(1093,)"
      ]
     },
     "execution_count": 620,
     "metadata": {},
     "output_type": "execute_result"
    }
   ],
   "source": [
    "df.DateOfBirth.shape"
   ]
  },
  {
   "cell_type": "code",
   "execution_count": 621,
   "id": "275a5cad",
   "metadata": {},
   "outputs": [],
   "source": [
    "df.DateOfBirth = np.where(df.DateOfBirth.dt.year > 2000,(df.DateOfBirth-pd.DateOffset(years=100)),df.DateOfBirth)"
   ]
  },
  {
   "cell_type": "code",
   "execution_count": 622,
   "id": "63ec4640",
   "metadata": {},
   "outputs": [
    {
     "data": {
      "text/plain": [
       "(0, 14)"
      ]
     },
     "execution_count": 622,
     "metadata": {},
     "output_type": "execute_result"
    }
   ],
   "source": [
    "df[df.DateOfBirth.dt.year>2000].shape\n"
   ]
  },
  {
   "cell_type": "code",
   "execution_count": 623,
   "id": "6a868522",
   "metadata": {},
   "outputs": [
    {
     "name": "stdout",
     "output_type": "stream",
     "text": [
      "58.0\n",
      "18.0\n"
     ]
    }
   ],
   "source": [
    "df[\"age\"] =df.claim_date.dt.year- df.DateOfBirth.dt.year \n",
    "print(df.age.max())\n",
    "print(df.age.min())\n"
   ]
  },
  {
   "cell_type": "code",
   "execution_count": 624,
   "id": "b8870f6c",
   "metadata": {},
   "outputs": [
    {
     "name": "stdout",
     "output_type": "stream",
     "text": [
      "15\n"
     ]
    }
   ],
   "source": [
    "print(df.age.isna().sum())\n",
    "df.age.fillna(value =df.age.mean(),inplace=True)\n",
    "#"
   ]
  },
  {
   "cell_type": "code",
   "execution_count": 625,
   "id": "ab026bb7",
   "metadata": {},
   "outputs": [
    {
     "data": {
      "text/plain": [
       "0"
      ]
     },
     "execution_count": 625,
     "metadata": {},
     "output_type": "execute_result"
    }
   ],
   "source": [
    "df.age.isna().sum()"
   ]
  },
  {
   "cell_type": "code",
   "execution_count": 626,
   "id": "2c868c3d",
   "metadata": {},
   "outputs": [
    {
     "name": "stdout",
     "output_type": "stream",
     "text": [
      "<class 'pandas.core.frame.DataFrame'>\n",
      "Int64Index: 1093 entries, 282 to 1064\n",
      "Data columns (total 15 columns):\n",
      " #   Column               Non-Null Count  Dtype         \n",
      "---  ------               --------------  -----         \n",
      " 0   claim_id             1093 non-null   int64         \n",
      " 1   customer_id          1093 non-null   int64         \n",
      " 2   incident_cause       1093 non-null   object        \n",
      " 3   claim_date           1093 non-null   datetime64[ns]\n",
      " 4   claim_area           1093 non-null   object        \n",
      " 5   claim_type           1093 non-null   object        \n",
      " 6   claim_amount         1093 non-null   float64       \n",
      " 7   total_policy_claims  1093 non-null   float64       \n",
      " 8   fraudulent           1093 non-null   object        \n",
      " 9   gender               1093 non-null   object        \n",
      " 10  DateOfBirth          1078 non-null   datetime64[ns]\n",
      " 11  State                1093 non-null   object        \n",
      " 12  Segment              1093 non-null   object        \n",
      " 13  report_flag          1093 non-null   float64       \n",
      " 14  age                  1093 non-null   float64       \n",
      "dtypes: datetime64[ns](2), float64(4), int64(2), object(7)\n",
      "memory usage: 136.6+ KB\n"
     ]
    }
   ],
   "source": [
    "df.info()"
   ]
  },
  {
   "cell_type": "code",
   "execution_count": 627,
   "id": "ba6a9ef4",
   "metadata": {},
   "outputs": [],
   "source": [
    "df[\"cust_cat\"] = pd.cut(df.age,bins=[0,17,30,60,100],labels=[\"Children\",\"Youth\",\"Adult\",\"Senior\"])"
   ]
  },
  {
   "cell_type": "code",
   "execution_count": 628,
   "id": "680b7519",
   "metadata": {},
   "outputs": [
    {
     "data": {
      "text/plain": [
       "Adult       744\n",
       "Youth       349\n",
       "Children      0\n",
       "Senior        0\n",
       "Name: cust_cat, dtype: int64"
      ]
     },
     "execution_count": 628,
     "metadata": {},
     "output_type": "execute_result"
    }
   ],
   "source": [
    "df[\"cust_cat\"].value_counts()"
   ]
  },
  {
   "cell_type": "markdown",
   "id": "d3fb18b4",
   "metadata": {},
   "source": [
    "#### 8. What is the average amount claimed by the customers from various segments?"
   ]
  },
  {
   "cell_type": "code",
   "execution_count": 629,
   "id": "23b8080d",
   "metadata": {},
   "outputs": [
    {
     "data": {
      "text/html": [
       "<div>\n",
       "<style scoped>\n",
       "    .dataframe tbody tr th:only-of-type {\n",
       "        vertical-align: middle;\n",
       "    }\n",
       "\n",
       "    .dataframe tbody tr th {\n",
       "        vertical-align: top;\n",
       "    }\n",
       "\n",
       "    .dataframe thead th {\n",
       "        text-align: right;\n",
       "    }\n",
       "</style>\n",
       "<table border=\"1\" class=\"dataframe\">\n",
       "  <thead>\n",
       "    <tr style=\"text-align: right;\">\n",
       "      <th></th>\n",
       "      <th>Segment</th>\n",
       "      <th>claim_amount</th>\n",
       "    </tr>\n",
       "  </thead>\n",
       "  <tbody>\n",
       "    <tr>\n",
       "      <th>0</th>\n",
       "      <td>Gold</td>\n",
       "      <td>12761.66</td>\n",
       "    </tr>\n",
       "    <tr>\n",
       "      <th>1</th>\n",
       "      <td>Platinum</td>\n",
       "      <td>12370.57</td>\n",
       "    </tr>\n",
       "    <tr>\n",
       "      <th>2</th>\n",
       "      <td>Silver</td>\n",
       "      <td>12265.74</td>\n",
       "    </tr>\n",
       "  </tbody>\n",
       "</table>\n",
       "</div>"
      ],
      "text/plain": [
       "    Segment  claim_amount\n",
       "0      Gold      12761.66\n",
       "1  Platinum      12370.57\n",
       "2    Silver      12265.74"
      ]
     },
     "execution_count": 629,
     "metadata": {},
     "output_type": "execute_result"
    }
   ],
   "source": [
    "round(df.groupby(\"Segment\")[\"claim_amount\"].mean(),2).reset_index()"
   ]
  },
  {
   "cell_type": "markdown",
   "id": "c9db0241",
   "metadata": {},
   "source": [
    "#### 9. What is the total claim amount based on incident cause for all the claims that have been done at least 20 days prior to 1st of October, 2018.\n"
   ]
  },
  {
   "cell_type": "code",
   "execution_count": 630,
   "id": "07fd7bbf",
   "metadata": {},
   "outputs": [],
   "source": [
    "df1 = df[ (df.claim_date < (pd.to_datetime(\"01-October-2018\",format=\"%d-%B-%Y\")+pd.DateOffset(days=-20)))]\n"
   ]
  },
  {
   "cell_type": "code",
   "execution_count": 631,
   "id": "b1a61d79",
   "metadata": {},
   "outputs": [
    {
     "data": {
      "text/plain": [
       "Timestamp('2018-09-06 00:00:00')"
      ]
     },
     "execution_count": 631,
     "metadata": {},
     "output_type": "execute_result"
    }
   ],
   "source": [
    "df1.claim_date.max()"
   ]
  },
  {
   "cell_type": "code",
   "execution_count": 632,
   "id": "d478ce25",
   "metadata": {},
   "outputs": [
    {
     "data": {
      "text/html": [
       "<div>\n",
       "<style scoped>\n",
       "    .dataframe tbody tr th:only-of-type {\n",
       "        vertical-align: middle;\n",
       "    }\n",
       "\n",
       "    .dataframe tbody tr th {\n",
       "        vertical-align: top;\n",
       "    }\n",
       "\n",
       "    .dataframe thead th {\n",
       "        text-align: right;\n",
       "    }\n",
       "</style>\n",
       "<table border=\"1\" class=\"dataframe\">\n",
       "  <thead>\n",
       "    <tr style=\"text-align: right;\">\n",
       "      <th></th>\n",
       "      <th>incident_cause</th>\n",
       "      <th>claim_amount</th>\n",
       "    </tr>\n",
       "  </thead>\n",
       "  <tbody>\n",
       "    <tr>\n",
       "      <th>0</th>\n",
       "      <td>Crime</td>\n",
       "      <td>7.269595e+05</td>\n",
       "    </tr>\n",
       "    <tr>\n",
       "      <th>1</th>\n",
       "      <td>Driver error</td>\n",
       "      <td>3.344546e+06</td>\n",
       "    </tr>\n",
       "    <tr>\n",
       "      <th>2</th>\n",
       "      <td>Natural causes</td>\n",
       "      <td>1.315301e+06</td>\n",
       "    </tr>\n",
       "    <tr>\n",
       "      <th>3</th>\n",
       "      <td>Other causes</td>\n",
       "      <td>3.778023e+06</td>\n",
       "    </tr>\n",
       "    <tr>\n",
       "      <th>4</th>\n",
       "      <td>Other driver error</td>\n",
       "      <td>3.342803e+06</td>\n",
       "    </tr>\n",
       "  </tbody>\n",
       "</table>\n",
       "</div>"
      ],
      "text/plain": [
       "       incident_cause  claim_amount\n",
       "0               Crime  7.269595e+05\n",
       "1        Driver error  3.344546e+06\n",
       "2      Natural causes  1.315301e+06\n",
       "3        Other causes  3.778023e+06\n",
       "4  Other driver error  3.342803e+06"
      ]
     },
     "execution_count": 632,
     "metadata": {},
     "output_type": "execute_result"
    }
   ],
   "source": [
    "df1.groupby(\"incident_cause\")[\"claim_amount\"].sum().reset_index()"
   ]
  },
  {
   "cell_type": "markdown",
   "id": "df23853e",
   "metadata": {},
   "source": [
    "#### 10. How many adults from TX, DE and AK claimed insurance for driver related issues and causes? "
   ]
  },
  {
   "cell_type": "code",
   "execution_count": 633,
   "id": "eedb0ffd",
   "metadata": {},
   "outputs": [
    {
     "data": {
      "text/plain": [
       "Other causes          289\n",
       "Driver error          260\n",
       "Other driver error    247\n",
       "Natural causes        188\n",
       "Crime                 109\n",
       "Name: incident_cause, dtype: int64"
      ]
     },
     "execution_count": 633,
     "metadata": {},
     "output_type": "execute_result"
    }
   ],
   "source": [
    "df.incident_cause.value_counts()"
   ]
  },
  {
   "cell_type": "code",
   "execution_count": 635,
   "id": "bf884a97",
   "metadata": {},
   "outputs": [],
   "source": [
    "df1 = df[df.incident_cause.isin([\"Driver error\",\"Other driver error\"])& (df.State.isin([\"TX\",\"DE\",\"AK\"]) & (df.cust_cat==\"Adult\"))]"
   ]
  },
  {
   "cell_type": "code",
   "execution_count": 636,
   "id": "f67360d2",
   "metadata": {},
   "outputs": [
    {
     "data": {
      "text/html": [
       "<div>\n",
       "<style scoped>\n",
       "    .dataframe tbody tr th:only-of-type {\n",
       "        vertical-align: middle;\n",
       "    }\n",
       "\n",
       "    .dataframe tbody tr th {\n",
       "        vertical-align: top;\n",
       "    }\n",
       "\n",
       "    .dataframe thead th {\n",
       "        text-align: right;\n",
       "    }\n",
       "</style>\n",
       "<table border=\"1\" class=\"dataframe\">\n",
       "  <thead>\n",
       "    <tr style=\"text-align: right;\">\n",
       "      <th>State</th>\n",
       "      <th>AK</th>\n",
       "      <th>DE</th>\n",
       "      <th>TX</th>\n",
       "    </tr>\n",
       "    <tr>\n",
       "      <th>incident_cause</th>\n",
       "      <th></th>\n",
       "      <th></th>\n",
       "      <th></th>\n",
       "    </tr>\n",
       "  </thead>\n",
       "  <tbody>\n",
       "    <tr>\n",
       "      <th>Driver error</th>\n",
       "      <td>5</td>\n",
       "      <td>4</td>\n",
       "      <td>3</td>\n",
       "    </tr>\n",
       "    <tr>\n",
       "      <th>Other driver error</th>\n",
       "      <td>3</td>\n",
       "      <td>5</td>\n",
       "      <td>3</td>\n",
       "    </tr>\n",
       "  </tbody>\n",
       "</table>\n",
       "</div>"
      ],
      "text/plain": [
       "State               AK  DE  TX\n",
       "incident_cause                \n",
       "Driver error         5   4   3\n",
       "Other driver error   3   5   3"
      ]
     },
     "execution_count": 636,
     "metadata": {},
     "output_type": "execute_result"
    }
   ],
   "source": [
    "pd.crosstab(index=df1.incident_cause,columns=df1.State)"
   ]
  },
  {
   "cell_type": "markdown",
   "id": "5fd54bb4",
   "metadata": {},
   "source": [
    "#### 11. Draw a pie chart between the aggregated value of claim amount based on gender and segment. Represent the claim amount as a percentage on the pie chart."
   ]
  },
  {
   "cell_type": "code",
   "execution_count": 637,
   "id": "46f0d07b",
   "metadata": {},
   "outputs": [],
   "source": [
    "a=df.groupby([\"gender\",\"Segment\"])[\"claim_amount\"].sum()"
   ]
  },
  {
   "cell_type": "code",
   "execution_count": 638,
   "id": "79cbfdc8",
   "metadata": {},
   "outputs": [
    {
     "data": {
      "text/html": [
       "<div>\n",
       "<style scoped>\n",
       "    .dataframe tbody tr th:only-of-type {\n",
       "        vertical-align: middle;\n",
       "    }\n",
       "\n",
       "    .dataframe tbody tr th {\n",
       "        vertical-align: top;\n",
       "    }\n",
       "\n",
       "    .dataframe thead th {\n",
       "        text-align: right;\n",
       "    }\n",
       "</style>\n",
       "<table border=\"1\" class=\"dataframe\">\n",
       "  <thead>\n",
       "    <tr style=\"text-align: right;\">\n",
       "      <th>gender</th>\n",
       "      <th>Female</th>\n",
       "      <th>Male</th>\n",
       "    </tr>\n",
       "    <tr>\n",
       "      <th>Segment</th>\n",
       "      <th></th>\n",
       "      <th></th>\n",
       "    </tr>\n",
       "  </thead>\n",
       "  <tbody>\n",
       "    <tr>\n",
       "      <th>Gold</th>\n",
       "      <td>2.109808e+06</td>\n",
       "      <td>2.816193e+06</td>\n",
       "    </tr>\n",
       "    <tr>\n",
       "      <th>Platinum</th>\n",
       "      <td>2.369538e+06</td>\n",
       "      <td>2.096235e+06</td>\n",
       "    </tr>\n",
       "    <tr>\n",
       "      <th>Silver</th>\n",
       "      <td>1.897204e+06</td>\n",
       "      <td>2.346741e+06</td>\n",
       "    </tr>\n",
       "  </tbody>\n",
       "</table>\n",
       "</div>"
      ],
      "text/plain": [
       "gender          Female          Male\n",
       "Segment                             \n",
       "Gold      2.109808e+06  2.816193e+06\n",
       "Platinum  2.369538e+06  2.096235e+06\n",
       "Silver    1.897204e+06  2.346741e+06"
      ]
     },
     "execution_count": 638,
     "metadata": {},
     "output_type": "execute_result"
    }
   ],
   "source": [
    "df.pivot_table(index=\"Segment\",columns=\"gender\",values=\"claim_amount\",aggfunc=\"sum\")"
   ]
  },
  {
   "cell_type": "code",
   "execution_count": 639,
   "id": "a41c1935",
   "metadata": {},
   "outputs": [
    {
     "data": {
      "image/png": "[encoded data removed]",
      "text/plain": [
       "<Figure size 432x288 with 1 Axes>"
      ]
     },
     "metadata": {},
     "output_type": "display_data"
    }
   ],
   "source": [
    "a.plot(kind=\"pie\",autopct='%1.1f%%')\n",
    "plt.show()"
   ]
  },
  {
   "cell_type": "markdown",
   "id": "4e80b9df",
   "metadata": {},
   "source": [
    "### 12. Among males and females, which gender had claimed the most for any type of driver related issues? E.g. This metric can be compared using a bar chart"
   ]
  },
  {
   "cell_type": "code",
   "execution_count": 555,
   "id": "69209fb0",
   "metadata": {},
   "outputs": [],
   "source": [
    "driver= df.loc[df.incident_cause.isin([\"Driver error\",\"Other driver error\"]),[\"incident_cause\",\"gender\"]]"
   ]
  },
  {
   "cell_type": "code",
   "execution_count": 640,
   "id": "1f64865d",
   "metadata": {},
   "outputs": [
    {
     "data": {
      "text/html": [
       "<div>\n",
       "<style scoped>\n",
       "    .dataframe tbody tr th:only-of-type {\n",
       "        vertical-align: middle;\n",
       "    }\n",
       "\n",
       "    .dataframe tbody tr th {\n",
       "        vertical-align: top;\n",
       "    }\n",
       "\n",
       "    .dataframe thead th {\n",
       "        text-align: right;\n",
       "    }\n",
       "</style>\n",
       "<table border=\"1\" class=\"dataframe\">\n",
       "  <thead>\n",
       "    <tr style=\"text-align: right;\">\n",
       "      <th></th>\n",
       "      <th>Number of incidents</th>\n",
       "    </tr>\n",
       "    <tr>\n",
       "      <th>gender</th>\n",
       "      <th></th>\n",
       "    </tr>\n",
       "  </thead>\n",
       "  <tbody>\n",
       "    <tr>\n",
       "      <th>Female</th>\n",
       "      <td>221</td>\n",
       "    </tr>\n",
       "    <tr>\n",
       "      <th>Male</th>\n",
       "      <td>286</td>\n",
       "    </tr>\n",
       "  </tbody>\n",
       "</table>\n",
       "</div>"
      ],
      "text/plain": [
       "        Number of incidents\n",
       "gender                     \n",
       "Female                  221\n",
       "Male                    286"
      ]
     },
     "execution_count": 640,
     "metadata": {},
     "output_type": "execute_result"
    }
   ],
   "source": [
    "a =driver.groupby(\"gender\").count()\n",
    "a.rename(columns={\"incident_cause\":\"Number of incidents\"},inplace=True)\n",
    "a"
   ]
  },
  {
   "cell_type": "code",
   "execution_count": 641,
   "id": "b11556a4",
   "metadata": {
    "scrolled": true
   },
   "outputs": [
    {
     "data": {
      "image/png": "[encoded data removed]",
      "text/plain": [
       "<Figure size 432x288 with 1 Axes>"
      ]
     },
     "metadata": {
      "needs_background": "light"
     },
     "output_type": "display_data"
    }
   ],
   "source": [
    "a.plot(kind='bar')\n",
    "plt.ylabel(\"Number of incidents\")\n",
    "plt.xlabel(\"Gender\")\n",
    "plt.legend()\n",
    "plt.show()"
   ]
  },
  {
   "cell_type": "markdown",
   "id": "fb59c768",
   "metadata": {},
   "source": [
    "### 13. Which age group had the maximum fraudulent policy claims? Visualize it on a bar chart"
   ]
  },
  {
   "cell_type": "code",
   "execution_count": 642,
   "id": "31f9c50e",
   "metadata": {},
   "outputs": [
    {
     "name": "stdout",
     "output_type": "stream",
     "text": [
      "<class 'pandas.core.frame.DataFrame'>\n",
      "Int64Index: 1093 entries, 282 to 1064\n",
      "Data columns (total 16 columns):\n",
      " #   Column               Non-Null Count  Dtype         \n",
      "---  ------               --------------  -----         \n",
      " 0   claim_id             1093 non-null   int64         \n",
      " 1   customer_id          1093 non-null   int64         \n",
      " 2   incident_cause       1093 non-null   object        \n",
      " 3   claim_date           1093 non-null   datetime64[ns]\n",
      " 4   claim_area           1093 non-null   object        \n",
      " 5   claim_type           1093 non-null   object        \n",
      " 6   claim_amount         1093 non-null   float64       \n",
      " 7   total_policy_claims  1093 non-null   float64       \n",
      " 8   fraudulent           1093 non-null   object        \n",
      " 9   gender               1093 non-null   object        \n",
      " 10  DateOfBirth          1078 non-null   datetime64[ns]\n",
      " 11  State                1093 non-null   object        \n",
      " 12  Segment              1093 non-null   object        \n",
      " 13  report_flag          1093 non-null   float64       \n",
      " 14  age                  1093 non-null   float64       \n",
      " 15  cust_cat             1093 non-null   category      \n",
      "dtypes: category(1), datetime64[ns](2), float64(4), int64(2), object(7)\n",
      "memory usage: 137.9+ KB\n"
     ]
    }
   ],
   "source": [
    "df.info()"
   ]
  },
  {
   "cell_type": "code",
   "execution_count": 643,
   "id": "16b96ffa",
   "metadata": {},
   "outputs": [
    {
     "data": {
      "image/png": "[encoded data removed]",
      "text/plain": [
       "<Figure size 432x288 with 1 Axes>"
      ]
     },
     "metadata": {
      "needs_background": "light"
     },
     "output_type": "display_data"
    }
   ],
   "source": [
    "df.groupby(\"cust_cat\").fraudulent.count().plot(kind='bar')\n",
    "plt.xlabel(\"Customer_Type\")\n",
    "plt.ylabel(\"Number of Fraudulent Policy\")\n",
    "plt.show()"
   ]
  },
  {
   "cell_type": "markdown",
   "id": "eb24c6c4",
   "metadata": {},
   "source": [
    "#### 14. Visualize the monthly trend of the total amount that has been claimed by the customers. Ensure that on the “month” axis, the month is in a chronological order not alphabetical order. "
   ]
  },
  {
   "cell_type": "code",
   "execution_count": 644,
   "id": "93168503",
   "metadata": {},
   "outputs": [],
   "source": [
    "df[\"Claim_Year\"] = df.claim_date.dt.year\n",
    "df[\"Claim_Month\"]=df.claim_date.dt.month\n",
    "df[\"month_name\"]=df.claim_date.dt.strftime(\"%B\")"
   ]
  },
  {
   "cell_type": "code",
   "execution_count": 645,
   "id": "72b36b3f",
   "metadata": {},
   "outputs": [
    {
     "data": {
      "text/plain": [
       "month_name\n",
       "January      1.326987e+06\n",
       "February     1.188012e+06\n",
       "March        1.348469e+06\n",
       "April        1.292461e+06\n",
       "May          1.115281e+06\n",
       "June         1.320422e+06\n",
       "July         1.382770e+06\n",
       "August       9.135070e+05\n",
       "September    9.829380e+05\n",
       "October      1.415650e+06\n",
       "November     6.259850e+05\n",
       "December     7.232365e+05\n",
       "Name: claim_amount, dtype: float64"
      ]
     },
     "execution_count": 645,
     "metadata": {},
     "output_type": "execute_result"
    }
   ],
   "source": [
    "a= df.groupby(\"month_name\").claim_amount.sum()\n",
    "month_list =[\"January\",\"February\",\"March\",\"April\",\"May\",\"June\",\"July\",\"August\",\"September\",\"October\",\"November\",\"December\"]\n",
    "a[month_list]\n"
   ]
  },
  {
   "cell_type": "code",
   "execution_count": 646,
   "id": "664eba6f",
   "metadata": {},
   "outputs": [
    {
     "data": {
      "image/png": "[encoded data removed]",
      "text/plain": [
       "<Figure size 432x288 with 1 Axes>"
      ]
     },
     "metadata": {
      "needs_background": "light"
     },
     "output_type": "display_data"
    }
   ],
   "source": [
    "a[month_list].plot(kind=\"bar\")\n",
    "plt.xlabel(\"Amount\")\n",
    "plt.show()"
   ]
  },
  {
   "cell_type": "code",
   "execution_count": 563,
   "id": "aa6cff4b",
   "metadata": {},
   "outputs": [],
   "source": [
    "#df.pivot_table(index=[\"month_name\"],columns=[\"Claim_Year\"],aggfunc=\"sum\",values=\"claim_amount\").plot(kind=\"bar\")\n",
    "#plt.show()\n"
   ]
  },
  {
   "cell_type": "markdown",
   "id": "cdab992d",
   "metadata": {},
   "source": [
    "### 15. What is the average claim amount for gender and age categories and suitably represent the above using a facetted bar chart, one facet that represents fraudulent claims and the other for non-fraudulent claims."
   ]
  },
  {
   "cell_type": "code",
   "execution_count": 564,
   "id": "edb59f2e",
   "metadata": {},
   "outputs": [],
   "source": [
    "df_fraudulent = df[df[\"fraudulent\"]==\"Yes\"]\n",
    "df_notFraudulent = df[df[\"fraudulent\"]==\"No\"]"
   ]
  },
  {
   "cell_type": "code",
   "execution_count": 565,
   "id": "8da0e158",
   "metadata": {},
   "outputs": [
    {
     "data": {
      "text/html": [
       "<div>\n",
       "<style scoped>\n",
       "    .dataframe tbody tr th:only-of-type {\n",
       "        vertical-align: middle;\n",
       "    }\n",
       "\n",
       "    .dataframe tbody tr th {\n",
       "        vertical-align: top;\n",
       "    }\n",
       "\n",
       "    .dataframe thead th {\n",
       "        text-align: right;\n",
       "    }\n",
       "</style>\n",
       "<table border=\"1\" class=\"dataframe\">\n",
       "  <thead>\n",
       "    <tr style=\"text-align: right;\">\n",
       "      <th>gender</th>\n",
       "      <th>Female</th>\n",
       "      <th>Male</th>\n",
       "    </tr>\n",
       "    <tr>\n",
       "      <th>cust_cat</th>\n",
       "      <th></th>\n",
       "      <th></th>\n",
       "    </tr>\n",
       "  </thead>\n",
       "  <tbody>\n",
       "    <tr>\n",
       "      <th>Youth</th>\n",
       "      <td>12448.667865</td>\n",
       "      <td>12291.525324</td>\n",
       "    </tr>\n",
       "    <tr>\n",
       "      <th>Adult</th>\n",
       "      <td>12374.516955</td>\n",
       "      <td>12310.428542</td>\n",
       "    </tr>\n",
       "  </tbody>\n",
       "</table>\n",
       "</div>"
      ],
      "text/plain": [
       "gender          Female          Male\n",
       "cust_cat                            \n",
       "Youth     12448.667865  12291.525324\n",
       "Adult     12374.516955  12310.428542"
      ]
     },
     "execution_count": 565,
     "metadata": {},
     "output_type": "execute_result"
    }
   ],
   "source": [
    "df_notFraudulent.pivot_table(index=\"cust_cat\",columns=\"gender\",values=\"claim_amount\",aggfunc=\"mean\")"
   ]
  },
  {
   "cell_type": "code",
   "execution_count": 647,
   "id": "c35e40b4",
   "metadata": {},
   "outputs": [
    {
     "data": {
      "image/png": "[encoded data removed]",
      "text/plain": [
       "<Figure size 432x288 with 1 Axes>"
      ]
     },
     "metadata": {
      "needs_background": "light"
     },
     "output_type": "display_data"
    }
   ],
   "source": [
    "df_notFraudulent.pivot_table(index=\"cust_cat\",columns=\"gender\",values=\"claim_amount\",aggfunc=\"mean\").plot(kind=\"bar\")\n",
    "plt.ylabel(\"Average Claim\")\n",
    "plt.show()"
   ]
  },
  {
   "cell_type": "code",
   "execution_count": 648,
   "id": "19e342f1",
   "metadata": {},
   "outputs": [
    {
     "data": {
      "text/html": [
       "<div>\n",
       "<style scoped>\n",
       "    .dataframe tbody tr th:only-of-type {\n",
       "        vertical-align: middle;\n",
       "    }\n",
       "\n",
       "    .dataframe tbody tr th {\n",
       "        vertical-align: top;\n",
       "    }\n",
       "\n",
       "    .dataframe thead th {\n",
       "        text-align: right;\n",
       "    }\n",
       "</style>\n",
       "<table border=\"1\" class=\"dataframe\">\n",
       "  <thead>\n",
       "    <tr style=\"text-align: right;\">\n",
       "      <th>gender</th>\n",
       "      <th>Female</th>\n",
       "      <th>Male</th>\n",
       "    </tr>\n",
       "    <tr>\n",
       "      <th>cust_cat</th>\n",
       "      <th></th>\n",
       "      <th></th>\n",
       "    </tr>\n",
       "  </thead>\n",
       "  <tbody>\n",
       "    <tr>\n",
       "      <th>Youth</th>\n",
       "      <td>7599.680502</td>\n",
       "      <td>10683.94733</td>\n",
       "    </tr>\n",
       "    <tr>\n",
       "      <th>Adult</th>\n",
       "      <td>12564.584237</td>\n",
       "      <td>16309.10672</td>\n",
       "    </tr>\n",
       "  </tbody>\n",
       "</table>\n",
       "</div>"
      ],
      "text/plain": [
       "gender          Female         Male\n",
       "cust_cat                           \n",
       "Youth      7599.680502  10683.94733\n",
       "Adult     12564.584237  16309.10672"
      ]
     },
     "execution_count": 648,
     "metadata": {},
     "output_type": "execute_result"
    }
   ],
   "source": [
    "df_fraudulent.pivot_table(index=\"cust_cat\",columns=\"gender\",values=\"claim_amount\",aggfunc=\"mean\")"
   ]
  },
  {
   "cell_type": "code",
   "execution_count": 649,
   "id": "9a559395",
   "metadata": {},
   "outputs": [
    {
     "data": {
      "image/png": "[encoded data removed]",
      "text/plain": [
       "<Figure size 432x288 with 1 Axes>"
      ]
     },
     "metadata": {
      "needs_background": "light"
     },
     "output_type": "display_data"
    }
   ],
   "source": [
    "df_fraudulent.pivot_table(index=\"cust_cat\",columns=\"gender\",values=\"claim_amount\",aggfunc=\"mean\").plot(kind=\"bar\")\n",
    "plt.title(\"Fraudlent Claims\")\n",
    "plt.xlabel(\"Age Group\")\n",
    "plt.ylabel(\"Average Claim Amount\")\n",
    "plt.show()"
   ]
  },
  {
   "cell_type": "markdown",
   "id": "37e28f47",
   "metadata": {},
   "source": [
    "### 16. Is there any similarity in the amount claimed by males and females?"
   ]
  },
  {
   "cell_type": "markdown",
   "id": "fff9a5bd",
   "metadata": {},
   "source": [
    "#### Hypothesis Tesing\n",
    "\n",
    "    h0: Male claim amount is similar to female claim\n",
    "    ha: Male claim amount<> female claim\n",
    "\n",
    "    CI : 95% p value=0.05\n",
    "\n",
    "    2 continunout variable -> T test\n",
    "\n"
   ]
  },
  {
   "cell_type": "code",
   "execution_count": 650,
   "id": "a16861ea",
   "metadata": {},
   "outputs": [
    {
     "data": {
      "text/plain": [
       "Male      566\n",
       "Female    527\n",
       "Name: gender, dtype: int64"
      ]
     },
     "execution_count": 650,
     "metadata": {},
     "output_type": "execute_result"
    }
   ],
   "source": [
    "df.gender.value_counts()"
   ]
  },
  {
   "cell_type": "code",
   "execution_count": 651,
   "id": "5ce245a8",
   "metadata": {},
   "outputs": [],
   "source": [
    "male_claim=df.loc[df.gender==\"Male\",\"claim_amount\"]\n",
    "female_claim = df.loc[df.gender==\"Female\",\"claim_amount\"]"
   ]
  },
  {
   "cell_type": "code",
   "execution_count": 652,
   "id": "9d81afdb",
   "metadata": {},
   "outputs": [
    {
     "data": {
      "text/plain": [
       "Ttest_indResult(statistic=0.898694241573704, pvalue=0.3690141881858279)"
      ]
     },
     "execution_count": 652,
     "metadata": {},
     "output_type": "execute_result"
    }
   ],
   "source": [
    "stats.ttest_ind(male_claim,female_claim,equal_var=False)"
   ]
  },
  {
   "cell_type": "markdown",
   "id": "a9bc8b0a",
   "metadata": {},
   "source": [
    "### p value is greater than 0.05 so We fail to reject null hypothesis"
   ]
  },
  {
   "cell_type": "markdown",
   "id": "9cb58f0f",
   "metadata": {},
   "source": [
    "### BC: Male and female claims are similar"
   ]
  },
  {
   "cell_type": "markdown",
   "id": "02bc0bbf",
   "metadata": {},
   "source": [
    "## 17. Is there any relationship between age category and segment?\n"
   ]
  },
  {
   "cell_type": "markdown",
   "id": "be879c1b",
   "metadata": {},
   "source": [
    "### Hypothesis Testing\n",
    "\n",
    "Age category and Segement -> 2 categorical Variable -> Chi square test\n",
    "\n",
    "    h0:No relationship\n",
    "    h1:Related to each other\n",
    "\n"
   ]
  },
  {
   "cell_type": "code",
   "execution_count": 654,
   "id": "03e27514",
   "metadata": {},
   "outputs": [
    {
     "data": {
      "text/plain": [
       "Adult       744\n",
       "Youth       349\n",
       "Children      0\n",
       "Senior        0\n",
       "Name: cust_cat, dtype: int64"
      ]
     },
     "execution_count": 654,
     "metadata": {},
     "output_type": "execute_result"
    }
   ],
   "source": [
    "df.cust_cat.value_counts()"
   ]
  },
  {
   "cell_type": "code",
   "execution_count": 655,
   "id": "5ca06000",
   "metadata": {},
   "outputs": [
    {
     "data": {
      "text/html": [
       "<div>\n",
       "<style scoped>\n",
       "    .dataframe tbody tr th:only-of-type {\n",
       "        vertical-align: middle;\n",
       "    }\n",
       "\n",
       "    .dataframe tbody tr th {\n",
       "        vertical-align: top;\n",
       "    }\n",
       "\n",
       "    .dataframe thead th {\n",
       "        text-align: right;\n",
       "    }\n",
       "</style>\n",
       "<table border=\"1\" class=\"dataframe\">\n",
       "  <thead>\n",
       "    <tr style=\"text-align: right;\">\n",
       "      <th>Segment</th>\n",
       "      <th>Gold</th>\n",
       "      <th>Platinum</th>\n",
       "      <th>Silver</th>\n",
       "    </tr>\n",
       "    <tr>\n",
       "      <th>cust_cat</th>\n",
       "      <th></th>\n",
       "      <th></th>\n",
       "      <th></th>\n",
       "    </tr>\n",
       "  </thead>\n",
       "  <tbody>\n",
       "    <tr>\n",
       "      <th>Youth</th>\n",
       "      <td>117</td>\n",
       "      <td>123</td>\n",
       "      <td>109</td>\n",
       "    </tr>\n",
       "    <tr>\n",
       "      <th>Adult</th>\n",
       "      <td>269</td>\n",
       "      <td>238</td>\n",
       "      <td>237</td>\n",
       "    </tr>\n",
       "  </tbody>\n",
       "</table>\n",
       "</div>"
      ],
      "text/plain": [
       "Segment   Gold  Platinum  Silver\n",
       "cust_cat                        \n",
       "Youth      117       123     109\n",
       "Adult      269       238     237"
      ]
     },
     "execution_count": 655,
     "metadata": {},
     "output_type": "execute_result"
    }
   ],
   "source": [
    "obs_freq =pd.crosstab(index = df.cust_cat,columns= df.Segment)\n",
    "obs_freq"
   ]
  },
  {
   "cell_type": "code",
   "execution_count": 656,
   "id": "8bf32b56",
   "metadata": {},
   "outputs": [
    {
     "data": {
      "text/plain": [
       "(1.2566858651757313,\n",
       " 0.5334750731429394,\n",
       " 2,\n",
       " array([[123.2516011 , 115.26898445, 110.47941446],\n",
       "        [262.7483989 , 245.73101555, 235.52058554]]))"
      ]
     },
     "execution_count": 656,
     "metadata": {},
     "output_type": "execute_result"
    }
   ],
   "source": [
    "stats.chi2_contingency( obs_freq )"
   ]
  },
  {
   "cell_type": "markdown",
   "id": "b8ca8b20",
   "metadata": {},
   "source": [
    "#### We fail to reject null hypothesis\n",
    "#### No relationship between Age Category and Segments"
   ]
  },
  {
   "cell_type": "markdown",
   "id": "845d3237",
   "metadata": {},
   "source": [
    "## 18. The current year has shown a significant rise in claim amounts as compared to 2016-17 fiscal average which was $10,000."
   ]
  },
  {
   "cell_type": "code",
   "execution_count": 657,
   "id": "5dfc3376",
   "metadata": {},
   "outputs": [
    {
     "data": {
      "text/plain": [
       "(492, 19)"
      ]
     },
     "execution_count": 657,
     "metadata": {},
     "output_type": "execute_result"
    }
   ],
   "source": [
    "#taking current year as 2018\n",
    "df[df[\"Claim_Year\"]==2018].shape"
   ]
  },
  {
   "cell_type": "code",
   "execution_count": 658,
   "id": "1dcd228e",
   "metadata": {},
   "outputs": [
    {
     "data": {
      "text/plain": [
       "(601, 19)"
      ]
     },
     "execution_count": 658,
     "metadata": {},
     "output_type": "execute_result"
    }
   ],
   "source": [
    "df[df[\"Claim_Year\"]==2017].shape"
   ]
  },
  {
   "cell_type": "code",
   "execution_count": 659,
   "id": "e5ad5fca",
   "metadata": {},
   "outputs": [
    {
     "data": {
      "text/plain": [
       "2018"
      ]
     },
     "execution_count": 659,
     "metadata": {},
     "output_type": "execute_result"
    }
   ],
   "source": [
    "df[\"Claim_Year\"].max()"
   ]
  },
  {
   "cell_type": "markdown",
   "id": "1694b30e",
   "metadata": {},
   "source": [
    "#### Hypothesis Testing\n",
    "\n",
    "        h0: Average Claim amount in current year(2018) <= $10,000\n",
    "        h1: Average claim amount in 2018 > $10,000\n",
    "        CI =95% P-Value = 0.05\n",
    "        One Sample T test"
   ]
  },
  {
   "cell_type": "code",
   "execution_count": 660,
   "id": "0aecf676",
   "metadata": {},
   "outputs": [],
   "source": [
    "year_2018=df[df[\"Claim_Year\"]==2018][\"claim_amount\"]"
   ]
  },
  {
   "cell_type": "code",
   "execution_count": 661,
   "id": "0fe0c4e2",
   "metadata": {},
   "outputs": [
    {
     "data": {
      "text/plain": [
       "Ttest_1sampResult(statistic=4.4147704931665, pvalue=1.2444078618606088e-05)"
      ]
     },
     "execution_count": 661,
     "metadata": {},
     "output_type": "execute_result"
    }
   ],
   "source": [
    "stats.ttest_1samp(year_2018,10000)"
   ]
  },
  {
   "cell_type": "markdown",
   "id": "9f3c2b70",
   "metadata": {},
   "source": [
    "##### p value is > 0.05 we fail to reject null hypothesis \n",
    "#### Average Claim Amount in 2018> 10,000"
   ]
  },
  {
   "cell_type": "markdown",
   "id": "77c05dc1",
   "metadata": {},
   "source": [
    "## 19. Is there any difference between age groups and insurance claims?"
   ]
  },
  {
   "cell_type": "code",
   "execution_count": 662,
   "id": "1d51626e",
   "metadata": {},
   "outputs": [
    {
     "name": "stdout",
     "output_type": "stream",
     "text": [
      "<class 'pandas.core.frame.DataFrame'>\n",
      "Int64Index: 1093 entries, 282 to 1064\n",
      "Data columns (total 19 columns):\n",
      " #   Column               Non-Null Count  Dtype         \n",
      "---  ------               --------------  -----         \n",
      " 0   claim_id             1093 non-null   int64         \n",
      " 1   customer_id          1093 non-null   int64         \n",
      " 2   incident_cause       1093 non-null   object        \n",
      " 3   claim_date           1093 non-null   datetime64[ns]\n",
      " 4   claim_area           1093 non-null   object        \n",
      " 5   claim_type           1093 non-null   object        \n",
      " 6   claim_amount         1093 non-null   float64       \n",
      " 7   total_policy_claims  1093 non-null   float64       \n",
      " 8   fraudulent           1093 non-null   object        \n",
      " 9   gender               1093 non-null   object        \n",
      " 10  DateOfBirth          1078 non-null   datetime64[ns]\n",
      " 11  State                1093 non-null   object        \n",
      " 12  Segment              1093 non-null   object        \n",
      " 13  report_flag          1093 non-null   float64       \n",
      " 14  age                  1093 non-null   float64       \n",
      " 15  cust_cat             1093 non-null   category      \n",
      " 16  Claim_Year           1093 non-null   int64         \n",
      " 17  Claim_Month          1093 non-null   int64         \n",
      " 18  month_name           1093 non-null   object        \n",
      "dtypes: category(1), datetime64[ns](2), float64(4), int64(4), object(8)\n",
      "memory usage: 163.5+ KB\n"
     ]
    }
   ],
   "source": [
    "df.info()#taking claim amount"
   ]
  },
  {
   "cell_type": "code",
   "execution_count": 663,
   "id": "88e3cdec",
   "metadata": {},
   "outputs": [
    {
     "data": {
      "text/plain": [
       "Adult       744\n",
       "Youth       349\n",
       "Children      0\n",
       "Senior        0\n",
       "Name: cust_cat, dtype: int64"
      ]
     },
     "execution_count": 663,
     "metadata": {},
     "output_type": "execute_result"
    }
   ],
   "source": [
    "df.cust_cat.value_counts()#only 2 categories"
   ]
  },
  {
   "cell_type": "code",
   "execution_count": 664,
   "id": "2ca88f1c",
   "metadata": {},
   "outputs": [],
   "source": [
    "adult= df.loc[df[\"cust_cat\"]==\"Adult\",\"claim_amount\"]\n",
    "youth = df.loc[df[\"cust_cat\"]==\"Youth\",\"claim_amount\"]\n"
   ]
  },
  {
   "cell_type": "markdown",
   "id": "b553c174",
   "metadata": {},
   "source": [
    "#### HYPOTHESIS TESTING\n",
    "    H0: AGE group and Claims are not related\n",
    "    H1: Age group and claims are related\n",
    "    CI: 95% p value=0.05\n",
    "    "
   ]
  },
  {
   "cell_type": "code",
   "execution_count": 666,
   "id": "4457f8b1",
   "metadata": {},
   "outputs": [
    {
     "data": {
      "text/plain": [
       "Ttest_indResult(statistic=1.3254162393330977, pvalue=0.1853106125835954)"
      ]
     },
     "execution_count": 666,
     "metadata": {},
     "output_type": "execute_result"
    }
   ],
   "source": [
    "stats.ttest_ind(adult,youth)\n"
   ]
  },
  {
   "cell_type": "markdown",
   "id": "54534cb4",
   "metadata": {},
   "source": [
    "#### pvalue>0.05 ->  we fail to reject null hypothesis ---- Age group and Claims are different"
   ]
  },
  {
   "cell_type": "markdown",
   "id": "03715bf0",
   "metadata": {},
   "source": [
    "### 20. Is there any relationship between total number of policy claims and the claimed amount?"
   ]
  },
  {
   "cell_type": "markdown",
   "id": "6c931335",
   "metadata": {},
   "source": [
    "    ho: No relatiionship between total number policy claims and claimed amount\n",
    "    h1: Total number of policy claims and claimed amount are related\n",
    "    CI : 95% Pvalue=0.05"
   ]
  },
  {
   "cell_type": "code",
   "execution_count": 670,
   "id": "e81ea944",
   "metadata": {},
   "outputs": [
    {
     "data": {
      "text/plain": [
       "[1.0, 2.0, 3.0, 4.0, 5.0, 6.0, 7.0, 8.0]"
      ]
     },
     "execution_count": 670,
     "metadata": {},
     "output_type": "execute_result"
    }
   ],
   "source": [
    "list(df.total_policy_claims.value_counts().index)"
   ]
  },
  {
   "cell_type": "code",
   "execution_count": 676,
   "id": "fa9c9174",
   "metadata": {},
   "outputs": [],
   "source": [
    "df_policy = dict()\n",
    "for i in list(df.total_policy_claims.value_counts().index):\n",
    "    df_policy[i] = df.loc[df[\"total_policy_claims\"]==i,\"claim_amount\"] \n"
   ]
  },
  {
   "cell_type": "code",
   "execution_count": 677,
   "id": "52ebbcdc",
   "metadata": {},
   "outputs": [
    {
     "data": {
      "text/plain": [
       "F_onewayResult(statistic=0.885445718575065, pvalue=0.517207400989369)"
      ]
     },
     "execution_count": 677,
     "metadata": {},
     "output_type": "execute_result"
    }
   ],
   "source": [
    "stats.f_oneway(df_policy[1],df_policy[2],df_policy[3],df_policy[4],df_policy[5],df_policy[6],df_policy[7],df_policy[8])"
   ]
  },
  {
   "cell_type": "markdown",
   "id": "2e02613a",
   "metadata": {},
   "source": [
    "#### pvalue >0.05\n",
    "#### we fail to reject null hypothesis\n",
    "### BC: No relationship between Number of Policy claims and claimed amount"
   ]
  },
  {
   "cell_type": "code",
   "execution_count": null,
   "id": "159804ab",
   "metadata": {},
   "outputs": [],
   "source": []
  }
 ],
 "metadata": {
  "kernelspec": {
   "display_name": "Python 3",
   "language": "python",
   "name": "python3"
  },
  "language_info": {
   "codemirror_mode": {
    "name": "ipython",
    "version": 3
   },
   "file_extension": ".py",
   "mimetype": "text/x-python",
   "name": "python",
   "nbconvert_exporter": "python",
   "pygments_lexer": "ipython3",
   "version": "3.8.8"
  }
 },
 "nbformat": 4,
 "nbformat_minor": 5
}
